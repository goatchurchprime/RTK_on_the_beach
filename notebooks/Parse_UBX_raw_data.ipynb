{
 "cells": [
  {
   "cell_type": "markdown",
   "metadata": {},
   "source": [
    "This code reads from a .ubx file logged using ubxstreamtifiles.py or copied from the phone and parses it into records, then identifies the UBX-NAV-SVINFO records and turns its data into a pandas table.  \n",
    "\n",
    "We can plot this data according to satellite quality to see how changes in the shielding or the tilt of the device affects what it can see in the sky.\n",
    "\n",
    "It is currently incomplete because we have no need for all the information.  \n",
    "The count of satellites with quality=\"code and carrier locked and time synchronized\"\n",
    "has been programmed into the Hanglog3 display so we can see the quality in the field.\n"
   ]
  },
  {
   "cell_type": "code",
   "execution_count": 10,
   "metadata": {},
   "outputs": [],
   "source": [
    "import struct\n",
    "\n",
    "def parsegenubxrecords(x):\n",
    "    k = x.find(b\"\\xb5\\x62\")\n",
    "    while k != -1:\n",
    "        x = x[k:]\n",
    "        if len(x) < 6:\n",
    "            break\n",
    "        payloadlength = x[4] + x[5]*256\n",
    "        if len(x) < 8 + payloadlength:\n",
    "            break\n",
    "        comm = x[2:6+payloadlength]\n",
    "        ca, cb = 0, 0\n",
    "        for c in comm:\n",
    "            ca = (ca + c) & 0xFF\n",
    "            cb = (cb + ca) & 0xFF\n",
    "        if (x[6+payloadlength], x[7+payloadlength]) == (ca, cb):\n",
    "            yield x[2], x[3], x[6:6+payloadlength]\n",
    "            x = x[8+payloadlength:]\n",
    "        else:\n",
    "            print(\"Bad checksum x-\", len(x), payloadlength)\n",
    "            #print(x[:10+payloadlength])\n",
    "            x = x[2:]\n",
    "        k = x.find(b\"\\xb5\\x62\")\n",
    "        if k > 0:\n",
    "            print(\"skipping\", k, \"bytes between records\")\n",
    "\n",
    "def parseUBX_NAV_SVINFO(payload):  # 0x01, 0x30\n",
    "    iTOW, numCH, globalFlags, reserved1 = struct.unpack(\"<IBBH\", payload[:8])\n",
    "    iTOW, numCH, globalFlags, reserved1\n",
    "    assert len(payload) == 8 + 12*numCH\n",
    "    srecs = [ ]\n",
    "    blockvars = (\"chn\", \"svid\", \"flags\", \"quality\", \"cno\", \"elev\", \"azim\", \"prRes\")\n",
    "    for i in range(numCH):\n",
    "        srec = dict(zip(blockvars, struct.unpack(\"<BBBBBbhi\", payload[8+i*12:20+i*12])))\n",
    "        srec[\"iTOW\"] = iTOW\n",
    "        srecs.append(srec)\n",
    "    return srecs\n",
    "\n",
    "def parseUBX_NAV_CLOCK(payload):  # 0x01, 0x22\n",
    "    iTOW, numCH, globalFlags, reserved1 = struct.unpack(\"<IBBH\", payload[:8])\n",
    "    iTOW, numCH, globalFlags, reserved1\n",
    "    assert len(payload) == 8 + 12*numCH\n",
    "    srecs = [ ]\n",
    "    blockvars = (\"iTOW\", \"clkB\", \"clkD\", \"tAcc\", \"fAcc\")\n",
    "    return dict(zip(blockvars, struct.unpack(\"<IiiII\", payload)))\n",
    "\n",
    "\n",
    "#if (r[0], r[1]) == (0x01, 0x30):\n",
    "#    parseUBX_NAV_SVINFO(r[2])\n",
    "#if (r[0], r[1]) == (0x01, 0x22):\n",
    "#    parseUBX_NAV_CLOCK(r[2])\n",
    "#if (r[0], r[1]) == (0x02, 0x15):\n",
    "#    parseUBX_RXM_RAWX(r[2])\n",
    "#if (r[0], r[1]) == (0x02, 0x13):\n",
    "#    parseUBX_RXM_SFRBX(r[2])\n"
   ]
  },
  {
   "cell_type": "code",
   "execution_count": 11,
   "metadata": {},
   "outputs": [],
   "source": [
    "fdata = \"../sparedata/dataB.ubx\"\n",
    "fdata = \"../hanglog/dd_20200714204857/sdhdata-2020-07-14_20-48-44C.ubx\"\n",
    "fdata = \"/home/julian/repositories/RTK_on_the_beach/hanglog/dd_20200715192549/hdata-2020-07-15_08-53-15C.ubx\"\n",
    "fdata = \"../junk/h3/dataC.ubx\"\n",
    "\n",
    "x = open(fdata, \"rb\").read()\n",
    "recs = list(parsegenubxrecords(x))\n"
   ]
  },
  {
   "cell_type": "code",
   "execution_count": 12,
   "metadata": {},
   "outputs": [
    {
     "data": {
      "text/plain": [
       "{(1, 34), (1, 48), (2, 21), (33, 4)}"
      ]
     },
     "execution_count": 12,
     "metadata": {},
     "output_type": "execute_result"
    }
   ],
   "source": [
    "set([(r[0], r[1]) for r in recs])"
   ]
  },
  {
   "cell_type": "code",
   "execution_count": 9,
   "metadata": {},
   "outputs": [
    {
     "data": {
      "text/plain": [
       "33"
      ]
     },
     "execution_count": 9,
     "metadata": {},
     "output_type": "execute_result"
    }
   ],
   "source": [
    "x.find(b\"\\xb5\\x62\\x01\\x30\")\n",
    "0x21"
   ]
  },
  {
   "cell_type": "code",
   "execution_count": 4,
   "metadata": {},
   "outputs": [],
   "source": [
    "for k in recs:\n",
    "    if k[0] == 0x21 and k[1] == 0x04:\n",
    "        y.append(k[2])\n",
    "        print(k[2])"
   ]
  },
  {
   "cell_type": "code",
   "execution_count": 13,
   "metadata": {},
   "outputs": [
    {
     "name": "stdout",
     "output_type": "stream",
     "text": [
      "35700\n"
     ]
    }
   ],
   "source": [
    "q = x.find(b\"\\xb5\\x62\\x21\\x04\")\n",
    "q1 = x.find(b\"\\xb5\\x62\\x21\\x04\", 700)\n",
    "print(q1)\n",
    "list(parsegenubxrecords(x[q+1000:q1+40]))[-5:]\n",
    "y = []\n",
    "for k in parsegenubxrecords(x):\n",
    "    if k[0] == 0x21 and k[1] == 0x04:\n",
    "        y.append(k[2])\n",
    "\n"
   ]
  },
  {
   "cell_type": "code",
   "execution_count": 14,
   "metadata": {},
   "outputs": [
    {
     "name": "stdout",
     "output_type": "stream",
     "text": [
      "b'battvolt=3.00v'\n"
     ]
    }
   ],
   "source": [
    "for k in y:\n",
    "    print(k)\n"
   ]
  },
  {
   "cell_type": "code",
   "execution_count": 133,
   "metadata": {},
   "outputs": [],
   "source": [
    "import struct\n",
    "import pandas\n",
    "\n",
    "srecs = [ ]\n",
    "for r in recs:\n",
    "    if (r[0], r[1]) == (0x01, 0x30):\n",
    "        srecs.extend(parseUBX_NAV_SVINFO(r[2]))\n",
    "df = pandas.DataFrame(srecs)\n",
    "\n",
    "df[\"iTOW\"] = df.iTOW*pandas.Timedelta(1, \"ms\")\n",
    "df[\"td\"] = df[\"iTOW\"]\n",
    "df = df.set_index(\"td\")\n",
    "df.index.name = \"\"\n",
    "\n",
    "flagbits = (\"svUsed\", \"diffCorr\", \"orbitAvail\", \"orbitEph\", \"unhealthy\", \"orbitAlm\", \"orbitAop\", \"smoothed\")\n",
    "for i, f in enumerate(flagbits):\n",
    "    df[f] = (df.flags & (1<<i)).astype(bool)\n",
    "del df[\"flags\"]\n",
    "\n",
    "#quality: 0: no signal\n",
    "#         1: searching signal\n",
    "#         2: signal acquired\n",
    "#         3: signal detected but unusable\n",
    "#         4: code locked and time synchronized\n",
    "#         5, 6, 7: code and carrier locked and time synchronized\n"
   ]
  },
  {
   "cell_type": "code",
   "execution_count": 134,
   "metadata": {},
   "outputs": [
    {
     "data": {
      "text/plain": [
       "Timestamp('2020-02-02 00:00:00')"
      ]
     },
     "execution_count": 134,
     "metadata": {},
     "output_type": "execute_result"
    }
   ],
   "source": [
    "pandas.to_datetime(\"2020-02-02\")"
   ]
  },
  {
   "cell_type": "code",
   "execution_count": 135,
   "metadata": {},
   "outputs": [
    {
     "data": {
      "text/plain": [
       "<matplotlib.collections.PathCollection at 0x7fb2e5685ad0>"
      ]
     },
     "execution_count": 135,
     "metadata": {},
     "output_type": "execute_result"
    },
    {
     "data": {
      "image/png": "[encoded data removed]",
      "text/plain": [
       "<Figure size 432x288 with 1 Axes>"
      ]
     },
     "metadata": {
      "needs_background": "light"
     },
     "output_type": "display_data"
    }
   ],
   "source": [
    "%matplotlib inline\n",
    "from matplotlib import pyplot as plt\n",
    "from pandas.plotting import register_matplotlib_converters\n",
    "register_matplotlib_converters()\n",
    "\n",
    "ts, y = [ ], [ ]\n",
    "for index, row in df.iterrows():\n",
    "    if row.quality <= 4 and row.chn != 255:\n",
    "        ts.append(pandas.to_datetime(\"2020-02-02\") + row.iTOW)\n",
    "        y.append(row.chn)\n",
    "plt.plot(ts, [0]*len(y))\n",
    "plt.scatter(ts, y)\n",
    "\n",
    "ts, y = [ ], [ ]\n",
    "for index, row in df.iterrows():\n",
    "    if row.quality > 4 and row.chn != 255:\n",
    "        ts.append(pandas.to_datetime(\"2020-02-02\") + row.iTOW)\n",
    "        y.append(row.chn)\n",
    "plt.scatter(ts, y)\n"
   ]
  },
  {
   "cell_type": "code",
   "execution_count": 136,
   "metadata": {},
   "outputs": [
    {
     "data": {
      "text/plain": [
       "{2, 3, 4, 5, 6, 7, 9, 17, 19, 23, 26, 29, 65, 71, 72, 73, 74, 80, 81, 87, 88}"
      ]
     },
     "execution_count": 136,
     "metadata": {},
     "output_type": "execute_result"
    }
   ],
   "source": [
    "set(df.svid)"
   ]
  },
  {
   "cell_type": "code",
   "execution_count": 58,
   "metadata": {},
   "outputs": [
    {
     "data": {
      "text/html": [
       "<div>\n",
       "<style scoped>\n",
       "    .dataframe tbody tr th:only-of-type {\n",
       "        vertical-align: middle;\n",
       "    }\n",
       "\n",
       "    .dataframe tbody tr th {\n",
       "        vertical-align: top;\n",
       "    }\n",
       "\n",
       "    .dataframe thead th {\n",
       "        text-align: right;\n",
       "    }\n",
       "</style>\n",
       "<table border=\"1\" class=\"dataframe\">\n",
       "  <thead>\n",
       "    <tr style=\"text-align: right;\">\n",
       "      <th></th>\n",
       "      <th>chn</th>\n",
       "      <th>svid</th>\n",
       "      <th>flags</th>\n",
       "      <th>quality</th>\n",
       "      <th>cno</th>\n",
       "      <th>elev</th>\n",
       "      <th>azim</th>\n",
       "      <th>prRes</th>\n",
       "    </tr>\n",
       "    <tr>\n",
       "      <th></th>\n",
       "      <th></th>\n",
       "      <th></th>\n",
       "      <th></th>\n",
       "      <th></th>\n",
       "      <th></th>\n",
       "      <th></th>\n",
       "      <th></th>\n",
       "      <th></th>\n",
       "    </tr>\n",
       "  </thead>\n",
       "  <tbody>\n",
       "    <tr>\n",
       "      <td>1 days 13:08:46.800000</td>\n",
       "      <td>9</td>\n",
       "      <td>7</td>\n",
       "      <td>4</td>\n",
       "      <td>1</td>\n",
       "      <td>0</td>\n",
       "      <td>11</td>\n",
       "      <td>331</td>\n",
       "      <td>0</td>\n",
       "    </tr>\n",
       "    <tr>\n",
       "      <td>1 days 13:08:46.800000</td>\n",
       "      <td>2</td>\n",
       "      <td>8</td>\n",
       "      <td>13</td>\n",
       "      <td>7</td>\n",
       "      <td>40</td>\n",
       "      <td>17</td>\n",
       "      <td>270</td>\n",
       "      <td>44</td>\n",
       "    </tr>\n",
       "    <tr>\n",
       "      <td>1 days 13:08:46.800000</td>\n",
       "      <td>0</td>\n",
       "      <td>16</td>\n",
       "      <td>13</td>\n",
       "      <td>6</td>\n",
       "      <td>28</td>\n",
       "      <td>76</td>\n",
       "      <td>260</td>\n",
       "      <td>-643</td>\n",
       "    </tr>\n",
       "    <tr>\n",
       "      <td>1 days 13:08:46.800000</td>\n",
       "      <td>12</td>\n",
       "      <td>18</td>\n",
       "      <td>13</td>\n",
       "      <td>7</td>\n",
       "      <td>36</td>\n",
       "      <td>51</td>\n",
       "      <td>66</td>\n",
       "      <td>22</td>\n",
       "    </tr>\n",
       "    <tr>\n",
       "      <td>1 days 13:08:46.800000</td>\n",
       "      <td>11</td>\n",
       "      <td>20</td>\n",
       "      <td>13</td>\n",
       "      <td>7</td>\n",
       "      <td>32</td>\n",
       "      <td>32</td>\n",
       "      <td>123</td>\n",
       "      <td>-87</td>\n",
       "    </tr>\n",
       "    <tr>\n",
       "      <td>...</td>\n",
       "      <td>...</td>\n",
       "      <td>...</td>\n",
       "      <td>...</td>\n",
       "      <td>...</td>\n",
       "      <td>...</td>\n",
       "      <td>...</td>\n",
       "      <td>...</td>\n",
       "      <td>...</td>\n",
       "    </tr>\n",
       "    <tr>\n",
       "      <td>1 days 13:08:57.600000</td>\n",
       "      <td>5</td>\n",
       "      <td>80</td>\n",
       "      <td>13</td>\n",
       "      <td>4</td>\n",
       "      <td>11</td>\n",
       "      <td>26</td>\n",
       "      <td>179</td>\n",
       "      <td>1112</td>\n",
       "    </tr>\n",
       "    <tr>\n",
       "      <td>1 days 13:08:57.600000</td>\n",
       "      <td>10</td>\n",
       "      <td>82</td>\n",
       "      <td>13</td>\n",
       "      <td>6</td>\n",
       "      <td>28</td>\n",
       "      <td>41</td>\n",
       "      <td>50</td>\n",
       "      <td>1327</td>\n",
       "    </tr>\n",
       "    <tr>\n",
       "      <td>1 days 13:08:57.600000</td>\n",
       "      <td>13</td>\n",
       "      <td>83</td>\n",
       "      <td>4</td>\n",
       "      <td>1</td>\n",
       "      <td>0</td>\n",
       "      <td>79</td>\n",
       "      <td>299</td>\n",
       "      <td>0</td>\n",
       "    </tr>\n",
       "    <tr>\n",
       "      <td>1 days 13:08:57.600000</td>\n",
       "      <td>6</td>\n",
       "      <td>84</td>\n",
       "      <td>13</td>\n",
       "      <td>7</td>\n",
       "      <td>31</td>\n",
       "      <td>23</td>\n",
       "      <td>243</td>\n",
       "      <td>301</td>\n",
       "    </tr>\n",
       "    <tr>\n",
       "      <td>1 days 13:08:57.600000</td>\n",
       "      <td>7</td>\n",
       "      <td>255</td>\n",
       "      <td>0</td>\n",
       "      <td>3</td>\n",
       "      <td>39</td>\n",
       "      <td>-91</td>\n",
       "      <td>0</td>\n",
       "      <td>0</td>\n",
       "    </tr>\n",
       "  </tbody>\n",
       "</table>\n",
       "<p>982 rows × 8 columns</p>\n",
       "</div>"
      ],
      "text/plain": [
       "                        chn  svid  flags  quality  cno  elev  azim  prRes\n",
       "                                                                         \n",
       "1 days 13:08:46.800000    9     7      4        1    0    11   331      0\n",
       "1 days 13:08:46.800000    2     8     13        7   40    17   270     44\n",
       "1 days 13:08:46.800000    0    16     13        6   28    76   260   -643\n",
       "1 days 13:08:46.800000   12    18     13        7   36    51    66     22\n",
       "1 days 13:08:46.800000   11    20     13        7   32    32   123    -87\n",
       "...                     ...   ...    ...      ...  ...   ...   ...    ...\n",
       "1 days 13:08:57.600000    5    80     13        4   11    26   179   1112\n",
       "1 days 13:08:57.600000   10    82     13        6   28    41    50   1327\n",
       "1 days 13:08:57.600000   13    83      4        1    0    79   299      0\n",
       "1 days 13:08:57.600000    6    84     13        7   31    23   243    301\n",
       "1 days 13:08:57.600000    7   255      0        3   39   -91     0      0\n",
       "\n",
       "[982 rows x 8 columns]"
      ]
     },
     "execution_count": 58,
     "metadata": {},
     "output_type": "execute_result"
    }
   ],
   "source": [
    "df[\"td\"] = df.iTOW*pandas.Timedelta(1, \"ms\")\n",
    "k = df.set_index(\"td\")\n",
    "k.index.name = \"\"\n",
    "del k[\"iTOW\"]\n",
    "k"
   ]
  },
  {
   "cell_type": "code",
   "execution_count": 35,
   "metadata": {},
   "outputs": [
    {
     "data": {
      "text/plain": [
       "pandas.core.frame.DataFrame"
      ]
     },
     "execution_count": 35,
     "metadata": {},
     "output_type": "execute_result"
    }
   ],
   "source": [
    "import pandas\n",
    "pandas.DataFrame\n",
    " df = pd.DataFrame(index=np.arange(0, numberOfRows), columns=('lib', 'qty1', 'qty2') )\n",
    "s"
   ]
  },
  {
   "cell_type": "code",
   "execution_count": null,
   "metadata": {},
   "outputs": [],
   "source": [
    "#vUsed\n",
    "diffCorr\n",
    "orbitAvail\n",
    "orbitEph\n",
    "unhealthy\n",
    "orbitAlm\n",
    "orbitAop\n",
    "smoothed\n"
   ]
  }
 ],
 "metadata": {
  "kernelspec": {
   "display_name": "Python 3",
   "language": "python",
   "name": "python3"
  },
  "language_info": {
   "codemirror_mode": {
    "name": "ipython",
    "version": 3
   },
   "file_extension": ".py",
   "mimetype": "text/x-python",
   "name": "python",
   "nbconvert_exporter": "python",
   "pygments_lexer": "ipython3",
   "version": "3.7.4"
  }
 },
 "nbformat": 4,
 "nbformat_minor": 2
}
