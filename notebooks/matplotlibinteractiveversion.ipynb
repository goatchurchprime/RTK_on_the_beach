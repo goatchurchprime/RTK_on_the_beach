{
 "cells": [
  {
   "cell_type": "code",
   "execution_count": 45,
   "metadata": {},
   "outputs": [
    {
     "data": {
      "text/plain": [
       "7"
      ]
     },
     "execution_count": 45,
     "metadata": {},
     "output_type": "execute_result"
    }
   ],
   "source": [
    "import os\n",
    "#from ubxpostutils import genconfig\n",
    "\n",
    "# /home/julian/extrepositories/RTKLIB-rtkexplorer/app/rtkrcv/gcc/rtkrcv -s -o \n",
    "# /home/julian/repositories/RTK_on_the_beach/conf/csingle.conf\n",
    "from ubxpostutils import genconfig\n",
    "\n"
   ]
  },
  {
   "cell_type": "code",
   "execution_count": 46,
   "metadata": {},
   "outputs": [
    {
     "data": {
      "text/plain": [
       "<function ubxpostutils.genconfig(fdir, clines)>"
      ]
     },
     "execution_count": 46,
     "metadata": {},
     "output_type": "execute_result"
    }
   ],
   "source": [
    "# !!! make all the ports configurable with good names that match the \n",
    "# port names given in the application\n",
    "\n",
    "# find what ports are still open with netstat -anp | less\n"
   ]
  },
  {
   "cell_type": "code",
   "execution_count": 16,
   "metadata": {},
   "outputs": [
    {
     "name": "stdout",
     "output_type": "stream",
     "text": [
      "/home/julian/extrepositories/RTKLIB-rtkexplorer/app/rtkrcv/gcc/rtkrcv -p 9049 -s -o /tmp/temp.conf\n",
      "process started None\n",
      "rtkrcvsocket open\n",
      "<**> sending back a password\n"
     ]
    },
    {
     "data": {
      "text/plain": [
       "\"b'\\\\xff\\\\xfb\\\\x03\\\\xff\\\\xfb\\\\x01\\\\r\\\\n'\\nb'\\\\x1b[1m** rtkrcv ver.demo5 b31 console (h:help) **\\\\x1b[0m\\\\r\\\\n'\\nb'password: * \\\\x08\\\\r\\\\n'\""
      ]
     },
     "execution_count": 16,
     "metadata": {},
     "output_type": "execute_result"
    },
    {
     "name": "stdout",
     "output_type": "stream",
     "text": [
      "<**> sending back a password\n",
      "<**> sending back a password\n"
     ]
    }
   ],
   "source": [
    "# Firstly we must operate the system with a single station on the base station \n",
    "# and be able to average it to create the base station value\n",
    "\n",
    "# This will require monitoring the rtkrcv server thing till it starts getting good \n",
    "# GPS values and we lift a whole bunch into the POS file\n",
    "\n",
    "# Then we generate a new config file for it and the rover with that base station \n",
    "# position injected into it\n",
    "\n",
    "import os\n",
    "import sys\n",
    "sys.path.append(\"../scripts\")\n",
    "from ubxpostutils import genconfig\n",
    "from posbankthread import RtkRcvController\n",
    "\n",
    "# /home/julian/extrepositories/RTKLIB-rtkexplorer/app/rtkrcv/gcc/rtkrcv -s -o \n",
    "# /home/julian/repositories/RTK_on_the_beach/conf/csingle.conf\n",
    "\n",
    "fdir = \"/tmp\"\n",
    "fcmdfileCCC = os.path.join(fdir, \"fcmdfileCCC.txt\")\n",
    "open(fcmdfileCCC, \"w\").write(\"-CCC\\n@\\n\")\n",
    "\n",
    "fconfig = genconfig(fdir, [\"out-solformat      =llh\", \n",
    "                           \"inpstr1-type       =tcpcli\",\n",
    "                           \"inpstr1-path       =:@192.168.43.1:9042/::\",\n",
    "                           \"inpstr1-format     =ubx\",\n",
    "                           \"file-cmdfile1      =%s\" % fcmdfileCCC,\n",
    "                           \"outstr1-type       =tcpsvr\",\n",
    "                           \"outstr1-path       =:@192.168.43.1:9063/::\", \n",
    "                           \"pos1-posmode       =single\"])\n",
    "\n",
    "rtkrcvc = RtkRcvController(fconfig, telnetport=9049)\n",
    "rtkrcvc.start()\n",
    "rtkrcvc.sendrcvcmd(\"stream\")\n"
   ]
  },
  {
   "cell_type": "code",
   "execution_count": null,
   "metadata": {},
   "outputs": [],
   "source": [
    "# We need to control the rtkrcv code for a bit"
   ]
  },
  {
   "cell_type": "code",
   "execution_count": 20,
   "metadata": {},
   "outputs": [
    {
     "name": "stdout",
     "output_type": "stream",
     "text": [
      "b'rtkrcv> s \\x08t \\x08r \\x08e \\x08a \\x08m \\x08\\r\\n'\n",
      "b'\\r\\n'\n",
      "b'\\x1b[1mStream       Type     Fmt   S    In-byte  In-bps   Out-byte Out-bps Path                     Message\\x1b[0m\\r\\n'\n",
      "b'input rover  tcpcli   ubx   C      29309   18290          6       0 :@192.168.43.1:9042/::   192.168.43.1\\r\\n'\n",
      "b'input base   -        rtcm2 -          0       0          0       0                          \\r\\n'\n",
      "b'input corr   -        rtcm2 -          0       0          0       0                          \\r\\n'\n",
      "b'output sol1  tcpsvr   llh   C          0       0          0       0 :@192.168.43.1:9063/::   waiting...\\r\\n'\n",
      "b'output sol2  -        llh   -          0       0          0       0                          \\r\\n'\n",
      "b'log rover    -        -     -          0       0          0       0                          \\r\\n'\n",
      "b'log base     -        -     -          0       0          0       0                          \\r\\n'\n",
      "b'log corr     -        -     -          0       0          0       0                          \\r\\n'\n",
      "b'monitor      -        llh   -          0       0          0       0                          \\r\\n'\n"
     ]
    }
   ],
   "source": [
    "print(rtkrcvc.sendrcvcmd(\"stream\"))\n"
   ]
  },
  {
   "cell_type": "code",
   "execution_count": 21,
   "metadata": {},
   "outputs": [
    {
     "name": "stdout",
     "output_type": "stream",
     "text": [
      "b'rtkrcv> s \\x08t \\x08a \\x08t \\x08u \\x08s \\x08\\r\\n'\n",
      "b'\\r\\n'\n",
      "b'\\x1b[1mParameter                   : Value\\x1b[0m\\r\\n'\n",
      "b'rtklib version              : demo5 b31\\r\\n'\n",
      "b'rtk server thread           : -1416743168\\r\\n'\n",
      "b'rtk server state            : run\\r\\n'\n",
      "b'processing cycle (ms)       : 10\\r\\n'\n",
      "b'positioning mode            : single\\r\\n'\n",
      "b'frequencies                 : L1+L2\\r\\n'\n",
      "b'accumulated time to run     : 00:00:17.2\\r\\n'\n",
      "b'cpu time for a cycle (ms)   : 1\\r\\n'\n",
      "b'missing obs data count      : 0\\r\\n'\n",
      "b'bytes in input buffer       : 0,0\\r\\n'\n",
      "b'# of input data rover       : obs(86),nav(0),gnav(0),ion(0),sbs(0),pos(0),dgps(0),ssr(0),err(0)\\r\\n'\n",
      "b'# of input data base        : obs(0),nav(0),gnav(0),ion(0),sbs(0),pos(0),dgps(0),ssr(0),err(0)\\r\\n'\n",
      "b'# of input data corr        : obs(0),nav(0),gnav(0),ion(0),sbs(0),pos(0),dgps(0),ssr(0),err(0)\\r\\n'\n",
      "b'# of rtcm messages rover    : \\r\\n'\n",
      "b'# of rtcm messages base     : \\r\\n'\n",
      "b'# of rtcm messages corr     : \\r\\n'\n",
      "b'solution status             : -\\r\\n'\n",
      "b'time of receiver clock rover: 2019/07/13 15:34:15.195000000\\r\\n'\n",
      "b'time sys offset (ns)        : 0.000,0.000,0.000,0.000\\r\\n'\n",
      "b'solution interval (s)       : 0.200\\r\\n'\n",
      "b'age of differential (s)     : 0.000\\r\\n'\n",
      "b'ratio for ar validation     : 0.000\\r\\n'\n",
      "b'# of satellites rover       : 1\\r\\n'\n",
      "b'# of satellites base        : 0\\r\\n'\n",
      "b'# of valid satellites       : 0\\r\\n'\n",
      "b'GDOP/PDOP/HDOP/VDOP         : 0.0,0.0,0.0,0.0\\r\\n'\n",
      "b'# of real estimated states  : 9\\r\\n'\n",
      "b'# of all estimated states   : 9\\r\\n'\n",
      "b'pos xyz single (m) rover    : 0.000,0.000,0.000\\r\\n'\n",
      "b'pos llh single (deg,m) rover: 0.00000000,0.00000000,0.000\\r\\n'\n",
      "b'vel enu (m/s) rover         : 0.000,0.000,0.000\\r\\n'\n",
      "b'pos xyz float (m) rover     : 0.000,0.000,0.000\\r\\n'\n",
      "b'pos xyz float std (m) rover : 0.000,0.000,0.000\\r\\n'\n",
      "b'pos xyz fixed (m) rover     : 0.000,0.000,0.000\\r\\n'\n",
      "b'pos xyz fixed std (m) rover : 0.000,0.000,0.000\\r\\n'\n",
      "b'pos xyz (m) base            : 0.000,0.000,0.000\\r\\n'\n",
      "b'pos llh (deg,m) base        : 0.00000000,0.00000000,0.000\\r\\n'\n",
      "b'# of average single pos base: 0\\r\\n'\n",
      "b'ant type rover              : \\r\\n'\n",
      "b'ant delta rover             : 0.000 0.000 0.000\\r\\n'\n",
      "b'ant type base               : \\r\\n'\n",
      "b'ant delta base              : 0.000 0.000 0.000\\r\\n'\n",
      "b'vel enu (m/s) base          : 0.000,0.000,0.000\\r\\n'\n",
      "b'baseline length float (m)   : 0.000\\r\\n'\n",
      "b'baseline length fixed (m)   : 0.000\\r\\n'\n",
      "b'last time mark              : -\\r\\n'\n",
      "b'receiver time mark count    : 0\\r\\n'\n",
      "b'rtklib time mark count      : 0\\r\\n'\n"
     ]
    }
   ],
   "source": [
    "print(rtkrcvc.sendrcvcmd(\"status\"))\n"
   ]
  },
  {
   "cell_type": "code",
   "execution_count": 22,
   "metadata": {},
   "outputs": [
    {
     "ename": "KeyboardInterrupt",
     "evalue": "",
     "output_type": "error",
     "traceback": [
      "\u001b[0;31m---------------------------------------------------------------------------\u001b[0m",
      "\u001b[0;31mKeyboardInterrupt\u001b[0m                         Traceback (most recent call last)",
      "\u001b[0;32m<ipython-input-22-e4dfea8ba277>\u001b[0m in \u001b[0;36m<module>\u001b[0;34m\u001b[0m\n\u001b[0;32m----> 1\u001b[0;31m \u001b[0mprint\u001b[0m\u001b[0;34m(\u001b[0m\u001b[0mrtkrcvc\u001b[0m\u001b[0;34m.\u001b[0m\u001b[0mrtkrcvprocess\u001b[0m\u001b[0;34m.\u001b[0m\u001b[0mstdout\u001b[0m\u001b[0;34m.\u001b[0m\u001b[0mread\u001b[0m\u001b[0;34m(\u001b[0m\u001b[0;34m)\u001b[0m\u001b[0;34m)\u001b[0m\u001b[0;34m\u001b[0m\u001b[0m\n\u001b[0m",
      "\u001b[0;31mKeyboardInterrupt\u001b[0m: "
     ]
    }
   ],
   "source": [
    "print(rtkrcvc.rtkrcvprocess.stdout.read())\n"
   ]
  },
  {
   "cell_type": "code",
   "execution_count": 24,
   "metadata": {},
   "outputs": [
    {
     "ename": "BrokenPipeError",
     "evalue": "[Errno 32] Broken pipe",
     "output_type": "error",
     "traceback": [
      "\u001b[0;31m---------------------------------------------------------------------------\u001b[0m",
      "\u001b[0;31mBrokenPipeError\u001b[0m                           Traceback (most recent call last)",
      "\u001b[0;32m<ipython-input-24-fa53ba63e9af>\u001b[0m in \u001b[0;36m<module>\u001b[0;34m\u001b[0m\n\u001b[0;32m----> 1\u001b[0;31m \u001b[0mprint\u001b[0m\u001b[0;34m(\u001b[0m\u001b[0mrtkrcvc\u001b[0m\u001b[0;34m.\u001b[0m\u001b[0msendrcvcmd\u001b[0m\u001b[0;34m(\u001b[0m\u001b[0;34m\"shutdown\"\u001b[0m\u001b[0;34m)\u001b[0m\u001b[0;34m)\u001b[0m\u001b[0;34m\u001b[0m\u001b[0m\n\u001b[0m",
      "\u001b[0;32m~/repositories/RTK_on_the_beach/notebooks/posbankthread.py\u001b[0m in \u001b[0;36msendrcvcmd\u001b[0;34m(self, s)\u001b[0m\n\u001b[1;32m    237\u001b[0m     \u001b[0;32mdef\u001b[0m \u001b[0msendrcvcmd\u001b[0m\u001b[0;34m(\u001b[0m\u001b[0mself\u001b[0m\u001b[0;34m,\u001b[0m \u001b[0ms\u001b[0m\u001b[0;34m)\u001b[0m\u001b[0;34m:\u001b[0m\u001b[0;34m\u001b[0m\u001b[0m\n\u001b[1;32m    238\u001b[0m         \u001b[0mself\u001b[0m\u001b[0;34m.\u001b[0m\u001b[0moutputlines\u001b[0m\u001b[0;34m.\u001b[0m\u001b[0mclear\u001b[0m\u001b[0;34m(\u001b[0m\u001b[0;34m)\u001b[0m\u001b[0;34m\u001b[0m\u001b[0m\n\u001b[0;32m--> 239\u001b[0;31m         \u001b[0mself\u001b[0m\u001b[0;34m.\u001b[0m\u001b[0mrtkrcvsocketfile\u001b[0m\u001b[0;34m.\u001b[0m\u001b[0mwrite\u001b[0m\u001b[0;34m(\u001b[0m\u001b[0ms\u001b[0m\u001b[0;34m.\u001b[0m\u001b[0mencode\u001b[0m\u001b[0;34m(\u001b[0m\u001b[0;34m)\u001b[0m\u001b[0;34m+\u001b[0m\u001b[0;34mb\"\\r\\n\"\u001b[0m\u001b[0;34m)\u001b[0m\u001b[0;34m\u001b[0m\u001b[0m\n\u001b[0m\u001b[1;32m    240\u001b[0m         \u001b[0mtime\u001b[0m\u001b[0;34m.\u001b[0m\u001b[0msleep\u001b[0m\u001b[0;34m(\u001b[0m\u001b[0;36m0.5\u001b[0m\u001b[0;34m)\u001b[0m\u001b[0;34m\u001b[0m\u001b[0m\n\u001b[1;32m    241\u001b[0m         \u001b[0;32mreturn\u001b[0m \u001b[0;34m(\u001b[0m\u001b[0;34m\"\\n\"\u001b[0m\u001b[0;34m.\u001b[0m\u001b[0mjoin\u001b[0m\u001b[0;34m(\u001b[0m\u001b[0mmap\u001b[0m\u001b[0;34m(\u001b[0m\u001b[0mstr\u001b[0m\u001b[0;34m,\u001b[0m \u001b[0mself\u001b[0m\u001b[0;34m.\u001b[0m\u001b[0moutputlines\u001b[0m\u001b[0;34m)\u001b[0m\u001b[0;34m)\u001b[0m\u001b[0;34m)\u001b[0m\u001b[0;34m\u001b[0m\u001b[0m\n",
      "\u001b[0;32m~/anaconda3/lib/python3.6/socket.py\u001b[0m in \u001b[0;36mwrite\u001b[0;34m(self, b)\u001b[0m\n\u001b[1;32m    602\u001b[0m         \u001b[0mself\u001b[0m\u001b[0;34m.\u001b[0m\u001b[0m_checkWritable\u001b[0m\u001b[0;34m(\u001b[0m\u001b[0;34m)\u001b[0m\u001b[0;34m\u001b[0m\u001b[0m\n\u001b[1;32m    603\u001b[0m         \u001b[0;32mtry\u001b[0m\u001b[0;34m:\u001b[0m\u001b[0;34m\u001b[0m\u001b[0m\n\u001b[0;32m--> 604\u001b[0;31m             \u001b[0;32mreturn\u001b[0m \u001b[0mself\u001b[0m\u001b[0;34m.\u001b[0m\u001b[0m_sock\u001b[0m\u001b[0;34m.\u001b[0m\u001b[0msend\u001b[0m\u001b[0;34m(\u001b[0m\u001b[0mb\u001b[0m\u001b[0;34m)\u001b[0m\u001b[0;34m\u001b[0m\u001b[0m\n\u001b[0m\u001b[1;32m    605\u001b[0m         \u001b[0;32mexcept\u001b[0m \u001b[0merror\u001b[0m \u001b[0;32mas\u001b[0m \u001b[0me\u001b[0m\u001b[0;34m:\u001b[0m\u001b[0;34m\u001b[0m\u001b[0m\n\u001b[1;32m    606\u001b[0m             \u001b[0;31m# XXX what about EINTR?\u001b[0m\u001b[0;34m\u001b[0m\u001b[0;34m\u001b[0m\u001b[0m\n",
      "\u001b[0;31mBrokenPipeError\u001b[0m: [Errno 32] Broken pipe"
     ]
    },
    {
     "name": "stdout",
     "output_type": "stream",
     "text": [
      " <class 'MemoryError'>\n"
     ]
    }
   ],
   "source": [
    "print(rtkrcvc.sendrcvcmd(\"shutdown\"))\n"
   ]
  },
  {
   "cell_type": "code",
   "execution_count": null,
   "metadata": {},
   "outputs": [],
   "source": []
  },
  {
   "cell_type": "code",
   "execution_count": null,
   "metadata": {},
   "outputs": [],
   "source": []
  },
  {
   "cell_type": "code",
   "execution_count": null,
   "metadata": {},
   "outputs": [],
   "source": [
    "\n",
    "# The below handles the rover and base station and can set up the tracking shape\n"
   ]
  },
  {
   "cell_type": "code",
   "execution_count": 18,
   "metadata": {},
   "outputs": [
    {
     "data": {
      "text/plain": [
       "<PositionBank(Thread-9, started daemon 140230515357440)>"
      ]
     },
     "execution_count": 18,
     "metadata": {},
     "output_type": "execute_result"
    }
   ],
   "source": [
    "#\n",
    "# This is where the normal stuff starts\n",
    "# (moving data via the dynamic devices sockets copied to the bottom)\n",
    "#\n",
    "\n",
    "# /home/julian/extrepositories/RTKLIB-rtkexplorer/app/rtkrcv/gcc/rtkrcv -s -o /home/julian/repositories/RTK_on_the_beach/conf/csingle.conf\n",
    "\n",
    "# /home/julian/extrepositories/RTKLIB-rtkexplorer/app/rtkrcv/gcc/rtkrcv -s -o /home/julian/repositories/RTK_on_the_beach/conf/ackinematic.conf\n",
    "\n",
    "\n",
    "# this command should be run from python where we can generate the config file\n",
    "# Then check status with commands stream and status\n",
    "\n",
    "# Cannot run the code below in jupyter labs, use notebook\n",
    "\n"
   ]
  },
  {
   "cell_type": "code",
   "execution_count": 4,
   "metadata": {},
   "outputs": [
    {
     "name": "stdout",
     "output_type": "stream",
     "text": [
      "connecting to port 9063\n",
      "port 9063 open\n",
      "b'2019/07/13 09:50:14.800   53.395365053   -2.972502494    87.9758   2   9   0.2169   0.2300   0.4891   0.1235   0.0660  -0.1102   3.19    0.0\\n'\n"
     ]
    }
   ],
   "source": [
    "from posbankthread import PositionBank, DarknessMeasureFlash\n",
    "#posbank = PositionBank(port=\"random\")\n",
    "posbank = PositionBank(port=9063)\n",
    "posbank.start()\n",
    "# posbank.sockerrfile.close()"
   ]
  },
  {
   "cell_type": "code",
   "execution_count": 38,
   "metadata": {},
   "outputs": [
    {
     "name": "stdout",
     "output_type": "stream",
     "text": [
      "0.19661364683334007 -1.6824827838476168 85.9673\n"
     ]
    }
   ],
   "source": [
    "print(posbank.x, posbank.y, posbank.z)"
   ]
  },
  {
   "cell_type": "code",
   "execution_count": 4,
   "metadata": {},
   "outputs": [
    {
     "ename": "NameError",
     "evalue": "name 'posbankA' is not defined",
     "output_type": "error",
     "traceback": [
      "\u001b[0;31m---------------------------------------------------------------------------\u001b[0m",
      "\u001b[0;31mNameError\u001b[0m                                 Traceback (most recent call last)",
      "\u001b[0;32m<ipython-input-4-3a7057e6e117>\u001b[0m in \u001b[0;36m<module>\u001b[0;34m\u001b[0m\n\u001b[0;32m----> 1\u001b[0;31m \u001b[0mposbankB\u001b[0m\u001b[0;34m.\u001b[0m\u001b[0mlat0\u001b[0m\u001b[0;34m,\u001b[0m \u001b[0mposbankB\u001b[0m\u001b[0;34m.\u001b[0m\u001b[0mlng0\u001b[0m \u001b[0;34m=\u001b[0m \u001b[0mposbankA\u001b[0m\u001b[0;34m.\u001b[0m\u001b[0mlat0\u001b[0m\u001b[0;34m,\u001b[0m \u001b[0mposbankA\u001b[0m\u001b[0;34m.\u001b[0m\u001b[0mlng0\u001b[0m\u001b[0;34m\u001b[0m\u001b[0m\n\u001b[0m",
      "\u001b[0;31mNameError\u001b[0m: name 'posbankA' is not defined"
     ]
    }
   ],
   "source": [
    "# We must somehow get the averaged base position into the config file"
   ]
  },
  {
   "cell_type": "code",
   "execution_count": 39,
   "metadata": {},
   "outputs": [
    {
     "data": {
      "application/javascript": [
       "/* Put everything inside the global mpl namespace */\n",
       "window.mpl = {};\n",
       "\n",
       "\n",
       "mpl.get_websocket_type = function() {\n",
       "    if (typeof(WebSocket) !== 'undefined') {\n",
       "        return WebSocket;\n",
       "    } else if (typeof(MozWebSocket) !== 'undefined') {\n",
       "        return MozWebSocket;\n",
       "    } else {\n",
       "        alert('Your browser does not have WebSocket support.' +\n",
       "              'Please try Chrome, Safari or Firefox ≥ 6. ' +\n",
       "              'Firefox 4 and 5 are also supported but you ' +\n",
       "              'have to enable WebSockets in about:config.');\n",
       "    };\n",
       "}\n",
       "\n",
       "mpl.figure = function(figure_id, websocket, ondownload, parent_element) {\n",
       "    this.id = figure_id;\n",
       "\n",
       "    this.ws = websocket;\n",
       "\n",
       "    this.supports_binary = (this.ws.binaryType != undefined);\n",
       "\n",
       "    if (!this.supports_binary) {\n",
       "        var warnings = document.getElementById(\"mpl-warnings\");\n",
       "        if (warnings) {\n",
       "            warnings.style.display = 'block';\n",
       "            warnings.textContent = (\n",
       "                \"This browser does not support binary websocket messages. \" +\n",
       "                    \"Performance may be slow.\");\n",
       "        }\n",
       "    }\n",
       "\n",
       "    this.imageObj = new Image();\n",
       "\n",
       "    this.context = undefined;\n",
       "    this.message = undefined;\n",
       "    this.canvas = undefined;\n",
       "    this.rubberband_canvas = undefined;\n",
       "    this.rubberband_context = undefined;\n",
       "    this.format_dropdown = undefined;\n",
       "\n",
       "    this.image_mode = 'full';\n",
       "\n",
       "    this.root = $('<div/>');\n",
       "    this._root_extra_style(this.root)\n",
       "    this.root.attr('style', 'display: inline-block');\n",
       "\n",
       "    $(parent_element).append(this.root);\n",
       "\n",
       "    this._init_header(this);\n",
       "    this._init_canvas(this);\n",
       "    this._init_toolbar(this);\n",
       "\n",
       "    var fig = this;\n",
       "\n",
       "    this.waiting = false;\n",
       "\n",
       "    this.ws.onopen =  function () {\n",
       "            fig.send_message(\"supports_binary\", {value: fig.supports_binary});\n",
       "            fig.send_message(\"send_image_mode\", {});\n",
       "            if (mpl.ratio != 1) {\n",
       "                fig.send_message(\"set_dpi_ratio\", {'dpi_ratio': mpl.ratio});\n",
       "            }\n",
       "            fig.send_message(\"refresh\", {});\n",
       "        }\n",
       "\n",
       "    this.imageObj.onload = function() {\n",
       "            if (fig.image_mode == 'full') {\n",
       "                // Full images could contain transparency (where diff images\n",
       "                // almost always do), so we need to clear the canvas so that\n",
       "                // there is no ghosting.\n",
       "                fig.context.clearRect(0, 0, fig.canvas.width, fig.canvas.height);\n",
       "            }\n",
       "            fig.context.drawImage(fig.imageObj, 0, 0);\n",
       "        };\n",
       "\n",
       "    this.imageObj.onunload = function() {\n",
       "        fig.ws.close();\n",
       "    }\n",
       "\n",
       "    this.ws.onmessage = this._make_on_message_function(this);\n",
       "\n",
       "    this.ondownload = ondownload;\n",
       "}\n",
       "\n",
       "mpl.figure.prototype._init_header = function() {\n",
       "    var titlebar = $(\n",
       "        '<div class=\"ui-dialog-titlebar ui-widget-header ui-corner-all ' +\n",
       "        'ui-helper-clearfix\"/>');\n",
       "    var titletext = $(\n",
       "        '<div class=\"ui-dialog-title\" style=\"width: 100%; ' +\n",
       "        'text-align: center; padding: 3px;\"/>');\n",
       "    titlebar.append(titletext)\n",
       "    this.root.append(titlebar);\n",
       "    this.header = titletext[0];\n",
       "}\n",
       "\n",
       "\n",
       "\n",
       "mpl.figure.prototype._canvas_extra_style = function(canvas_div) {\n",
       "\n",
       "}\n",
       "\n",
       "\n",
       "mpl.figure.prototype._root_extra_style = function(canvas_div) {\n",
       "\n",
       "}\n",
       "\n",
       "mpl.figure.prototype._init_canvas = function() {\n",
       "    var fig = this;\n",
       "\n",
       "    var canvas_div = $('<div/>');\n",
       "\n",
       "    canvas_div.attr('style', 'position: relative; clear: both; outline: 0');\n",
       "\n",
       "    function canvas_keyboard_event(event) {\n",
       "        return fig.key_event(event, event['data']);\n",
       "    }\n",
       "\n",
       "    canvas_div.keydown('key_press', canvas_keyboard_event);\n",
       "    canvas_div.keyup('key_release', canvas_keyboard_event);\n",
       "    this.canvas_div = canvas_div\n",
       "    this._canvas_extra_style(canvas_div)\n",
       "    this.root.append(canvas_div);\n",
       "\n",
       "    var canvas = $('<canvas/>');\n",
       "    canvas.addClass('mpl-canvas');\n",
       "    canvas.attr('style', \"left: 0; top: 0; z-index: 0; outline: 0\")\n",
       "\n",
       "    this.canvas = canvas[0];\n",
       "    this.context = canvas[0].getContext(\"2d\");\n",
       "\n",
       "    var backingStore = this.context.backingStorePixelRatio ||\n",
       "\tthis.context.webkitBackingStorePixelRatio ||\n",
       "\tthis.context.mozBackingStorePixelRatio ||\n",
       "\tthis.context.msBackingStorePixelRatio ||\n",
       "\tthis.context.oBackingStorePixelRatio ||\n",
       "\tthis.context.backingStorePixelRatio || 1;\n",
       "\n",
       "    mpl.ratio = (window.devicePixelRatio || 1) / backingStore;\n",
       "\n",
       "    var rubberband = $('<canvas/>');\n",
       "    rubberband.attr('style', \"position: absolute; left: 0; top: 0; z-index: 1;\")\n",
       "\n",
       "    var pass_mouse_events = true;\n",
       "\n",
       "    canvas_div.resizable({\n",
       "        start: function(event, ui) {\n",
       "            pass_mouse_events = false;\n",
       "        },\n",
       "        resize: function(event, ui) {\n",
       "            fig.request_resize(ui.size.width, ui.size.height);\n",
       "        },\n",
       "        stop: function(event, ui) {\n",
       "            pass_mouse_events = true;\n",
       "            fig.request_resize(ui.size.width, ui.size.height);\n",
       "        },\n",
       "    });\n",
       "\n",
       "    function mouse_event_fn(event) {\n",
       "        if (pass_mouse_events)\n",
       "            return fig.mouse_event(event, event['data']);\n",
       "    }\n",
       "\n",
       "    rubberband.mousedown('button_press', mouse_event_fn);\n",
       "    rubberband.mouseup('button_release', mouse_event_fn);\n",
       "    // Throttle sequential mouse events to 1 every 20ms.\n",
       "    rubberband.mousemove('motion_notify', mouse_event_fn);\n",
       "\n",
       "    rubberband.mouseenter('figure_enter', mouse_event_fn);\n",
       "    rubberband.mouseleave('figure_leave', mouse_event_fn);\n",
       "\n",
       "    canvas_div.on(\"wheel\", function (event) {\n",
       "        event = event.originalEvent;\n",
       "        event['data'] = 'scroll'\n",
       "        if (event.deltaY < 0) {\n",
       "            event.step = 1;\n",
       "        } else {\n",
       "            event.step = -1;\n",
       "        }\n",
       "        mouse_event_fn(event);\n",
       "    });\n",
       "\n",
       "    canvas_div.append(canvas);\n",
       "    canvas_div.append(rubberband);\n",
       "\n",
       "    this.rubberband = rubberband;\n",
       "    this.rubberband_canvas = rubberband[0];\n",
       "    this.rubberband_context = rubberband[0].getContext(\"2d\");\n",
       "    this.rubberband_context.strokeStyle = \"#000000\";\n",
       "\n",
       "    this._resize_canvas = function(width, height) {\n",
       "        // Keep the size of the canvas, canvas container, and rubber band\n",
       "        // canvas in synch.\n",
       "        canvas_div.css('width', width)\n",
       "        canvas_div.css('height', height)\n",
       "\n",
       "        canvas.attr('width', width * mpl.ratio);\n",
       "        canvas.attr('height', height * mpl.ratio);\n",
       "        canvas.attr('style', 'width: ' + width + 'px; height: ' + height + 'px;');\n",
       "\n",
       "        rubberband.attr('width', width);\n",
       "        rubberband.attr('height', height);\n",
       "    }\n",
       "\n",
       "    // Set the figure to an initial 600x600px, this will subsequently be updated\n",
       "    // upon first draw.\n",
       "    this._resize_canvas(600, 600);\n",
       "\n",
       "    // Disable right mouse context menu.\n",
       "    $(this.rubberband_canvas).bind(\"contextmenu\",function(e){\n",
       "        return false;\n",
       "    });\n",
       "\n",
       "    function set_focus () {\n",
       "        canvas.focus();\n",
       "        canvas_div.focus();\n",
       "    }\n",
       "\n",
       "    window.setTimeout(set_focus, 100);\n",
       "}\n",
       "\n",
       "mpl.figure.prototype._init_toolbar = function() {\n",
       "    var fig = this;\n",
       "\n",
       "    var nav_element = $('<div/>')\n",
       "    nav_element.attr('style', 'width: 100%');\n",
       "    this.root.append(nav_element);\n",
       "\n",
       "    // Define a callback function for later on.\n",
       "    function toolbar_event(event) {\n",
       "        return fig.toolbar_button_onclick(event['data']);\n",
       "    }\n",
       "    function toolbar_mouse_event(event) {\n",
       "        return fig.toolbar_button_onmouseover(event['data']);\n",
       "    }\n",
       "\n",
       "    for(var toolbar_ind in mpl.toolbar_items) {\n",
       "        var name = mpl.toolbar_items[toolbar_ind][0];\n",
       "        var tooltip = mpl.toolbar_items[toolbar_ind][1];\n",
       "        var image = mpl.toolbar_items[toolbar_ind][2];\n",
       "        var method_name = mpl.toolbar_items[toolbar_ind][3];\n",
       "\n",
       "        if (!name) {\n",
       "            // put a spacer in here.\n",
       "            continue;\n",
       "        }\n",
       "        var button = $('<button/>');\n",
       "        button.addClass('ui-button ui-widget ui-state-default ui-corner-all ' +\n",
       "                        'ui-button-icon-only');\n",
       "        button.attr('role', 'button');\n",
       "        button.attr('aria-disabled', 'false');\n",
       "        button.click(method_name, toolbar_event);\n",
       "        button.mouseover(tooltip, toolbar_mouse_event);\n",
       "\n",
       "        var icon_img = $('<span/>');\n",
       "        icon_img.addClass('ui-button-icon-primary ui-icon');\n",
       "        icon_img.addClass(image);\n",
       "        icon_img.addClass('ui-corner-all');\n",
       "\n",
       "        var tooltip_span = $('<span/>');\n",
       "        tooltip_span.addClass('ui-button-text');\n",
       "        tooltip_span.html(tooltip);\n",
       "\n",
       "        button.append(icon_img);\n",
       "        button.append(tooltip_span);\n",
       "\n",
       "        nav_element.append(button);\n",
       "    }\n",
       "\n",
       "    var fmt_picker_span = $('<span/>');\n",
       "\n",
       "    var fmt_picker = $('<select/>');\n",
       "    fmt_picker.addClass('mpl-toolbar-option ui-widget ui-widget-content');\n",
       "    fmt_picker_span.append(fmt_picker);\n",
       "    nav_element.append(fmt_picker_span);\n",
       "    this.format_dropdown = fmt_picker[0];\n",
       "\n",
       "    for (var ind in mpl.extensions) {\n",
       "        var fmt = mpl.extensions[ind];\n",
       "        var option = $(\n",
       "            '<option/>', {selected: fmt === mpl.default_extension}).html(fmt);\n",
       "        fmt_picker.append(option)\n",
       "    }\n",
       "\n",
       "    // Add hover states to the ui-buttons\n",
       "    $( \".ui-button\" ).hover(\n",
       "        function() { $(this).addClass(\"ui-state-hover\");},\n",
       "        function() { $(this).removeClass(\"ui-state-hover\");}\n",
       "    );\n",
       "\n",
       "    var status_bar = $('<span class=\"mpl-message\"/>');\n",
       "    nav_element.append(status_bar);\n",
       "    this.message = status_bar[0];\n",
       "}\n",
       "\n",
       "mpl.figure.prototype.request_resize = function(x_pixels, y_pixels) {\n",
       "    // Request matplotlib to resize the figure. Matplotlib will then trigger a resize in the client,\n",
       "    // which will in turn request a refresh of the image.\n",
       "    this.send_message('resize', {'width': x_pixels, 'height': y_pixels});\n",
       "}\n",
       "\n",
       "mpl.figure.prototype.send_message = function(type, properties) {\n",
       "    properties['type'] = type;\n",
       "    properties['figure_id'] = this.id;\n",
       "    this.ws.send(JSON.stringify(properties));\n",
       "}\n",
       "\n",
       "mpl.figure.prototype.send_draw_message = function() {\n",
       "    if (!this.waiting) {\n",
       "        this.waiting = true;\n",
       "        this.ws.send(JSON.stringify({type: \"draw\", figure_id: this.id}));\n",
       "    }\n",
       "}\n",
       "\n",
       "\n",
       "mpl.figure.prototype.handle_save = function(fig, msg) {\n",
       "    var format_dropdown = fig.format_dropdown;\n",
       "    var format = format_dropdown.options[format_dropdown.selectedIndex].value;\n",
       "    fig.ondownload(fig, format);\n",
       "}\n",
       "\n",
       "\n",
       "mpl.figure.prototype.handle_resize = function(fig, msg) {\n",
       "    var size = msg['size'];\n",
       "    if (size[0] != fig.canvas.width || size[1] != fig.canvas.height) {\n",
       "        fig._resize_canvas(size[0], size[1]);\n",
       "        fig.send_message(\"refresh\", {});\n",
       "    };\n",
       "}\n",
       "\n",
       "mpl.figure.prototype.handle_rubberband = function(fig, msg) {\n",
       "    var x0 = msg['x0'] / mpl.ratio;\n",
       "    var y0 = (fig.canvas.height - msg['y0']) / mpl.ratio;\n",
       "    var x1 = msg['x1'] / mpl.ratio;\n",
       "    var y1 = (fig.canvas.height - msg['y1']) / mpl.ratio;\n",
       "    x0 = Math.floor(x0) + 0.5;\n",
       "    y0 = Math.floor(y0) + 0.5;\n",
       "    x1 = Math.floor(x1) + 0.5;\n",
       "    y1 = Math.floor(y1) + 0.5;\n",
       "    var min_x = Math.min(x0, x1);\n",
       "    var min_y = Math.min(y0, y1);\n",
       "    var width = Math.abs(x1 - x0);\n",
       "    var height = Math.abs(y1 - y0);\n",
       "\n",
       "    fig.rubberband_context.clearRect(\n",
       "        0, 0, fig.canvas.width, fig.canvas.height);\n",
       "\n",
       "    fig.rubberband_context.strokeRect(min_x, min_y, width, height);\n",
       "}\n",
       "\n",
       "mpl.figure.prototype.handle_figure_label = function(fig, msg) {\n",
       "    // Updates the figure title.\n",
       "    fig.header.textContent = msg['label'];\n",
       "}\n",
       "\n",
       "mpl.figure.prototype.handle_cursor = function(fig, msg) {\n",
       "    var cursor = msg['cursor'];\n",
       "    switch(cursor)\n",
       "    {\n",
       "    case 0:\n",
       "        cursor = 'pointer';\n",
       "        break;\n",
       "    case 1:\n",
       "        cursor = 'default';\n",
       "        break;\n",
       "    case 2:\n",
       "        cursor = 'crosshair';\n",
       "        break;\n",
       "    case 3:\n",
       "        cursor = 'move';\n",
       "        break;\n",
       "    }\n",
       "    fig.rubberband_canvas.style.cursor = cursor;\n",
       "}\n",
       "\n",
       "mpl.figure.prototype.handle_message = function(fig, msg) {\n",
       "    fig.message.textContent = msg['message'];\n",
       "}\n",
       "\n",
       "mpl.figure.prototype.handle_draw = function(fig, msg) {\n",
       "    // Request the server to send over a new figure.\n",
       "    fig.send_draw_message();\n",
       "}\n",
       "\n",
       "mpl.figure.prototype.handle_image_mode = function(fig, msg) {\n",
       "    fig.image_mode = msg['mode'];\n",
       "}\n",
       "\n",
       "mpl.figure.prototype.updated_canvas_event = function() {\n",
       "    // Called whenever the canvas gets updated.\n",
       "    this.send_message(\"ack\", {});\n",
       "}\n",
       "\n",
       "// A function to construct a web socket function for onmessage handling.\n",
       "// Called in the figure constructor.\n",
       "mpl.figure.prototype._make_on_message_function = function(fig) {\n",
       "    return function socket_on_message(evt) {\n",
       "        if (evt.data instanceof Blob) {\n",
       "            /* FIXME: We get \"Resource interpreted as Image but\n",
       "             * transferred with MIME type text/plain:\" errors on\n",
       "             * Chrome.  But how to set the MIME type?  It doesn't seem\n",
       "             * to be part of the websocket stream */\n",
       "            evt.data.type = \"image/png\";\n",
       "\n",
       "            /* Free the memory for the previous frames */\n",
       "            if (fig.imageObj.src) {\n",
       "                (window.URL || window.webkitURL).revokeObjectURL(\n",
       "                    fig.imageObj.src);\n",
       "            }\n",
       "\n",
       "            fig.imageObj.src = (window.URL || window.webkitURL).createObjectURL(\n",
       "                evt.data);\n",
       "            fig.updated_canvas_event();\n",
       "            fig.waiting = false;\n",
       "            return;\n",
       "        }\n",
       "        else if (typeof evt.data === 'string' && evt.data.slice(0, 21) == \"data:image/png;base64\") {\n",
       "            fig.imageObj.src = evt.data;\n",
       "            fig.updated_canvas_event();\n",
       "            fig.waiting = false;\n",
       "            return;\n",
       "        }\n",
       "\n",
       "        var msg = JSON.parse(evt.data);\n",
       "        var msg_type = msg['type'];\n",
       "\n",
       "        // Call the  \"handle_{type}\" callback, which takes\n",
       "        // the figure and JSON message as its only arguments.\n",
       "        try {\n",
       "            var callback = fig[\"handle_\" + msg_type];\n",
       "        } catch (e) {\n",
       "            console.log(\"No handler for the '\" + msg_type + \"' message type: \", msg);\n",
       "            return;\n",
       "        }\n",
       "\n",
       "        if (callback) {\n",
       "            try {\n",
       "                // console.log(\"Handling '\" + msg_type + \"' message: \", msg);\n",
       "                callback(fig, msg);\n",
       "            } catch (e) {\n",
       "                console.log(\"Exception inside the 'handler_\" + msg_type + \"' callback:\", e, e.stack, msg);\n",
       "            }\n",
       "        }\n",
       "    };\n",
       "}\n",
       "\n",
       "// from http://stackoverflow.com/questions/1114465/getting-mouse-location-in-canvas\n",
       "mpl.findpos = function(e) {\n",
       "    //this section is from http://www.quirksmode.org/js/events_properties.html\n",
       "    var targ;\n",
       "    if (!e)\n",
       "        e = window.event;\n",
       "    if (e.target)\n",
       "        targ = e.target;\n",
       "    else if (e.srcElement)\n",
       "        targ = e.srcElement;\n",
       "    if (targ.nodeType == 3) // defeat Safari bug\n",
       "        targ = targ.parentNode;\n",
       "\n",
       "    // jQuery normalizes the pageX and pageY\n",
       "    // pageX,Y are the mouse positions relative to the document\n",
       "    // offset() returns the position of the element relative to the document\n",
       "    var x = e.pageX - $(targ).offset().left;\n",
       "    var y = e.pageY - $(targ).offset().top;\n",
       "\n",
       "    return {\"x\": x, \"y\": y};\n",
       "};\n",
       "\n",
       "/*\n",
       " * return a copy of an object with only non-object keys\n",
       " * we need this to avoid circular references\n",
       " * http://stackoverflow.com/a/24161582/3208463\n",
       " */\n",
       "function simpleKeys (original) {\n",
       "  return Object.keys(original).reduce(function (obj, key) {\n",
       "    if (typeof original[key] !== 'object')\n",
       "        obj[key] = original[key]\n",
       "    return obj;\n",
       "  }, {});\n",
       "}\n",
       "\n",
       "mpl.figure.prototype.mouse_event = function(event, name) {\n",
       "    var canvas_pos = mpl.findpos(event)\n",
       "\n",
       "    if (name === 'button_press')\n",
       "    {\n",
       "        this.canvas.focus();\n",
       "        this.canvas_div.focus();\n",
       "    }\n",
       "\n",
       "    var x = canvas_pos.x * mpl.ratio;\n",
       "    var y = canvas_pos.y * mpl.ratio;\n",
       "\n",
       "    this.send_message(name, {x: x, y: y, button: event.button,\n",
       "                             step: event.step,\n",
       "                             guiEvent: simpleKeys(event)});\n",
       "\n",
       "    /* This prevents the web browser from automatically changing to\n",
       "     * the text insertion cursor when the button is pressed.  We want\n",
       "     * to control all of the cursor setting manually through the\n",
       "     * 'cursor' event from matplotlib */\n",
       "    event.preventDefault();\n",
       "    return false;\n",
       "}\n",
       "\n",
       "mpl.figure.prototype._key_event_extra = function(event, name) {\n",
       "    // Handle any extra behaviour associated with a key event\n",
       "}\n",
       "\n",
       "mpl.figure.prototype.key_event = function(event, name) {\n",
       "\n",
       "    // Prevent repeat events\n",
       "    if (name == 'key_press')\n",
       "    {\n",
       "        if (event.which === this._key)\n",
       "            return;\n",
       "        else\n",
       "            this._key = event.which;\n",
       "    }\n",
       "    if (name == 'key_release')\n",
       "        this._key = null;\n",
       "\n",
       "    var value = '';\n",
       "    if (event.ctrlKey && event.which != 17)\n",
       "        value += \"ctrl+\";\n",
       "    if (event.altKey && event.which != 18)\n",
       "        value += \"alt+\";\n",
       "    if (event.shiftKey && event.which != 16)\n",
       "        value += \"shift+\";\n",
       "\n",
       "    value += 'k';\n",
       "    value += event.which.toString();\n",
       "\n",
       "    this._key_event_extra(event, name);\n",
       "\n",
       "    this.send_message(name, {key: value,\n",
       "                             guiEvent: simpleKeys(event)});\n",
       "    return false;\n",
       "}\n",
       "\n",
       "mpl.figure.prototype.toolbar_button_onclick = function(name) {\n",
       "    if (name == 'download') {\n",
       "        this.handle_save(this, null);\n",
       "    } else {\n",
       "        this.send_message(\"toolbar_button\", {name: name});\n",
       "    }\n",
       "};\n",
       "\n",
       "mpl.figure.prototype.toolbar_button_onmouseover = function(tooltip) {\n",
       "    this.message.textContent = tooltip;\n",
       "};\n",
       "mpl.toolbar_items = [[\"Home\", \"Reset original view\", \"fa fa-home icon-home\", \"home\"], [\"Back\", \"Back to  previous view\", \"fa fa-arrow-left icon-arrow-left\", \"back\"], [\"Forward\", \"Forward to next view\", \"fa fa-arrow-right icon-arrow-right\", \"forward\"], [\"\", \"\", \"\", \"\"], [\"Pan\", \"Pan axes with left mouse, zoom with right\", \"fa fa-arrows icon-move\", \"pan\"], [\"Zoom\", \"Zoom to rectangle\", \"fa fa-square-o icon-check-empty\", \"zoom\"], [\"\", \"\", \"\", \"\"], [\"Download\", \"Download plot\", \"fa fa-floppy-o icon-save\", \"download\"]];\n",
       "\n",
       "mpl.extensions = [\"eps\", \"jpeg\", \"pdf\", \"png\", \"ps\", \"raw\", \"svg\", \"tif\"];\n",
       "\n",
       "mpl.default_extension = \"png\";var comm_websocket_adapter = function(comm) {\n",
       "    // Create a \"websocket\"-like object which calls the given IPython comm\n",
       "    // object with the appropriate methods. Currently this is a non binary\n",
       "    // socket, so there is still some room for performance tuning.\n",
       "    var ws = {};\n",
       "\n",
       "    ws.close = function() {\n",
       "        comm.close()\n",
       "    };\n",
       "    ws.send = function(m) {\n",
       "        //console.log('sending', m);\n",
       "        comm.send(m);\n",
       "    };\n",
       "    // Register the callback with on_msg.\n",
       "    comm.on_msg(function(msg) {\n",
       "        //console.log('receiving', msg['content']['data'], msg);\n",
       "        // Pass the mpl event to the overridden (by mpl) onmessage function.\n",
       "        ws.onmessage(msg['content']['data'])\n",
       "    });\n",
       "    return ws;\n",
       "}\n",
       "\n",
       "mpl.mpl_figure_comm = function(comm, msg) {\n",
       "    // This is the function which gets called when the mpl process\n",
       "    // starts-up an IPython Comm through the \"matplotlib\" channel.\n",
       "\n",
       "    var id = msg.content.data.id;\n",
       "    // Get hold of the div created by the display call when the Comm\n",
       "    // socket was opened in Python.\n",
       "    var element = $(\"#\" + id);\n",
       "    var ws_proxy = comm_websocket_adapter(comm)\n",
       "\n",
       "    function ondownload(figure, format) {\n",
       "        window.open(figure.imageObj.src);\n",
       "    }\n",
       "\n",
       "    var fig = new mpl.figure(id, ws_proxy,\n",
       "                           ondownload,\n",
       "                           element.get(0));\n",
       "\n",
       "    // Call onopen now - mpl needs it, as it is assuming we've passed it a real\n",
       "    // web socket which is closed, not our websocket->open comm proxy.\n",
       "    ws_proxy.onopen();\n",
       "\n",
       "    fig.parent_element = element.get(0);\n",
       "    fig.cell_info = mpl.find_output_cell(\"<div id='\" + id + \"'></div>\");\n",
       "    if (!fig.cell_info) {\n",
       "        console.error(\"Failed to find cell for figure\", id, fig);\n",
       "        return;\n",
       "    }\n",
       "\n",
       "    var output_index = fig.cell_info[2]\n",
       "    var cell = fig.cell_info[0];\n",
       "\n",
       "};\n",
       "\n",
       "mpl.figure.prototype.handle_close = function(fig, msg) {\n",
       "    var width = fig.canvas.width/mpl.ratio\n",
       "    fig.root.unbind('remove')\n",
       "\n",
       "    // Update the output cell to use the data from the current canvas.\n",
       "    fig.push_to_output();\n",
       "    var dataURL = fig.canvas.toDataURL();\n",
       "    // Re-enable the keyboard manager in IPython - without this line, in FF,\n",
       "    // the notebook keyboard shortcuts fail.\n",
       "    IPython.keyboard_manager.enable()\n",
       "    $(fig.parent_element).html('<img src=\"' + dataURL + '\" width=\"' + width + '\">');\n",
       "    fig.close_ws(fig, msg);\n",
       "}\n",
       "\n",
       "mpl.figure.prototype.close_ws = function(fig, msg){\n",
       "    fig.send_message('closing', msg);\n",
       "    // fig.ws.close()\n",
       "}\n",
       "\n",
       "mpl.figure.prototype.push_to_output = function(remove_interactive) {\n",
       "    // Turn the data on the canvas into data in the output cell.\n",
       "    var width = this.canvas.width/mpl.ratio\n",
       "    var dataURL = this.canvas.toDataURL();\n",
       "    this.cell_info[1]['text/html'] = '<img src=\"' + dataURL + '\" width=\"' + width + '\">';\n",
       "}\n",
       "\n",
       "mpl.figure.prototype.updated_canvas_event = function() {\n",
       "    // Tell IPython that the notebook contents must change.\n",
       "    IPython.notebook.set_dirty(true);\n",
       "    this.send_message(\"ack\", {});\n",
       "    var fig = this;\n",
       "    // Wait a second, then push the new image to the DOM so\n",
       "    // that it is saved nicely (might be nice to debounce this).\n",
       "    setTimeout(function () { fig.push_to_output() }, 1000);\n",
       "}\n",
       "\n",
       "mpl.figure.prototype._init_toolbar = function() {\n",
       "    var fig = this;\n",
       "\n",
       "    var nav_element = $('<div/>')\n",
       "    nav_element.attr('style', 'width: 100%');\n",
       "    this.root.append(nav_element);\n",
       "\n",
       "    // Define a callback function for later on.\n",
       "    function toolbar_event(event) {\n",
       "        return fig.toolbar_button_onclick(event['data']);\n",
       "    }\n",
       "    function toolbar_mouse_event(event) {\n",
       "        return fig.toolbar_button_onmouseover(event['data']);\n",
       "    }\n",
       "\n",
       "    for(var toolbar_ind in mpl.toolbar_items){\n",
       "        var name = mpl.toolbar_items[toolbar_ind][0];\n",
       "        var tooltip = mpl.toolbar_items[toolbar_ind][1];\n",
       "        var image = mpl.toolbar_items[toolbar_ind][2];\n",
       "        var method_name = mpl.toolbar_items[toolbar_ind][3];\n",
       "\n",
       "        if (!name) { continue; };\n",
       "\n",
       "        var button = $('<button class=\"btn btn-default\" href=\"#\" title=\"' + name + '\"><i class=\"fa ' + image + ' fa-lg\"></i></button>');\n",
       "        button.click(method_name, toolbar_event);\n",
       "        button.mouseover(tooltip, toolbar_mouse_event);\n",
       "        nav_element.append(button);\n",
       "    }\n",
       "\n",
       "    // Add the status bar.\n",
       "    var status_bar = $('<span class=\"mpl-message\" style=\"text-align:right; float: right;\"/>');\n",
       "    nav_element.append(status_bar);\n",
       "    this.message = status_bar[0];\n",
       "\n",
       "    // Add the close button to the window.\n",
       "    var buttongrp = $('<div class=\"btn-group inline pull-right\"></div>');\n",
       "    var button = $('<button class=\"btn btn-mini btn-primary\" href=\"#\" title=\"Stop Interaction\"><i class=\"fa fa-power-off icon-remove icon-large\"></i></button>');\n",
       "    button.click(function (evt) { fig.handle_close(fig, {}); } );\n",
       "    button.mouseover('Stop Interaction', toolbar_mouse_event);\n",
       "    buttongrp.append(button);\n",
       "    var titlebar = this.root.find($('.ui-dialog-titlebar'));\n",
       "    titlebar.prepend(buttongrp);\n",
       "}\n",
       "\n",
       "mpl.figure.prototype._root_extra_style = function(el){\n",
       "    var fig = this\n",
       "    el.on(\"remove\", function(){\n",
       "\tfig.close_ws(fig, {});\n",
       "    });\n",
       "}\n",
       "\n",
       "mpl.figure.prototype._canvas_extra_style = function(el){\n",
       "    // this is important to make the div 'focusable\n",
       "    el.attr('tabindex', 0)\n",
       "    // reach out to IPython and tell the keyboard manager to turn it's self\n",
       "    // off when our div gets focus\n",
       "\n",
       "    // location in version 3\n",
       "    if (IPython.notebook.keyboard_manager) {\n",
       "        IPython.notebook.keyboard_manager.register_events(el);\n",
       "    }\n",
       "    else {\n",
       "        // location in version 2\n",
       "        IPython.keyboard_manager.register_events(el);\n",
       "    }\n",
       "\n",
       "}\n",
       "\n",
       "mpl.figure.prototype._key_event_extra = function(event, name) {\n",
       "    var manager = IPython.notebook.keyboard_manager;\n",
       "    if (!manager)\n",
       "        manager = IPython.keyboard_manager;\n",
       "\n",
       "    // Check for shift+enter\n",
       "    if (event.shiftKey && event.which == 13) {\n",
       "        this.canvas_div.blur();\n",
       "        event.shiftKey = false;\n",
       "        // Send a \"J\" for go to next cell\n",
       "        event.which = 74;\n",
       "        event.keyCode = 74;\n",
       "        manager.command_mode();\n",
       "        manager.handle_keydown(event);\n",
       "    }\n",
       "}\n",
       "\n",
       "mpl.figure.prototype.handle_save = function(fig, msg) {\n",
       "    fig.ondownload(fig, null);\n",
       "}\n",
       "\n",
       "\n",
       "mpl.find_output_cell = function(html_output) {\n",
       "    // Return the cell and output element which can be found *uniquely* in the notebook.\n",
       "    // Note - this is a bit hacky, but it is done because the \"notebook_saving.Notebook\"\n",
       "    // IPython event is triggered only after the cells have been serialised, which for\n",
       "    // our purposes (turning an active figure into a static one), is too late.\n",
       "    var cells = IPython.notebook.get_cells();\n",
       "    var ncells = cells.length;\n",
       "    for (var i=0; i<ncells; i++) {\n",
       "        var cell = cells[i];\n",
       "        if (cell.cell_type === 'code'){\n",
       "            for (var j=0; j<cell.output_area.outputs.length; j++) {\n",
       "                var data = cell.output_area.outputs[j];\n",
       "                if (data.data) {\n",
       "                    // IPython >= 3 moved mimebundle to data attribute of output\n",
       "                    data = data.data;\n",
       "                }\n",
       "                if (data['text/html'] == html_output) {\n",
       "                    return [cell, data, j];\n",
       "                }\n",
       "            }\n",
       "        }\n",
       "    }\n",
       "}\n",
       "\n",
       "// Register the function which deals with the matplotlib target/channel.\n",
       "// The kernel may be null if the page has been refreshed.\n",
       "if (IPython.notebook.kernel != null) {\n",
       "    IPython.notebook.kernel.comm_manager.register_target('matplotlib', mpl.mpl_figure_comm);\n",
       "}\n"
      ],
      "text/plain": [
       "<IPython.core.display.Javascript object>"
      ]
     },
     "metadata": {},
     "output_type": "display_data"
    },
    {
     "data": {
      "text/html": [
       "<img src=\"data:image/png;base64,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\" width=\"899.5\">"
      ],
      "text/plain": [
       "<IPython.core.display.HTML object>"
      ]
     },
     "metadata": {},
     "output_type": "display_data"
    },
    {
     "name": "stdout",
     "output_type": "stream",
     "text": [
      "flash connecting\n",
      "flash b'Hello from Android thread 20\\n'\n"
     ]
    }
   ],
   "source": [
    "%matplotlib notebook\n",
    "\n",
    "import matplotlib\n",
    "import matplotlib.animation\n",
    "import matplotlib.pyplot as plt\n",
    "import mpl_toolkits.axes_grid1\n",
    "import math\n",
    "\n",
    "matplotlib.style.use('fivethirtyeight')\n",
    "\n",
    "# First set up the figure, the axis, and the plot element we want to animate\n",
    "fig, ax = plt.subplots(figsize=(9,5))\n",
    "ax.xaxis.set_visible(False)\n",
    "ax.yaxis.set_visible(False)\n",
    "playradmetres = 20 \n",
    "playimg = matplotlib.image.imread('../shape2.png')\n",
    "\n",
    "# hard code the relative positions of the axes we draw in here\n",
    "linewidthsliderax = fig.add_axes([0.15, 0.95, 0.20, 0.04], label=\"controls\") # [left,bottom,width,height] as a proportion\n",
    "bgscalesliderax = fig.add_axes([0.15, 0.90, 0.20, 0.04], label=\"scale\")\n",
    "bgxpossliderax = fig.add_axes([0.5, 0.95, 0.5, 0.04], label=\"xposslider\")\n",
    "bgypossliderax = fig.add_axes([0.5, 0.90, 0.5, 0.04], label=\"yposslider\")\n",
    "updateratesliderax = fig.add_axes([0.08, 0.85, 0.1, 0.04], label=\"updaterate\")\n",
    "\n",
    "gax = fig.add_axes([0.05, 0.05, 0.95, 0.8], \"graphics\")\n",
    "#gax.set_aspect(\"equal\")\n",
    "\n",
    "trackline, = gax.plot([], [], lw=1)\n",
    "trackpoint, = gax.plot([], [], marker=\"o\", color=\"crimson\", ms=15)\n",
    "trackpointC, = gax.plot([], [], marker=\"o\", color=\"crimson\", ms=12)\n",
    "imgplot = gax.imshow(playimg)\n",
    "imgplot.set_extent((-playradmetres, playradmetres, -playradmetres, playradmetres))\n",
    "\n",
    "dmeasf = DarknessMeasureFlash(posbank.queuepoints, imgplot)\n",
    "dmeasf.start()\n",
    "\n",
    "gax.set_xlim((-playradmetres, playradmetres))\n",
    "gax.set_ylim((-playradmetres, playradmetres))\n",
    "\n",
    "\n",
    "def init():\n",
    "    trackline.set_data([], [])\n",
    "    return trackline,\n",
    "\n",
    "def updateframe(i):\n",
    "    k = posbank.pdposarray.iloc[:posbank.n]\n",
    "    trackline.set_data(k.x, k.y)\n",
    "    trackpoint.set_data(posbank.x, posbank.y)\n",
    "    trackpointC.set_data(posbank.x, posbank.y)\n",
    "    \n",
    "    fp = dmeasf.getunderpixelQ(posbank.x, posbank.y)\n",
    "\n",
    "    v = max(0, min(255, int(255*fp)))\n",
    "    col = \"#%.2x%.2x%.2x\" % (v,v,v)\n",
    "    trackpointC.set_color(col)\n",
    "    gax.set_title(\"frame %d, pts %d %0.2f\" % (i, posbank.n, fp))\n",
    "    return trackline,\n",
    "\n",
    "def updatefromcontrols(XX):\n",
    "    trackline.set_linewidth(linewidthslider.val)\n",
    "    xpos = bgxposslider.val\n",
    "    ypos = bgyposslider.val\n",
    "    scale = bgscaleslider.val\n",
    "    imgplot.set_extent((-playradmetres*scale+xpos, playradmetres*scale+xpos, \n",
    "                        -playradmetres*scale+ypos, playradmetres*scale+ypos))\n",
    "    \n",
    "def updateframerate(XX):\n",
    "    anim.event_source.interval = updaterateslider.val\n",
    "    \n",
    "linewidthslider = matplotlib.widgets.Slider(linewidthsliderax, 'lw', 0.1, 2, valinit=1.5)\n",
    "bgscaleslider = matplotlib.widgets.Slider(bgscalesliderax, 'scale', 0.3, 3, valinit=1.0)\n",
    "bgxposslider = matplotlib.widgets.Slider(bgxpossliderax, 'xpos', -playradmetres, playradmetres, valinit=0)\n",
    "bgyposslider = matplotlib.widgets.Slider(bgypossliderax, 'ypos', -playradmetres, playradmetres, valinit=0)\n",
    "updaterateslider = matplotlib.widgets.Slider(updateratesliderax, 'rate', 200, 5000, valinit=500)\n",
    "\n",
    "linewidthslider.on_changed(updatefromcontrols)\n",
    "bgscaleslider.on_changed(updatefromcontrols)\n",
    "bgxposslider.on_changed(updatefromcontrols)\n",
    "bgyposslider.on_changed(updatefromcontrols)\n",
    "anim = matplotlib.animation.FuncAnimation(fig, updateframe, init_func=init, interval=200, blit=True)\n",
    "updaterateslider.on_changed(updateframerate)\n",
    "updatefromcontrols(0)\n",
    "\n",
    "plt.show()\n",
    "#cur_axes.axes.get_xaxis().set_visible(False)\n",
    "\n",
    "# put altitude here too"
   ]
  },
  {
   "cell_type": "code",
   "execution_count": 4,
   "metadata": {},
   "outputs": [],
   "source": [
    "# to suppress this thread\n",
    "import queue\n",
    "#dmeasf.queuepoints = queue.Queue(1)"
   ]
  },
  {
   "cell_type": "code",
   "execution_count": 25,
   "metadata": {},
   "outputs": [
    {
     "data": {
      "text/plain": [
       "<queue.Queue at 0x7f01884bf9b0>"
      ]
     },
     "execution_count": 25,
     "metadata": {},
     "output_type": "execute_result"
    }
   ],
   "source": [
    "dmeasf.queuepoints"
   ]
  },
  {
   "cell_type": "code",
   "execution_count": 9,
   "metadata": {},
   "outputs": [],
   "source": [
    "dmeasf.socketconnectedFlash.settimeout(1000)"
   ]
  },
  {
   "cell_type": "code",
   "execution_count": 40,
   "metadata": {},
   "outputs": [
    {
     "name": "stdout",
     "output_type": "stream",
     "text": [
      "[(<AddressFamily.AF_INET: 2>, <SocketKind.SOCK_STREAM: 1>, 6, '', ('192.168.43.2', 9042)), (<AddressFamily.AF_INET: 2>, <SocketKind.SOCK_DGRAM: 2>, 17, '', ('192.168.43.2', 9042)), (<AddressFamily.AF_INET: 2>, <SocketKind.SOCK_RAW: 3>, 0, '', ('192.168.43.2', 9042))]\n"
     ]
    },
    {
     "ename": "timeout",
     "evalue": "timed out",
     "output_type": "error",
     "traceback": [
      "\u001b[0;31m---------------------------------------------------------------------------\u001b[0m",
      "\u001b[0;31mtimeout\u001b[0m                                   Traceback (most recent call last)",
      "\u001b[0;32m<ipython-input-40-fff962153ba3>\u001b[0m in \u001b[0;36m<module>\u001b[0;34m\u001b[0m\n\u001b[1;32m      3\u001b[0m \u001b[0msocketconnectedFlash\u001b[0m\u001b[0;34m.\u001b[0m\u001b[0msettimeout\u001b[0m\u001b[0;34m(\u001b[0m\u001b[0;36m2\u001b[0m\u001b[0;34m)\u001b[0m\u001b[0;34m\u001b[0m\u001b[0m\n\u001b[1;32m      4\u001b[0m \u001b[0mprint\u001b[0m\u001b[0;34m(\u001b[0m\u001b[0msocket\u001b[0m\u001b[0;34m.\u001b[0m\u001b[0mgetaddrinfo\u001b[0m\u001b[0;34m(\u001b[0m\u001b[0;34m\"192.168.43.2\"\u001b[0m\u001b[0;34m,\u001b[0m \u001b[0;36m9042\u001b[0m\u001b[0;34m)\u001b[0m\u001b[0;34m)\u001b[0m\u001b[0;34m\u001b[0m\u001b[0m\n\u001b[0;32m----> 5\u001b[0;31m \u001b[0msocketconnectedFlash\u001b[0m\u001b[0;34m.\u001b[0m\u001b[0mconnect\u001b[0m\u001b[0;34m(\u001b[0m\u001b[0msocket\u001b[0m\u001b[0;34m.\u001b[0m\u001b[0mgetaddrinfo\u001b[0m\u001b[0;34m(\u001b[0m\u001b[0;34m\"192.168.43.2\"\u001b[0m\u001b[0;34m,\u001b[0m \u001b[0;36m9042\u001b[0m\u001b[0;34m)\u001b[0m\u001b[0;34m[\u001b[0m\u001b[0;36m0\u001b[0m\u001b[0;34m]\u001b[0m\u001b[0;34m[\u001b[0m\u001b[0;34m-\u001b[0m\u001b[0;36m1\u001b[0m\u001b[0;34m]\u001b[0m\u001b[0;34m)\u001b[0m\u001b[0;34m\u001b[0m\u001b[0m\n\u001b[0m",
      "\u001b[0;31mtimeout\u001b[0m: timed out"
     ]
    }
   ],
   "source": [
    "import socket\n",
    "socketconnectedFlash = socket.socket()\n",
    "socketconnectedFlash.settimeout(2)\n",
    "print(socket.getaddrinfo(\"192.168.43.2\", 9042))\n",
    "socketconnectedFlash.connect(socket.getaddrinfo(\"192.168.43.2\", 9042)[0][-1])\n"
   ]
  },
  {
   "cell_type": "code",
   "execution_count": 34,
   "metadata": {},
   "outputs": [
    {
     "data": {
      "text/plain": [
       "b'Hello from Android thread 6\\n'"
      ]
     },
     "execution_count": 34,
     "metadata": {},
     "output_type": "execute_result"
    }
   ],
   "source": [
    "sockerrfileFlash = socketconnectedFlash.makefile('rwb', 0)\n",
    "sockerrfileFlash.readline()\n"
   ]
  },
  {
   "cell_type": "code",
   "execution_count": 17,
   "metadata": {},
   "outputs": [
    {
     "data": {
      "text/plain": [
       "(0,\n",
       " 2,\n",
       " ConnectionResetError(104, 'Connection reset by peer'),\n",
       " <DarknessMeasureFlash(Thread-8, started daemon 139648711067392)>)"
      ]
     },
     "execution_count": 17,
     "metadata": {},
     "output_type": "execute_result"
    }
   ],
   "source": [
    "dmeasf.queuepoints.qsize(), dmeasf.exceptioncount, dmeasf.lastexception, dmeasf"
   ]
  },
  {
   "cell_type": "code",
   "execution_count": 45,
   "metadata": {},
   "outputs": [
    {
     "data": {
      "text/plain": [
       "True"
      ]
     },
     "execution_count": 45,
     "metadata": {},
     "output_type": "execute_result"
    }
   ],
   "source": []
  },
  {
   "cell_type": "code",
   "execution_count": 28,
   "metadata": {},
   "outputs": [
    {
     "data": {
      "text/plain": [
       "(8, ConnectionResetError(104, 'Connection reset by peer'), 182)"
      ]
     },
     "execution_count": 28,
     "metadata": {},
     "output_type": "execute_result"
    }
   ],
   "source": [
    "dmeasf.exceptioncount, dmeasf.lastexception, posbank.n"
   ]
  },
  {
   "cell_type": "code",
   "execution_count": 27,
   "metadata": {},
   "outputs": [
    {
     "data": {
      "text/html": [
       "<div>\n",
       "<style scoped>\n",
       "    .dataframe tbody tr th:only-of-type {\n",
       "        vertical-align: middle;\n",
       "    }\n",
       "\n",
       "    .dataframe tbody tr th {\n",
       "        vertical-align: top;\n",
       "    }\n",
       "\n",
       "    .dataframe thead th {\n",
       "        text-align: right;\n",
       "    }\n",
       "</style>\n",
       "<table border=\"1\" class=\"dataframe\">\n",
       "  <thead>\n",
       "    <tr style=\"text-align: right;\">\n",
       "      <th></th>\n",
       "      <th>t</th>\n",
       "      <th>x</th>\n",
       "      <th>y</th>\n",
       "      <th>z</th>\n",
       "    </tr>\n",
       "  </thead>\n",
       "  <tbody>\n",
       "    <tr>\n",
       "      <th>0</th>\n",
       "      <td>2019-04-14 07:59:57.000</td>\n",
       "      <td>0.052705</td>\n",
       "      <td>0.066346</td>\n",
       "      <td>98.4326</td>\n",
       "    </tr>\n",
       "    <tr>\n",
       "      <th>1</th>\n",
       "      <td>2019-04-14 07:59:57.200</td>\n",
       "      <td>0.055692</td>\n",
       "      <td>0.067014</td>\n",
       "      <td>98.4336</td>\n",
       "    </tr>\n",
       "    <tr>\n",
       "      <th>2</th>\n",
       "      <td>2019-04-14 07:59:57.400</td>\n",
       "      <td>0.055824</td>\n",
       "      <td>0.040854</td>\n",
       "      <td>98.4845</td>\n",
       "    </tr>\n",
       "    <tr>\n",
       "      <th>3</th>\n",
       "      <td>2019-04-14 07:59:57.600</td>\n",
       "      <td>0.055028</td>\n",
       "      <td>0.043526</td>\n",
       "      <td>98.4851</td>\n",
       "    </tr>\n",
       "    <tr>\n",
       "      <th>4</th>\n",
       "      <td>2019-04-14 07:59:57.800</td>\n",
       "      <td>0.055824</td>\n",
       "      <td>0.042524</td>\n",
       "      <td>98.4842</td>\n",
       "    </tr>\n",
       "    <tr>\n",
       "      <th>5</th>\n",
       "      <td>2019-04-14 07:59:58.000</td>\n",
       "      <td>0.054962</td>\n",
       "      <td>0.044750</td>\n",
       "      <td>98.4870</td>\n",
       "    </tr>\n",
       "    <tr>\n",
       "      <th>6</th>\n",
       "      <td>2019-04-14 07:59:58.200</td>\n",
       "      <td>0.056024</td>\n",
       "      <td>0.045196</td>\n",
       "      <td>98.4866</td>\n",
       "    </tr>\n",
       "    <tr>\n",
       "      <th>7</th>\n",
       "      <td>2019-04-14 07:59:58.400</td>\n",
       "      <td>0.054762</td>\n",
       "      <td>0.070799</td>\n",
       "      <td>98.4381</td>\n",
       "    </tr>\n",
       "    <tr>\n",
       "      <th>8</th>\n",
       "      <td>2019-04-14 07:59:58.600</td>\n",
       "      <td>0.058944</td>\n",
       "      <td>0.069463</td>\n",
       "      <td>98.4356</td>\n",
       "    </tr>\n",
       "    <tr>\n",
       "      <th>9</th>\n",
       "      <td>2019-04-14 07:59:58.800</td>\n",
       "      <td>0.056621</td>\n",
       "      <td>0.065901</td>\n",
       "      <td>98.4345</td>\n",
       "    </tr>\n",
       "    <tr>\n",
       "      <th>10</th>\n",
       "      <td>2019-04-14 07:59:59.000</td>\n",
       "      <td>0.053169</td>\n",
       "      <td>0.061337</td>\n",
       "      <td>98.4350</td>\n",
       "    </tr>\n",
       "    <tr>\n",
       "      <th>11</th>\n",
       "      <td>2019-04-14 07:59:59.200</td>\n",
       "      <td>0.052638</td>\n",
       "      <td>0.054101</td>\n",
       "      <td>98.4389</td>\n",
       "    </tr>\n",
       "    <tr>\n",
       "      <th>12</th>\n",
       "      <td>2019-04-14 07:59:59.400</td>\n",
       "      <td>0.056223</td>\n",
       "      <td>0.059890</td>\n",
       "      <td>98.4326</td>\n",
       "    </tr>\n",
       "    <tr>\n",
       "      <th>13</th>\n",
       "      <td>2019-04-14 07:59:59.600</td>\n",
       "      <td>0.055559</td>\n",
       "      <td>0.068239</td>\n",
       "      <td>98.4315</td>\n",
       "    </tr>\n",
       "    <tr>\n",
       "      <th>14</th>\n",
       "      <td>2019-04-14 07:59:59.800</td>\n",
       "      <td>0.054497</td>\n",
       "      <td>0.070020</td>\n",
       "      <td>98.4346</td>\n",
       "    </tr>\n",
       "    <tr>\n",
       "      <th>15</th>\n",
       "      <td>2019-04-14 08:00:00.000</td>\n",
       "      <td>0.054431</td>\n",
       "      <td>0.048758</td>\n",
       "      <td>98.4823</td>\n",
       "    </tr>\n",
       "    <tr>\n",
       "      <th>16</th>\n",
       "      <td>2019-04-14 08:00:00.200</td>\n",
       "      <td>0.056953</td>\n",
       "      <td>0.045196</td>\n",
       "      <td>98.4809</td>\n",
       "    </tr>\n",
       "    <tr>\n",
       "      <th>17</th>\n",
       "      <td>2019-04-14 08:00:00.400</td>\n",
       "      <td>0.055758</td>\n",
       "      <td>0.043081</td>\n",
       "      <td>98.4831</td>\n",
       "    </tr>\n",
       "    <tr>\n",
       "      <th>18</th>\n",
       "      <td>2019-04-14 08:00:00.600</td>\n",
       "      <td>0.055957</td>\n",
       "      <td>0.043637</td>\n",
       "      <td>98.4834</td>\n",
       "    </tr>\n",
       "    <tr>\n",
       "      <th>19</th>\n",
       "      <td>2019-04-14 08:00:00.800</td>\n",
       "      <td>0.054032</td>\n",
       "      <td>0.041411</td>\n",
       "      <td>98.4879</td>\n",
       "    </tr>\n",
       "    <tr>\n",
       "      <th>20</th>\n",
       "      <td>2019-04-14 08:00:01.000</td>\n",
       "      <td>0.056621</td>\n",
       "      <td>0.039518</td>\n",
       "      <td>98.4901</td>\n",
       "    </tr>\n",
       "    <tr>\n",
       "      <th>21</th>\n",
       "      <td>2019-04-14 08:00:01.200</td>\n",
       "      <td>0.057882</td>\n",
       "      <td>0.036290</td>\n",
       "      <td>98.4877</td>\n",
       "    </tr>\n",
       "    <tr>\n",
       "      <th>22</th>\n",
       "      <td>2019-04-14 08:00:01.400</td>\n",
       "      <td>0.057152</td>\n",
       "      <td>0.033841</td>\n",
       "      <td>98.4856</td>\n",
       "    </tr>\n",
       "    <tr>\n",
       "      <th>23</th>\n",
       "      <td>2019-04-14 08:00:01.600</td>\n",
       "      <td>0.055957</td>\n",
       "      <td>0.034732</td>\n",
       "      <td>98.4841</td>\n",
       "    </tr>\n",
       "    <tr>\n",
       "      <th>24</th>\n",
       "      <td>2019-04-14 08:00:01.800</td>\n",
       "      <td>0.056289</td>\n",
       "      <td>0.033730</td>\n",
       "      <td>98.4849</td>\n",
       "    </tr>\n",
       "    <tr>\n",
       "      <th>25</th>\n",
       "      <td>2019-04-14 08:00:02.000</td>\n",
       "      <td>0.055824</td>\n",
       "      <td>0.038517</td>\n",
       "      <td>98.4864</td>\n",
       "    </tr>\n",
       "    <tr>\n",
       "      <th>26</th>\n",
       "      <td>2019-04-14 08:00:02.200</td>\n",
       "      <td>0.055559</td>\n",
       "      <td>0.041188</td>\n",
       "      <td>98.4876</td>\n",
       "    </tr>\n",
       "    <tr>\n",
       "      <th>27</th>\n",
       "      <td>2019-04-14 08:00:02.400</td>\n",
       "      <td>0.052506</td>\n",
       "      <td>0.038962</td>\n",
       "      <td>98.4924</td>\n",
       "    </tr>\n",
       "    <tr>\n",
       "      <th>28</th>\n",
       "      <td>2019-04-14 08:00:02.600</td>\n",
       "      <td>0.055824</td>\n",
       "      <td>0.043860</td>\n",
       "      <td>98.4901</td>\n",
       "    </tr>\n",
       "    <tr>\n",
       "      <th>29</th>\n",
       "      <td>2019-04-14 08:00:02.800</td>\n",
       "      <td>0.049917</td>\n",
       "      <td>0.043081</td>\n",
       "      <td>98.4937</td>\n",
       "    </tr>\n",
       "    <tr>\n",
       "      <th>30</th>\n",
       "      <td>2019-04-14 08:00:03.000</td>\n",
       "      <td>0.051377</td>\n",
       "      <td>0.069241</td>\n",
       "      <td>98.4390</td>\n",
       "    </tr>\n",
       "    <tr>\n",
       "      <th>31</th>\n",
       "      <td>2019-04-14 08:00:03.200</td>\n",
       "      <td>0.053501</td>\n",
       "      <td>0.069909</td>\n",
       "      <td>98.4406</td>\n",
       "    </tr>\n",
       "    <tr>\n",
       "      <th>32</th>\n",
       "      <td>2019-04-14 08:00:03.400</td>\n",
       "      <td>0.058480</td>\n",
       "      <td>0.069909</td>\n",
       "      <td>98.4435</td>\n",
       "    </tr>\n",
       "    <tr>\n",
       "      <th>33</th>\n",
       "      <td>2019-04-14 08:00:03.600</td>\n",
       "      <td>0.061732</td>\n",
       "      <td>0.041300</td>\n",
       "      <td>98.4940</td>\n",
       "    </tr>\n",
       "    <tr>\n",
       "      <th>34</th>\n",
       "      <td>2019-04-14 08:00:03.800</td>\n",
       "      <td>0.060670</td>\n",
       "      <td>0.045418</td>\n",
       "      <td>98.4957</td>\n",
       "    </tr>\n",
       "    <tr>\n",
       "      <th>35</th>\n",
       "      <td>2019-04-14 08:00:04.000</td>\n",
       "      <td>0.061002</td>\n",
       "      <td>0.048424</td>\n",
       "      <td>98.4965</td>\n",
       "    </tr>\n",
       "    <tr>\n",
       "      <th>36</th>\n",
       "      <td>2019-04-14 08:00:04.200</td>\n",
       "      <td>0.063790</td>\n",
       "      <td>0.045530</td>\n",
       "      <td>98.5012</td>\n",
       "    </tr>\n",
       "    <tr>\n",
       "      <th>37</th>\n",
       "      <td>2019-04-14 08:00:04.400</td>\n",
       "      <td>0.060537</td>\n",
       "      <td>0.043081</td>\n",
       "      <td>98.5012</td>\n",
       "    </tr>\n",
       "    <tr>\n",
       "      <th>38</th>\n",
       "      <td>2019-04-14 08:00:04.600</td>\n",
       "      <td>0.057949</td>\n",
       "      <td>0.066569</td>\n",
       "      <td>98.4450</td>\n",
       "    </tr>\n",
       "    <tr>\n",
       "      <th>39</th>\n",
       "      <td>2019-04-14 08:00:04.800</td>\n",
       "      <td>0.060073</td>\n",
       "      <td>0.070799</td>\n",
       "      <td>98.4446</td>\n",
       "    </tr>\n",
       "    <tr>\n",
       "      <th>40</th>\n",
       "      <td>2019-04-14 08:00:05.000</td>\n",
       "      <td>0.062595</td>\n",
       "      <td>0.070799</td>\n",
       "      <td>98.4403</td>\n",
       "    </tr>\n",
       "    <tr>\n",
       "      <th>41</th>\n",
       "      <td>2019-04-14 08:00:05.200</td>\n",
       "      <td>0.062861</td>\n",
       "      <td>0.070020</td>\n",
       "      <td>98.4386</td>\n",
       "    </tr>\n",
       "    <tr>\n",
       "      <th>42</th>\n",
       "      <td>2019-04-14 08:00:05.400</td>\n",
       "      <td>0.058679</td>\n",
       "      <td>0.067348</td>\n",
       "      <td>98.4424</td>\n",
       "    </tr>\n",
       "    <tr>\n",
       "      <th>43</th>\n",
       "      <td>2019-04-14 08:00:05.600</td>\n",
       "      <td>0.059011</td>\n",
       "      <td>0.067237</td>\n",
       "      <td>98.4377</td>\n",
       "    </tr>\n",
       "    <tr>\n",
       "      <th>44</th>\n",
       "      <td>2019-04-14 08:00:05.800</td>\n",
       "      <td>0.058679</td>\n",
       "      <td>0.065122</td>\n",
       "      <td>98.4375</td>\n",
       "    </tr>\n",
       "    <tr>\n",
       "      <th>45</th>\n",
       "      <td>2019-04-14 08:00:06.000</td>\n",
       "      <td>0.059011</td>\n",
       "      <td>0.065233</td>\n",
       "      <td>98.4393</td>\n",
       "    </tr>\n",
       "  </tbody>\n",
       "</table>\n",
       "</div>"
      ],
      "text/plain": [
       "                         t         x         y        z\n",
       "0  2019-04-14 07:59:57.000  0.052705  0.066346  98.4326\n",
       "1  2019-04-14 07:59:57.200  0.055692  0.067014  98.4336\n",
       "2  2019-04-14 07:59:57.400  0.055824  0.040854  98.4845\n",
       "3  2019-04-14 07:59:57.600  0.055028  0.043526  98.4851\n",
       "4  2019-04-14 07:59:57.800  0.055824  0.042524  98.4842\n",
       "5  2019-04-14 07:59:58.000  0.054962  0.044750  98.4870\n",
       "6  2019-04-14 07:59:58.200  0.056024  0.045196  98.4866\n",
       "7  2019-04-14 07:59:58.400  0.054762  0.070799  98.4381\n",
       "8  2019-04-14 07:59:58.600  0.058944  0.069463  98.4356\n",
       "9  2019-04-14 07:59:58.800  0.056621  0.065901  98.4345\n",
       "10 2019-04-14 07:59:59.000  0.053169  0.061337  98.4350\n",
       "11 2019-04-14 07:59:59.200  0.052638  0.054101  98.4389\n",
       "12 2019-04-14 07:59:59.400  0.056223  0.059890  98.4326\n",
       "13 2019-04-14 07:59:59.600  0.055559  0.068239  98.4315\n",
       "14 2019-04-14 07:59:59.800  0.054497  0.070020  98.4346\n",
       "15 2019-04-14 08:00:00.000  0.054431  0.048758  98.4823\n",
       "16 2019-04-14 08:00:00.200  0.056953  0.045196  98.4809\n",
       "17 2019-04-14 08:00:00.400  0.055758  0.043081  98.4831\n",
       "18 2019-04-14 08:00:00.600  0.055957  0.043637  98.4834\n",
       "19 2019-04-14 08:00:00.800  0.054032  0.041411  98.4879\n",
       "20 2019-04-14 08:00:01.000  0.056621  0.039518  98.4901\n",
       "21 2019-04-14 08:00:01.200  0.057882  0.036290  98.4877\n",
       "22 2019-04-14 08:00:01.400  0.057152  0.033841  98.4856\n",
       "23 2019-04-14 08:00:01.600  0.055957  0.034732  98.4841\n",
       "24 2019-04-14 08:00:01.800  0.056289  0.033730  98.4849\n",
       "25 2019-04-14 08:00:02.000  0.055824  0.038517  98.4864\n",
       "26 2019-04-14 08:00:02.200  0.055559  0.041188  98.4876\n",
       "27 2019-04-14 08:00:02.400  0.052506  0.038962  98.4924\n",
       "28 2019-04-14 08:00:02.600  0.055824  0.043860  98.4901\n",
       "29 2019-04-14 08:00:02.800  0.049917  0.043081  98.4937\n",
       "30 2019-04-14 08:00:03.000  0.051377  0.069241  98.4390\n",
       "31 2019-04-14 08:00:03.200  0.053501  0.069909  98.4406\n",
       "32 2019-04-14 08:00:03.400  0.058480  0.069909  98.4435\n",
       "33 2019-04-14 08:00:03.600  0.061732  0.041300  98.4940\n",
       "34 2019-04-14 08:00:03.800  0.060670  0.045418  98.4957\n",
       "35 2019-04-14 08:00:04.000  0.061002  0.048424  98.4965\n",
       "36 2019-04-14 08:00:04.200  0.063790  0.045530  98.5012\n",
       "37 2019-04-14 08:00:04.400  0.060537  0.043081  98.5012\n",
       "38 2019-04-14 08:00:04.600  0.057949  0.066569  98.4450\n",
       "39 2019-04-14 08:00:04.800  0.060073  0.070799  98.4446\n",
       "40 2019-04-14 08:00:05.000  0.062595  0.070799  98.4403\n",
       "41 2019-04-14 08:00:05.200  0.062861  0.070020  98.4386\n",
       "42 2019-04-14 08:00:05.400  0.058679  0.067348  98.4424\n",
       "43 2019-04-14 08:00:05.600  0.059011  0.067237  98.4377\n",
       "44 2019-04-14 08:00:05.800  0.058679  0.065122  98.4375\n",
       "45 2019-04-14 08:00:06.000  0.059011  0.065233  98.4393"
      ]
     },
     "execution_count": 27,
     "metadata": {},
     "output_type": "execute_result"
    },
    {
     "name": "stdout",
     "output_type": "stream",
     "text": [
      "flash connecting\n",
      "flash b'Hello from Android thread 66\\n'\n"
     ]
    }
   ],
   "source": [
    "k = posbank.pdposarray.iloc[:posbank.n]\n",
    "#plt.plot(k.x, k.y)\n",
    "k\n",
    "\n"
   ]
  },
  {
   "cell_type": "code",
   "execution_count": 5,
   "metadata": {},
   "outputs": [
    {
     "name": "stdout",
     "output_type": "stream",
     "text": [
      "\n",
      "convbin on hdata-2019-04-14_12-15-21A.ubx\n",
      "input file  : /home/julian/data/hanglog/20190414121521/hdata-2019-04-14_12-15-21A.ubx (u-blox)\n",
      "->rinex obs : /home/julian/data/hanglog/20190414121521/hdata-2019-04-14_12-15-21A.obs\n",
      "->rinex nav : /home/julian/data/hanglog/20190414121521/hdata-2019-04-14_12-15-21A.nav\n",
      "->rinex gnav: /home/julian/data/hanglog/20190414121521/hdata-2019-04-14_12-15-21A.gnav\n",
      "->rinex hnav: /home/julian/data/hanglog/20190414121521/hdata-2019-04-14_12-15-21A.hnav\n",
      "->rinex qnav: /home/julian/data/hanglog/20190414121521/hdata-2019-04-14_12-15-21A.qnav\n",
      "->rinex lnav: /home/julian/data/hanglog/20190414121521/hdata-2019-04-14_12-15-21A.lnav\n",
      "->rinex cnav: /home/julian/data/hanglog/20190414121521/hdata-2019-04-14_12-15-21A.cnav\n",
      "->rinex inav: /home/julian/data/hanglog/20190414121521/hdata-2019-04-14_12-15-21A.inav\n",
      "->sbas log  : /home/julian/data/hanglog/20190414121521/hdata-2019-04-14_12-15-21A.sbs\n",
      "\n",
      "scanning: 2019/04/14 13:11:05 GR\n",
      "2019/04/14 12:15:41-04/14 13:11:06: O=16626 N=10 G=24 \n",
      "\n",
      "\n",
      "\n",
      "convbin on hdata-2019-04-14_12-15-21B.ubx\n",
      "input file  : /home/julian/data/hanglog/20190414121521/hdata-2019-04-14_12-15-21B.ubx (u-blox)\n",
      "->rinex obs : /home/julian/data/hanglog/20190414121521/hdata-2019-04-14_12-15-21B.obs\n",
      "->rinex nav : /home/julian/data/hanglog/20190414121521/hdata-2019-04-14_12-15-21B.nav\n",
      "->rinex gnav: /home/julian/data/hanglog/20190414121521/hdata-2019-04-14_12-15-21B.gnav\n",
      "->rinex hnav: /home/julian/data/hanglog/20190414121521/hdata-2019-04-14_12-15-21B.hnav\n",
      "->rinex qnav: /home/julian/data/hanglog/20190414121521/hdata-2019-04-14_12-15-21B.qnav\n",
      "->rinex lnav: /home/julian/data/hanglog/20190414121521/hdata-2019-04-14_12-15-21B.lnav\n",
      "->rinex cnav: /home/julian/data/hanglog/20190414121521/hdata-2019-04-14_12-15-21B.cnav\n",
      "->rinex inav: /home/julian/data/hanglog/20190414121521/hdata-2019-04-14_12-15-21B.inav\n",
      "->sbas log  : /home/julian/data/hanglog/20190414121521/hdata-2019-04-14_12-15-21B.sbs\n",
      "\n",
      "scanning: 2019/04/14 13:11:06 GR\n",
      "2019/04/14 12:15:41-04/14 13:11:06: O=16612 N=9 G=23 E=1 \n",
      "\n",
      "\n",
      "\n",
      "convbin on hdata-2019-04-14_12-15-21C.ubx\n",
      "input file  : /home/julian/data/hanglog/20190414121521/hdata-2019-04-14_12-15-21C.ubx (u-blox)\n",
      "->rinex obs : /home/julian/data/hanglog/20190414121521/hdata-2019-04-14_12-15-21C.obs\n",
      "->rinex nav : /home/julian/data/hanglog/20190414121521/hdata-2019-04-14_12-15-21C.nav\n",
      "->rinex gnav: /home/julian/data/hanglog/20190414121521/hdata-2019-04-14_12-15-21C.gnav\n",
      "->rinex hnav: /home/julian/data/hanglog/20190414121521/hdata-2019-04-14_12-15-21C.hnav\n",
      "->rinex qnav: /home/julian/data/hanglog/20190414121521/hdata-2019-04-14_12-15-21C.qnav\n",
      "->rinex lnav: /home/julian/data/hanglog/20190414121521/hdata-2019-04-14_12-15-21C.lnav\n",
      "->rinex cnav: /home/julian/data/hanglog/20190414121521/hdata-2019-04-14_12-15-21C.cnav\n",
      "->rinex inav: /home/julian/data/hanglog/20190414121521/hdata-2019-04-14_12-15-21C.inav\n",
      "->sbas log  : /home/julian/data/hanglog/20190414121521/hdata-2019-04-14_12-15-21C.sbs\n",
      "\n",
      "scanning: 2019/04/14 13:11:06 GR\n",
      "2019/04/14 12:15:41-04/14 13:11:06: O=16590 N=11 G=21 E=4 \n",
      "\n",
      "\n"
     ]
    }
   ],
   "source": []
  },
  {
   "cell_type": "code",
   "execution_count": 23,
   "metadata": {},
   "outputs": [],
   "source": [
    "import subprocess\n",
    "#help(subprocess.run)\n",
    "k = subprocess.run([\"ls\", \"..\"], stdout=subprocess.PIPE)"
   ]
  },
  {
   "cell_type": "code",
   "execution_count": 24,
   "metadata": {},
   "outputs": [
    {
     "data": {
      "text/plain": [
       "b'conf\\nlabstest.ipynb\\nLICENSE\\nnotebooks\\nREADME.md\\nrtkrcv_201904031828.trace\\nrtkrcv_201904061551.trace\\nrtkrcv.nav\\nshape1.png\\n'"
      ]
     },
     "execution_count": 24,
     "metadata": {},
     "output_type": "execute_result"
    }
   ],
   "source": [
    "k.stdout"
   ]
  },
  {
   "cell_type": "code",
   "execution_count": 6,
   "metadata": {},
   "outputs": [
    {
     "data": {
      "text/plain": [
       "b'\\xa8c!\\xb9\\xb5b\\x010\\x14\\x008c\\x00\\x00\\x01\\x04\\x00\\x00\\x00\\x05\\x10\\x03\\x08\\xa5\\x00\\x00\\x00\\x00\\x00\\x00\\xaa\\xda\\xb5b\\x01\"\\x14\\x008c\\x00\\x00\\x00\\x00\\x00\\x00\\x00\\x00\\x00\\x00\\xff\\xff\\xff\\xff|69\\x00\\xb9\\x81\\xb5b\\x02\\x15\\x10\\x00\\x9a\\x99\\x99\\x99\\x99\\x998@\\x00\\x00\\x11\\x00\\x00\\x01pd\\x1cm\\xb5b\\x010\\x14\\x00\\x00d\\x00\\x00\\x01\\x04\\x00\\x00\\x00\\x05'"
      ]
     },
     "execution_count": 6,
     "metadata": {},
     "output_type": "execute_result"
    }
   ],
   "source": [
    "fname = \"/home/julian/data/hanglog/20190413191745/hdata-2019-04-13_19-17-45C.ubx\"\n",
    "fin = open(fname, \"rb\")\n",
    "fin.read(100)\n",
    "#fin = open(\"/home/julian/data/hanglog/20190413125238crosby/hdata-2019-04-13_12-52-38A.ubx\", \"rb\")\n",
    "fin.read(100)\n"
   ]
  },
  {
   "cell_type": "code",
   "execution_count": 32,
   "metadata": {},
   "outputs": [
    {
     "data": {
      "text/plain": [
       "{'\\x00'}"
      ]
     },
     "execution_count": 32,
     "metadata": {},
     "output_type": "execute_result"
    }
   ],
   "source": [
    "set(fin.read(1000))"
   ]
  },
  {
   "cell_type": "code",
   "execution_count": 80,
   "metadata": {},
   "outputs": [
    {
     "name": "stdout",
     "output_type": "stream",
     "text": [
      "flash connecting\n",
      "flash b'Hello from Android thread 113\\n'\n"
     ]
    },
    {
     "data": {
      "text/plain": [
       "4"
      ]
     },
     "execution_count": 80,
     "metadata": {},
     "output_type": "execute_result"
    }
   ],
   "source": [
    "# Use this to prove we can send signals to the flashing LED on the esp\n",
    "import socket\n",
    "socketconnectedFlash = socket.socket()\n",
    "print(\"flash connecting\")\n",
    "socketconnectedFlash.connect(socket.getaddrinfo(\"192.168.43.1\", 9042)[0][-1])\n",
    "sockerrfileFlash = socketconnectedFlash.makefile('rwb', 0)\n",
    "row = sockerrfileFlash.readline()\n",
    "print(\"flash\", row)\n",
    "socketconnectedFlash.send(b\"+AAA\")\n"
   ]
  },
  {
   "cell_type": "code",
   "execution_count": 94,
   "metadata": {},
   "outputs": [
    {
     "data": {
      "text/plain": [
       "7"
      ]
     },
     "execution_count": 94,
     "metadata": {},
     "output_type": "execute_result"
    }
   ],
   "source": [
    "fp = 0.1\n",
    "if fp == -1:\n",
    "    timeradd, timerlight = 20, 80\n",
    "else:\n",
    "    timeradd = 30 + fp*(250-30)\n",
    "    timerlight = 60 + fp*(600-60)\n",
    "socketconnectedFlash.send(b\"%d %d\\n\" % (timeradd, timerlight))\n"
   ]
  },
  {
   "cell_type": "code",
   "execution_count": 65,
   "metadata": {},
   "outputs": [
    {
     "name": "stdout",
     "output_type": "stream",
     "text": [
      "flash connecting\n",
      "flash b'Hello from Android thread 94\\n'\n"
     ]
    },
    {
     "data": {
      "text/plain": [
       "4"
      ]
     },
     "execution_count": 65,
     "metadata": {},
     "output_type": "execute_result"
    }
   ],
   "source": [
    "# Use this to check the data that would be streaming into the rtksrv from the esp-ubloxes\n",
    "import socket\n",
    "socketconnectedFlash = socket.socket()\n",
    "print(\"flash connecting\")\n",
    "socketconnectedFlash.connect(socket.getaddrinfo(\"192.168.43.1\", 9042)[0][-1])\n",
    "sockerrfileFlash = socketconnectedFlash.makefile('rwb', 0)\n",
    "row = sockerrfileFlash.readline()\n",
    "print(\"flash\", row)\n",
    "socketconnectedFlash.send(b\"-AAA\")\n"
   ]
  },
  {
   "cell_type": "code",
   "execution_count": 6,
   "metadata": {},
   "outputs": [
    {
     "data": {
      "text/plain": [
       "b'\\xb5b\\x010\\xd4\\x00 \\x0e\\xa3\\x01\\x11\\x04\\x00\\x00\\x04\\x05\\r\\x07!\\x19\\xb6\\x00\\xd2\\xff\\xff\\xff\\x0f\\x08\\x04\\x01\\x00\\x08\\x11\\x00\\x00\\x00\\x00\\x00\\x00\\r\\r\\x07\"Rm\\x00\\x03\\x00\\x00\\x00\\x01\\x0f\\r\\x07 <\\x1d\\x01@\\x01\\x00\\x00\\x0b\\x14\\r\\x04\\x15\\x11>\\x01\\xfe\\xfa\\xff\\xff\\x0e\\x15\\r\\x07!\\x0c\"\\x01\\xd6\\xff\\xff\\xff\\x05\\x18\\r\\x07\\x1a\\x16\\xf6\\x00\\n\\x01\\x00\\x00\\x02\\x1c'"
      ]
     },
     "execution_count": 6,
     "metadata": {},
     "output_type": "execute_result"
    }
   ],
   "source": [
    "sockerrfileFlash.read(100)"
   ]
  },
  {
   "cell_type": "code",
   "execution_count": null,
   "metadata": {},
   "outputs": [],
   "source": []
  },
  {
   "cell_type": "code",
   "execution_count": null,
   "metadata": {},
   "outputs": [],
   "source": []
  },
  {
   "cell_type": "code",
   "execution_count": null,
   "metadata": {},
   "outputs": [],
   "source": []
  },
  {
   "cell_type": "code",
   "execution_count": null,
   "metadata": {},
   "outputs": [],
   "source": []
  },
  {
   "cell_type": "code",
   "execution_count": null,
   "metadata": {},
   "outputs": [],
   "source": []
  },
  {
   "cell_type": "code",
   "execution_count": 3,
   "metadata": {},
   "outputs": [
    {
     "ename": "gaierror",
     "evalue": "[Errno -2] Name or service not known",
     "output_type": "error",
     "traceback": [
      "\u001b[0;31m---------------------------------------------------------------------------\u001b[0m",
      "\u001b[0;31mgaierror\u001b[0m                                  Traceback (most recent call last)",
      "\u001b[0;32m<ipython-input-3-1c18055468bb>\u001b[0m in \u001b[0;36m<module>\u001b[0;34m\u001b[0m\n\u001b[1;32m      5\u001b[0m \u001b[0;34m\u001b[0m\u001b[0m\n\u001b[1;32m      6\u001b[0m \u001b[0mport1\u001b[0m \u001b[0;34m=\u001b[0m \u001b[0;36m4005\u001b[0m\u001b[0;34m\u001b[0m\u001b[0m\n\u001b[0;32m----> 7\u001b[0;31m \u001b[0maddr1\u001b[0m \u001b[0;34m=\u001b[0m \u001b[0msocket\u001b[0m\u001b[0;34m.\u001b[0m\u001b[0mgetaddrinfo\u001b[0m\u001b[0;34m(\u001b[0m\u001b[0mhost\u001b[0m\u001b[0;34m,\u001b[0m \u001b[0mport1\u001b[0m\u001b[0;34m)\u001b[0m\u001b[0;34m[\u001b[0m\u001b[0;36m0\u001b[0m\u001b[0;34m]\u001b[0m\u001b[0;34m[\u001b[0m\u001b[0;34m-\u001b[0m\u001b[0;36m1\u001b[0m\u001b[0;34m]\u001b[0m\u001b[0;34m\u001b[0m\u001b[0m\n\u001b[0m\u001b[1;32m      8\u001b[0m \u001b[0mport2\u001b[0m \u001b[0;34m=\u001b[0m \u001b[0;36m4006\u001b[0m\u001b[0;34m\u001b[0m\u001b[0m\n\u001b[1;32m      9\u001b[0m \u001b[0maddr2\u001b[0m \u001b[0;34m=\u001b[0m \u001b[0msocket\u001b[0m\u001b[0;34m.\u001b[0m\u001b[0mgetaddrinfo\u001b[0m\u001b[0;34m(\u001b[0m\u001b[0mhost\u001b[0m\u001b[0;34m,\u001b[0m \u001b[0mport2\u001b[0m\u001b[0;34m)\u001b[0m\u001b[0;34m[\u001b[0m\u001b[0;36m0\u001b[0m\u001b[0;34m]\u001b[0m\u001b[0;34m[\u001b[0m\u001b[0;34m-\u001b[0m\u001b[0;36m1\u001b[0m\u001b[0;34m]\u001b[0m\u001b[0;34m\u001b[0m\u001b[0m\n",
      "\u001b[0;32m~/anaconda3/lib/python3.6/socket.py\u001b[0m in \u001b[0;36mgetaddrinfo\u001b[0;34m(host, port, family, type, proto, flags)\u001b[0m\n\u001b[1;32m    743\u001b[0m     \u001b[0;31m# and socket type values to enum constants.\u001b[0m\u001b[0;34m\u001b[0m\u001b[0;34m\u001b[0m\u001b[0m\n\u001b[1;32m    744\u001b[0m     \u001b[0maddrlist\u001b[0m \u001b[0;34m=\u001b[0m \u001b[0;34m[\u001b[0m\u001b[0;34m]\u001b[0m\u001b[0;34m\u001b[0m\u001b[0m\n\u001b[0;32m--> 745\u001b[0;31m     \u001b[0;32mfor\u001b[0m \u001b[0mres\u001b[0m \u001b[0;32min\u001b[0m \u001b[0m_socket\u001b[0m\u001b[0;34m.\u001b[0m\u001b[0mgetaddrinfo\u001b[0m\u001b[0;34m(\u001b[0m\u001b[0mhost\u001b[0m\u001b[0;34m,\u001b[0m \u001b[0mport\u001b[0m\u001b[0;34m,\u001b[0m \u001b[0mfamily\u001b[0m\u001b[0;34m,\u001b[0m \u001b[0mtype\u001b[0m\u001b[0;34m,\u001b[0m \u001b[0mproto\u001b[0m\u001b[0;34m,\u001b[0m \u001b[0mflags\u001b[0m\u001b[0;34m)\u001b[0m\u001b[0;34m:\u001b[0m\u001b[0;34m\u001b[0m\u001b[0m\n\u001b[0m\u001b[1;32m    746\u001b[0m         \u001b[0maf\u001b[0m\u001b[0;34m,\u001b[0m \u001b[0msocktype\u001b[0m\u001b[0;34m,\u001b[0m \u001b[0mproto\u001b[0m\u001b[0;34m,\u001b[0m \u001b[0mcanonname\u001b[0m\u001b[0;34m,\u001b[0m \u001b[0msa\u001b[0m \u001b[0;34m=\u001b[0m \u001b[0mres\u001b[0m\u001b[0;34m\u001b[0m\u001b[0m\n\u001b[1;32m    747\u001b[0m         addrlist.append((_intenum_converter(af, AddressFamily),\n",
      "\u001b[0;31mgaierror\u001b[0m: [Errno -2] Name or service not known"
     ]
    }
   ],
   "source": [
    "# This first few cells is proving a connection via the node-red between two sockets\n",
    "import socket\n",
    "host = \"localhost\"\n",
    "host = \"node-red.dynamicdevices.co.uk\"\n",
    "\n",
    "port1 = 4005\n",
    "addr1 = socket.getaddrinfo(host, port1)[0][-1]\n",
    "port2 = 4006\n",
    "addr2 = socket.getaddrinfo(host, port2)[0][-1]\n",
    "print(addr1)\n"
   ]
  },
  {
   "cell_type": "code",
   "execution_count": 2,
   "metadata": {},
   "outputs": [
    {
     "ename": "ConnectionRefusedError",
     "evalue": "[Errno 111] Connection refused",
     "output_type": "error",
     "traceback": [
      "\u001b[0;31m---------------------------------------------------------------------------\u001b[0m",
      "\u001b[0;31mConnectionRefusedError\u001b[0m                    Traceback (most recent call last)",
      "\u001b[0;32m<ipython-input-2-191a6d791b4e>\u001b[0m in \u001b[0;36m<module>\u001b[0;34m\u001b[0m\n\u001b[1;32m      1\u001b[0m \u001b[0ms1\u001b[0m \u001b[0;34m=\u001b[0m \u001b[0msocket\u001b[0m\u001b[0;34m.\u001b[0m\u001b[0msocket\u001b[0m\u001b[0;34m(\u001b[0m\u001b[0;34m)\u001b[0m\u001b[0;34m\u001b[0m\u001b[0m\n\u001b[0;32m----> 2\u001b[0;31m \u001b[0ms1\u001b[0m\u001b[0;34m.\u001b[0m\u001b[0mconnect\u001b[0m\u001b[0;34m(\u001b[0m\u001b[0maddr1\u001b[0m\u001b[0;34m)\u001b[0m\u001b[0;34m\u001b[0m\u001b[0m\n\u001b[0m\u001b[1;32m      3\u001b[0m \u001b[0;34m\u001b[0m\u001b[0m\n\u001b[1;32m      4\u001b[0m \u001b[0ms2\u001b[0m \u001b[0;34m=\u001b[0m \u001b[0msocket\u001b[0m\u001b[0;34m.\u001b[0m\u001b[0msocket\u001b[0m\u001b[0;34m(\u001b[0m\u001b[0;34m)\u001b[0m\u001b[0;34m\u001b[0m\u001b[0m\n\u001b[1;32m      5\u001b[0m \u001b[0ms2\u001b[0m\u001b[0;34m.\u001b[0m\u001b[0mconnect\u001b[0m\u001b[0;34m(\u001b[0m\u001b[0maddr2\u001b[0m\u001b[0;34m)\u001b[0m\u001b[0;34m\u001b[0m\u001b[0m\n",
      "\u001b[0;31mConnectionRefusedError\u001b[0m: [Errno 111] Connection refused"
     ]
    }
   ],
   "source": [
    "s1 = socket.socket()\n",
    "s1.connect(addr1)\n",
    "\n",
    "s2 = socket.socket()\n",
    "s2.connect(addr2)\n"
   ]
  },
  {
   "cell_type": "code",
   "execution_count": 3,
   "metadata": {},
   "outputs": [
    {
     "data": {
      "text/plain": [
       "<socket.socket fd=44, family=AddressFamily.AF_INET, type=SocketKind.SOCK_STREAM, proto=0, laddr=('192.168.43.209', 43986), raddr=('144.76.167.54', 4005)>"
      ]
     },
     "execution_count": 3,
     "metadata": {},
     "output_type": "execute_result"
    }
   ],
   "source": [
    "s1"
   ]
  },
  {
   "cell_type": "code",
   "execution_count": 4,
   "metadata": {},
   "outputs": [
    {
     "name": "stdout",
     "output_type": "stream",
     "text": [
      "b'\\x11\\x02\\x03\\x04\\x11\\x02\\x03\\x04\\x11\\x02'\n",
      "b'\\x11\\x02\\x03\\x04\\x11\\x02\\x03\\x04\\x11\\x02'\n",
      "b'\\x11\\x02\\x03\\x04\\x11\\x02\\x03\\x04\\x11\\x02'\n",
      "b'\\x11\\x02\\x03\\x04\\x11\\x02\\x03\\x04\\x11\\x02'\n",
      "b'\\x11\\x02\\x03\\x04\\x11\\x02\\x03\\x04\\x11\\x02'\n",
      "b'\\x11\\x02\\x03\\x04\\x11\\x02\\x03\\x04\\x11\\x02'\n",
      "b'\\x11\\x02\\x03\\x04\\x11\\x02\\x03\\x04\\x11\\x02'\n",
      "b'\\x11\\x02\\x03\\x04\\x11\\x02\\x03\\x04\\x11\\x02'\n",
      "b'\\x11\\x02\\x03\\x04\\x11\\x02\\x03\\x04\\x11\\x02'\n",
      "b'\\x11\\x02\\x03\\x04\\x11\\x02\\x03\\x04\\x11\\x02'\n",
      "b'\\x11\\x02\\x03\\x04\\x11\\x02\\x03\\x04\\x11\\x02'\n",
      "b'\\x11\\x02\\x03\\x04\\x11\\x02\\x03\\x04\\x11\\x02'\n",
      "b'\\x11\\x02\\x03\\x04\\x11\\x02\\x03\\x04\\x11\\x02'\n",
      "b'\\x11\\x02\\x03\\x04\\x11\\x02\\x03\\x04\\x11\\x02'\n",
      "b'\\x11\\x02\\x03\\x04\\x11\\x02\\x03\\x04\\x11\\x02'\n",
      "b'\\x11\\x02\\x03\\x04\\x11\\x02\\x03\\x04\\x11\\x02'\n",
      "b'\\x11\\x02\\x03\\x04\\x11\\x02\\x03\\x04\\x11\\x02'\n",
      "b'\\x11\\x02\\x03\\x04\\x11\\x02\\x03\\x04\\x11\\x02'\n",
      "b'\\x11\\x02\\x03\\x04\\x11\\x02\\x03\\x04\\x11\\x02'\n",
      "b'\\x11\\x02\\x03\\x04\\x11\\x02\\x03\\x04\\x11\\x02'\n",
      "b'\\x11\\x02\\x03\\x04\\x11\\x02\\x03\\x04\\x11\\x02'\n",
      "b'\\x11\\x02\\x03\\x04\\x11\\x02\\x03\\x04\\x11\\x02'\n",
      "b'\\x11\\x02\\x03\\x04\\x11\\x02\\x03\\x04\\x11\\x02'\n",
      "b'\\x11\\x02\\x03\\x04\\x11\\x02\\x03\\x04\\x11\\x02'\n",
      "b'\\x11\\x02\\x03\\x04\\x11\\x02\\x03\\x04\\x11\\x02'\n",
      "b'\\x11\\x02\\x03\\x04\\x11\\x02\\x03\\x04\\x11\\x02'\n",
      "b'\\x11\\x02\\x03\\x04\\x11\\x02\\x03\\x04\\x11\\x02'\n",
      "b'\\x11\\x02\\x03\\x04\\x11\\x02\\x03\\x04\\x11\\x02'\n",
      "b'\\x11\\x02\\x03\\x04\\x11\\x02\\x03\\x04\\x11\\x02'\n",
      "b'\\x11\\x02\\x03\\x04\\x11\\x02\\x03\\x04\\x11\\x02'\n",
      "b'\\x11\\x02\\x03\\x04\\x11\\x02\\x03\\x04\\x11\\x02'\n",
      "b'\\x11\\x02\\x03\\x04\\x11\\x02\\x03\\x04\\x11\\x02'\n",
      "b'\\x11\\x02\\x03\\x04\\x11\\x02\\x03\\x04\\x11\\x02'\n",
      "b'\\x11\\x02\\x03\\x04\\x11\\x02\\x03\\x04\\x11\\x02'\n",
      "b'\\x11\\x02\\x03\\x04\\x11\\x02\\x03\\x04\\x11\\x02'\n",
      "b'\\x11\\x02\\x03\\x04\\x11\\x02\\x03\\x04\\x11\\x02'\n",
      "b'\\x11\\x02\\x03\\x04\\x11\\x02\\x03\\x04\\x11\\x02'\n",
      "b'\\x11\\x02\\x03\\x04\\x11\\x02\\x03\\x04\\x11\\x02'\n",
      "b'\\x11\\x02\\x03\\x04\\x11\\x02\\x03\\x04\\x11\\x02'\n",
      "b'\\x11\\x02\\x03\\x04\\x11\\x02\\x03\\x04\\x11\\x02'\n",
      "b'\\x11\\x02\\x03\\x04\\x11\\x02\\x03\\x04\\x11\\x02'\n",
      "b'\\x11\\x02\\x03\\x04\\x11\\x02\\x03\\x04\\x11\\x02'\n",
      "b'\\x11\\x02\\x03\\x04\\x11\\x02\\x03\\x04\\x11\\x02'\n",
      "b'\\x11\\x02\\x03\\x04\\x11\\x02\\x03\\x04\\x11\\x02'\n",
      "b'\\x11\\x02\\x03\\x04\\x11\\x02\\x03\\x04\\x11\\x02'\n",
      "b'\\x11\\x02\\x03\\x04\\x11\\x02\\x03\\x04\\x11\\x02'\n",
      "b'\\x11\\x02\\x03\\x04\\x11\\x02\\x03\\x04\\x11\\x02'\n",
      "b'\\x11\\x02\\x03\\x04\\x11\\x02\\x03\\x04\\x11\\x02'\n",
      "b'\\x11\\x02\\x03\\x04\\x11\\x02\\x03\\x04\\x11\\x02'\n",
      "b'\\x11\\x02\\x03\\x04\\x11\\x02\\x03\\x04\\x11\\x02'\n",
      "80000 57600 2.8503172397613525 28067.025408720692\n"
     ]
    }
   ],
   "source": [
    "import time\n",
    "t0 = time.time()\n",
    "n = 0\n",
    "m = 0\n",
    "for i in range(50):\n",
    "    x = b\"\\x11\\x02\\x03\\x04\"*400\n",
    "    s2.sendall(x)\n",
    "    y = s1.recv(len(x))\n",
    "    print(y[:10])\n",
    "    m += len(y)\n",
    "    n += len(x)\n",
    "print(n, m, (time.time() - t0), n/((time.time() - t0)))"
   ]
  },
  {
   "cell_type": "code",
   "execution_count": null,
   "metadata": {},
   "outputs": [],
   "source": [
    "import time\n",
    "for i in range(50):\n",
    "    y = s1.recv(50)\n",
    "    print(y[:10])\n"
   ]
  },
  {
   "cell_type": "code",
   "execution_count": 109,
   "metadata": {},
   "outputs": [
    {
     "name": "stdout",
     "output_type": "stream",
     "text": [
      "('144.76.167.54', 4006)\n"
     ]
    },
    {
     "data": {
      "text/plain": [
       "4"
      ]
     },
     "execution_count": 109,
     "metadata": {},
     "output_type": "execute_result"
    }
   ],
   "source": [
    "port = 4006\n",
    "addr = socket.getaddrinfo(host, port)[0][-1]\n",
    "print(addr)\n",
    "\n",
    "s2 = socket.socket()\n",
    "s2.connect(addr)\n",
    "s2.send(b\"+kkk\")\n",
    "#s2.recv(4)\n"
   ]
  },
  {
   "cell_type": "code",
   "execution_count": 151,
   "metadata": {},
   "outputs": [],
   "source": [
    "s1 = socket.socket()\n",
    "s1.connect(addr1)\n"
   ]
  },
  {
   "cell_type": "code",
   "execution_count": null,
   "metadata": {},
   "outputs": [],
   "source": [
    "s1.recv(10000)"
   ]
  },
  {
   "cell_type": "code",
   "execution_count": 171,
   "metadata": {},
   "outputs": [
    {
     "data": {
      "text/plain": [
       "4"
      ]
     },
     "execution_count": 171,
     "metadata": {},
     "output_type": "execute_result"
    }
   ],
   "source": [
    "s2.send(b\"+kkk\")\n"
   ]
  },
  {
   "cell_type": "code",
   "execution_count": 89,
   "metadata": {},
   "outputs": [
    {
     "name": "stdout",
     "output_type": "stream",
     "text": [
      "('93.93.131.30', 80)\n"
     ]
    }
   ],
   "source": [
    "import socket\n",
    "host = \"localhost\"\n",
    "host = \"freesteel.co.uk\"\n",
    "port = 80\n",
    "addr = socket.getaddrinfo(host, port)[0][-1]\n",
    "print(addr)\n"
   ]
  },
  {
   "cell_type": "code",
   "execution_count": 90,
   "metadata": {},
   "outputs": [
    {
     "data": {
      "text/plain": [
       "4"
      ]
     },
     "execution_count": 90,
     "metadata": {},
     "output_type": "execute_result"
    }
   ],
   "source": [
    "s1 = socket.socket()\n",
    "s1.connect(addr)\n",
    "s1.send(b\"+kkk\")\n"
   ]
  },
  {
   "cell_type": "code",
   "execution_count": 83,
   "metadata": {},
   "outputs": [
    {
     "data": {
      "text/plain": [
       "4"
      ]
     },
     "execution_count": 83,
     "metadata": {},
     "output_type": "execute_result"
    }
   ],
   "source": [
    "s2 = socket.socket()\n",
    "s2.connect(addr)\n",
    "s2.send(b\"-kkk\")\n"
   ]
  },
  {
   "cell_type": "code",
   "execution_count": 29,
   "metadata": {},
   "outputs": [],
   "source": []
  },
  {
   "cell_type": "code",
   "execution_count": 84,
   "metadata": {},
   "outputs": [
    {
     "data": {
      "text/plain": [
       "8"
      ]
     },
     "execution_count": 84,
     "metadata": {},
     "output_type": "execute_result"
    }
   ],
   "source": [
    "s1.send(b\"hi there\")"
   ]
  },
  {
   "cell_type": "code",
   "execution_count": 85,
   "metadata": {},
   "outputs": [
    {
     "data": {
      "text/plain": [
       "b'hi the'"
      ]
     },
     "execution_count": 85,
     "metadata": {},
     "output_type": "execute_result"
    }
   ],
   "source": [
    "s2.recv(6)"
   ]
  },
  {
   "cell_type": "code",
   "execution_count": 32,
   "metadata": {
    "scrolled": true
   },
   "outputs": [
    {
     "ename": "KeyboardInterrupt",
     "evalue": "",
     "output_type": "error",
     "traceback": [
      "\u001b[0;31m---------------------------------------------------------------------------\u001b[0m",
      "\u001b[0;31mKeyboardInterrupt\u001b[0m                         Traceback (most recent call last)",
      "\u001b[0;32m<ipython-input-32-fb4d13a671f1>\u001b[0m in \u001b[0;36m<module>\u001b[0;34m\u001b[0m\n\u001b[0;32m----> 1\u001b[0;31m \u001b[0ms2\u001b[0m\u001b[0;34m.\u001b[0m\u001b[0mrecv\u001b[0m\u001b[0;34m(\u001b[0m\u001b[0;36m4\u001b[0m\u001b[0;34m)\u001b[0m\u001b[0;34m\u001b[0m\u001b[0m\n\u001b[0m",
      "\u001b[0;31mKeyboardInterrupt\u001b[0m: "
     ]
    }
   ],
   "source": [
    "s2.recv(4)"
   ]
  },
  {
   "cell_type": "code",
   "execution_count": 11,
   "metadata": {},
   "outputs": [
    {
     "name": "stdout",
     "output_type": "stream",
     "text": [
      "b'abcd'\n"
     ]
    }
   ],
   "source": [
    "sockerrfile = socketconnected.makefile('rwb', 0)\n",
    "print(sockerrfile.read(4))\n"
   ]
  },
  {
   "cell_type": "code",
   "execution_count": null,
   "metadata": {},
   "outputs": [],
   "source": [
    "#\n"
   ]
  }
 ],
 "metadata": {
  "kernelspec": {
   "display_name": "Python 3",
   "language": "python",
   "name": "python3"
  },
  "language_info": {
   "codemirror_mode": {
    "name": "ipython",
    "version": 3
   },
   "file_extension": ".py",
   "mimetype": "text/x-python",
   "name": "python",
   "nbconvert_exporter": "python",
   "pygments_lexer": "ipython3",
   "version": "3.7.4"
  }
 },
 "nbformat": 4,
 "nbformat_minor": 2
}
