{
 "cells": [
  {
   "cell_type": "code",
   "execution_count": 1,
   "metadata": {},
   "outputs": [
    {
     "name": "stdout",
     "output_type": "stream",
     "text": [
      "['hdata-2020-12-26_17-47-06.log']\n"
     ]
    }
   ],
   "source": [
    "fdir = \"../scripts/hanglog/dd_2020_12_11_101346\"\n",
    "fdir = \"../scripts/hanglog/junk1\"\n",
    "\n",
    "import os\n",
    "logfiles = os.listdir(fdir)\n",
    "print(logfiles)\n",
    "fLog = os.path.join(fdir, logfiles[0])"
   ]
  },
  {
   "cell_type": "code",
   "execution_count": 2,
   "metadata": {},
   "outputs": [
    {
     "name": "stdout",
     "output_type": "stream",
     "text": [
      "Extracting knowndate from filename: 2020-12-26\n",
      "badline End(17944,4948)\n",
      "\n",
      "Y:8889, Z:9030, U:23, aA:4337, aF:300, aZ:310\n",
      "linAdifftime 3669.815751445087 count 692\n",
      "Made for Q 0 last index 0\n",
      "Made for V 0 last index 0\n",
      "Loading aQV as no pQV records\n",
      "Made for aQ 0 last index 0\n",
      "Made for aV 0 last index 0\n",
      "Missing GPS data, so setting t0 to 2020-12-26 17:43:44.784816\n"
     ]
    }
   ],
   "source": [
    "import sys\n",
    "sys.path.append(\"..\")\n",
    "import hacktrack.loaders\n",
    "fd = hacktrack.loaders.FlyDat(fLog)"
   ]
  },
  {
   "cell_type": "code",
   "execution_count": 3,
   "metadata": {},
   "outputs": [
    {
     "name": "stdout",
     "output_type": "stream",
     "text": [
      "Made for Z 9030 last index 9030\n",
      "Warning, using guessed (not GPS) timing corrected value on Z 9030\n",
      "pCattrname pZ\n",
      "Made for Y 8889 last index 8889\n",
      "Warning, using guessed (not GPS) timing corrected value on Y 8889\n",
      "pCattrname pY\n"
     ]
    },
    {
     "data": {
      "text/plain": [
       "2"
      ]
     },
     "execution_count": 3,
     "metadata": {},
     "output_type": "execute_result"
    }
   ],
   "source": [
    "fd.LoadC(\"ZY\")"
   ]
  },
  {
   "cell_type": "code",
   "execution_count": 4,
   "metadata": {},
   "outputs": [
    {
     "data": {
      "text/html": [
       "<div>\n",
       "<style scoped>\n",
       "    .dataframe tbody tr th:only-of-type {\n",
       "        vertical-align: middle;\n",
       "    }\n",
       "\n",
       "    .dataframe tbody tr th {\n",
       "        vertical-align: top;\n",
       "    }\n",
       "\n",
       "    .dataframe thead th {\n",
       "        text-align: right;\n",
       "    }\n",
       "</style>\n",
       "<table border=\"1\" class=\"dataframe\">\n",
       "  <thead>\n",
       "    <tr style=\"text-align: right;\">\n",
       "      <th></th>\n",
       "      <th>ax</th>\n",
       "      <th>ay</th>\n",
       "      <th>az</th>\n",
       "      <th>gx</th>\n",
       "      <th>gy</th>\n",
       "      <th>gz</th>\n",
       "      <th>q0</th>\n",
       "      <th>q1</th>\n",
       "      <th>q2</th>\n",
       "      <th>q3</th>\n",
       "      <th>s</th>\n",
       "      <th>iqsq</th>\n",
       "      <th>pitch</th>\n",
       "      <th>roll</th>\n",
       "      <th>heading</th>\n",
       "      <th>bad</th>\n",
       "    </tr>\n",
       "  </thead>\n",
       "  <tbody>\n",
       "    <tr>\n",
       "      <td>2020-12-26 17:47:06.007816</td>\n",
       "      <td>0.01</td>\n",
       "      <td>0.01</td>\n",
       "      <td>-0.04</td>\n",
       "      <td>-0.23</td>\n",
       "      <td>0.42</td>\n",
       "      <td>9.79</td>\n",
       "      <td>14342.0</td>\n",
       "      <td>213.0</td>\n",
       "      <td>340.0</td>\n",
       "      <td>7911.0</td>\n",
       "      <td>243.0</td>\n",
       "      <td>3.725257e-09</td>\n",
       "      <td>2.453015</td>\n",
       "      <td>-1.362413</td>\n",
       "      <td>32.208853</td>\n",
       "      <td>False</td>\n",
       "    </tr>\n",
       "    <tr>\n",
       "      <td>2020-12-26 17:47:06.019816</td>\n",
       "      <td>0.02</td>\n",
       "      <td>0.01</td>\n",
       "      <td>-0.04</td>\n",
       "      <td>-0.23</td>\n",
       "      <td>0.42</td>\n",
       "      <td>9.79</td>\n",
       "      <td>14342.0</td>\n",
       "      <td>213.0</td>\n",
       "      <td>340.0</td>\n",
       "      <td>7911.0</td>\n",
       "      <td>243.0</td>\n",
       "      <td>3.725257e-09</td>\n",
       "      <td>2.453015</td>\n",
       "      <td>-1.362413</td>\n",
       "      <td>32.208853</td>\n",
       "      <td>False</td>\n",
       "    </tr>\n",
       "    <tr>\n",
       "      <td>2020-12-26 17:47:06.037816</td>\n",
       "      <td>0.00</td>\n",
       "      <td>0.01</td>\n",
       "      <td>-0.06</td>\n",
       "      <td>-0.23</td>\n",
       "      <td>0.42</td>\n",
       "      <td>9.79</td>\n",
       "      <td>14342.0</td>\n",
       "      <td>213.0</td>\n",
       "      <td>340.0</td>\n",
       "      <td>7911.0</td>\n",
       "      <td>243.0</td>\n",
       "      <td>3.725257e-09</td>\n",
       "      <td>2.453015</td>\n",
       "      <td>-1.362413</td>\n",
       "      <td>32.208853</td>\n",
       "      <td>False</td>\n",
       "    </tr>\n",
       "    <tr>\n",
       "      <td>2020-12-26 17:47:06.047816</td>\n",
       "      <td>0.01</td>\n",
       "      <td>0.02</td>\n",
       "      <td>-0.07</td>\n",
       "      <td>-0.23</td>\n",
       "      <td>0.42</td>\n",
       "      <td>9.79</td>\n",
       "      <td>14342.0</td>\n",
       "      <td>213.0</td>\n",
       "      <td>340.0</td>\n",
       "      <td>7911.0</td>\n",
       "      <td>243.0</td>\n",
       "      <td>3.725257e-09</td>\n",
       "      <td>2.453015</td>\n",
       "      <td>-1.362413</td>\n",
       "      <td>32.208853</td>\n",
       "      <td>False</td>\n",
       "    </tr>\n",
       "    <tr>\n",
       "      <td>2020-12-26 17:47:06.063816</td>\n",
       "      <td>0.00</td>\n",
       "      <td>0.03</td>\n",
       "      <td>-0.02</td>\n",
       "      <td>-0.23</td>\n",
       "      <td>0.42</td>\n",
       "      <td>9.79</td>\n",
       "      <td>14342.0</td>\n",
       "      <td>213.0</td>\n",
       "      <td>340.0</td>\n",
       "      <td>7911.0</td>\n",
       "      <td>243.0</td>\n",
       "      <td>3.725257e-09</td>\n",
       "      <td>2.453015</td>\n",
       "      <td>-1.362413</td>\n",
       "      <td>32.208853</td>\n",
       "      <td>False</td>\n",
       "    </tr>\n",
       "  </tbody>\n",
       "</table>\n",
       "</div>"
      ],
      "text/plain": [
       "                              ax    ay    az    gx    gy    gz       q0  \\\n",
       "2020-12-26 17:47:06.007816  0.01  0.01 -0.04 -0.23  0.42  9.79  14342.0   \n",
       "2020-12-26 17:47:06.019816  0.02  0.01 -0.04 -0.23  0.42  9.79  14342.0   \n",
       "2020-12-26 17:47:06.037816  0.00  0.01 -0.06 -0.23  0.42  9.79  14342.0   \n",
       "2020-12-26 17:47:06.047816  0.01  0.02 -0.07 -0.23  0.42  9.79  14342.0   \n",
       "2020-12-26 17:47:06.063816  0.00  0.03 -0.02 -0.23  0.42  9.79  14342.0   \n",
       "\n",
       "                               q1     q2      q3      s          iqsq  \\\n",
       "2020-12-26 17:47:06.007816  213.0  340.0  7911.0  243.0  3.725257e-09   \n",
       "2020-12-26 17:47:06.019816  213.0  340.0  7911.0  243.0  3.725257e-09   \n",
       "2020-12-26 17:47:06.037816  213.0  340.0  7911.0  243.0  3.725257e-09   \n",
       "2020-12-26 17:47:06.047816  213.0  340.0  7911.0  243.0  3.725257e-09   \n",
       "2020-12-26 17:47:06.063816  213.0  340.0  7911.0  243.0  3.725257e-09   \n",
       "\n",
       "                               pitch      roll    heading    bad  \n",
       "2020-12-26 17:47:06.007816  2.453015 -1.362413  32.208853  False  \n",
       "2020-12-26 17:47:06.019816  2.453015 -1.362413  32.208853  False  \n",
       "2020-12-26 17:47:06.037816  2.453015 -1.362413  32.208853  False  \n",
       "2020-12-26 17:47:06.047816  2.453015 -1.362413  32.208853  False  \n",
       "2020-12-26 17:47:06.063816  2.453015 -1.362413  32.208853  False  "
      ]
     },
     "execution_count": 4,
     "metadata": {},
     "output_type": "execute_result"
    }
   ],
   "source": [
    "fd.pY.head()"
   ]
  },
  {
   "cell_type": "code",
   "execution_count": 5,
   "metadata": {},
   "outputs": [
    {
     "data": {
      "text/plain": [
       "[<matplotlib.lines.Line2D at 0x7f0ca6d076d0>]"
      ]
     },
     "execution_count": 5,
     "metadata": {},
     "output_type": "execute_result"
    }
   ],
   "source": [
    "from matplotlib import pyplot as plt\n",
    "from pandas.plotting import register_matplotlib_converters\n",
    "register_matplotlib_converters()\n",
    "\n",
    "pZ = fd.pZ[~fd.pZ.bad]\n",
    "pY = fd.pY[~fd.pY.bad]\n",
    "plt.plot(pZ.pitch)\n",
    "plt.plot(-pY.pitch)"
   ]
  },
  {
   "cell_type": "code",
   "execution_count": 6,
   "metadata": {},
   "outputs": [
    {
     "data": {
      "text/plain": [
       "[<matplotlib.lines.Line2D at 0x7f0ca6ca6f10>]"
      ]
     },
     "execution_count": 6,
     "metadata": {},
     "output_type": "execute_result"
    },
    {
     "data": {
      "image/png": "[encoded data removed]",
      "text/plain": [
       "<Figure size 432x288 with 1 Axes>"
      ]
     },
     "metadata": {
      "needs_background": "light"
     },
     "output_type": "display_data"
    }
   ],
   "source": [
    "plt.plot(pZ.roll)\n",
    "plt.plot(-pY.roll)"
   ]
  },
  {
   "cell_type": "code",
   "execution_count": 18,
   "metadata": {},
   "outputs": [
    {
     "data": {
      "text/plain": [
       "[<matplotlib.lines.Line2D at 0x7fde2a4ea990>]"
      ]
     },
     "execution_count": 18,
     "metadata": {},
     "output_type": "execute_result"
    },
    {
     "data": {
      "image/png": "[encoded data removed]",
      "text/plain": [
       "<Figure size 432x288 with 1 Axes>"
      ]
     },
     "metadata": {
      "needs_background": "light"
     },
     "output_type": "display_data"
    }
   ],
   "source": [
    "plt.plot(pZ.heading)\n",
    "plt.plot(pY.heading+180)"
   ]
  },
  {
   "cell_type": "code",
   "execution_count": 7,
   "metadata": {},
   "outputs": [
    {
     "data": {
      "application/vnd.jupyter.widget-view+json": {
       "model_id": "b210291a2cd141bd828aa066293d0852",
       "version_major": 2,
       "version_minor": 0
      },
      "text/plain": [
       "HBox(children=(VBox(children=(FloatSlider(value=17.785003837777776, continuous_update=False, description='star…"
      ]
     },
     "metadata": {},
     "output_type": "display_data"
    },
    {
     "data": {
      "application/vnd.jupyter.widget-view+json": {
       "model_id": "59e43c97a41a43f283bb4d09e8a1ddf4",
       "version_major": 2,
       "version_minor": 0
      },
      "text/plain": [
       "Output(layout=Layout(height='400px'))"
      ]
     },
     "metadata": {},
     "output_type": "display_data"
    }
   ],
   "source": [
    "import hacktrack.clickables\n",
    "hacktrack.clickables.plotinteractivegpstrack(fd)"
   ]
  },
  {
   "cell_type": "code",
   "execution_count": null,
   "metadata": {},
   "outputs": [],
   "source": []
  }
 ],
 "metadata": {
  "kernelspec": {
   "display_name": "Python 3",
   "language": "python",
   "name": "python3"
  },
  "language_info": {
   "codemirror_mode": {
    "name": "ipython",
    "version": 3
   },
   "file_extension": ".py",
   "mimetype": "text/x-python",
   "name": "python",
   "nbconvert_exporter": "python",
   "pygments_lexer": "ipython3",
   "version": "3.7.4"
  }
 },
 "nbformat": 4,
 "nbformat_minor": 2
}
