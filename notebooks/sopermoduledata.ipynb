{
 "cells": [
  {
   "cell_type": "code",
   "execution_count": 21,
   "metadata": {},
   "outputs": [
    {
     "name": "stdout",
     "output_type": "stream",
     "text": [
      "['hdata-2021-03-28_10-48-33.log']\n",
      "Extracting knowndate from filename: 2021-03-28\n",
      "Error: Should be same midnight stamps 2021-03-28 00:00:00 2021-03-27 00:00:00\n",
      "E:1, Z:8142, U:29, S:345, X:295, aQ:72, aZ:2485, aF:617, aV:72\n",
      "linAdifftime 48100760.63192183 count 614\n",
      "Made for Q 0 last index 0\n",
      "Made for V 0 last index 0\n",
      "Loading aQV as no pQV records\n",
      "Made for aQ 72 last index 72\n",
      "pCattrname aQ\n",
      "Setting aRdatetime0 2021-03-28 20:24:23.918916666 from 2021-03-27 21:24:23.963000 with std 14.95\n",
      "Made for aV 72 last index 72\n",
      "pCattrname aV\n",
      "Made for Z 8142 last index 8142\n",
      "Warning, using guessed (not GPS) timing corrected value on Z 8142\n",
      "pCattrname pZ\n",
      "Made for X 295 last index 295\n",
      "Warning, using guessed (not GPS) timing corrected value on X 295\n",
      "pCattrname pX\n",
      "Made for S 345 last index 345\n",
      "Warning, using guessed (not GPS) timing corrected value on S 345\n",
      "pCattrname pS\n"
     ]
    },
    {
     "data": {
      "text/plain": [
       "3"
      ]
     },
     "execution_count": 21,
     "metadata": {},
     "output_type": "execute_result"
    }
   ],
   "source": [
    "#Load datafile and import packages\n",
    "\n",
    "fdir = \"/home/julian/repositories/RTK_on_the_beach/hanglog/soper\"\n",
    "\n",
    "import os, sys\n",
    "sys.path.append(\"..\")\n",
    "import hacktrack.loaders\n",
    "import pandas, numpy, math\n",
    "from scipy import optimize\n",
    "from matplotlib import pyplot as plt\n",
    "from hacktrack import loaders, utils\n",
    "from pandas.plotting import register_matplotlib_converters\n",
    "register_matplotlib_converters()\n",
    "%matplotlib inline\n",
    "\n",
    "logfiles = os.listdir(fdir)\n",
    "print(logfiles)\n",
    "fLog = os.path.join(fdir, logfiles[0])\n",
    "fd = loaders.FlyDat(fLog)\n",
    "fd.LoadC(\"ZXS\")"
   ]
  },
  {
   "cell_type": "code",
   "execution_count": 2,
   "metadata": {},
   "outputs": [
    {
     "name": "stdout",
     "output_type": "stream",
     "text": [
      "Made for aA 661 last index 661\n",
      "pCattrname aA\n"
     ]
    },
    {
     "data": {
      "text/plain": [
       "1"
      ]
     },
     "execution_count": 2,
     "metadata": {},
     "output_type": "execute_result"
    }
   ],
   "source": [
    "fd.LoadC(\"aA\")"
   ]
  },
  {
   "cell_type": "code",
   "execution_count": 26,
   "metadata": {},
   "outputs": [
    {
     "data": {
      "text/plain": [
       "<AxesSubplot:>"
      ]
     },
     "execution_count": 26,
     "metadata": {},
     "output_type": "execute_result"
    },
    {
     "data": {
      "image/png": "[encoded data removed]",
      "text/plain": [
       "<Figure size 432x288 with 1 Axes>"
      ]
     },
     "metadata": {
      "needs_background": "light"
     },
     "output_type": "display_data"
    }
   ],
   "source": [
    "#fd.pS.hS.plot()\n",
    "#fd.pX.Dmb.plot()\n",
    "#fd.pX.Dmb.plot()\n",
    "#fd.pZ.roll.plot()\n",
    "fd.pS.hS.plot()"
   ]
  },
  {
   "cell_type": "code",
   "execution_count": 4,
   "metadata": {},
   "outputs": [
    {
     "data": {
      "text/plain": [
       "'0.25.1'"
      ]
     },
     "execution_count": 4,
     "metadata": {},
     "output_type": "execute_result"
    }
   ],
   "source": [
    "import pandas\n",
    "pandas.__version__\n",
    "\n"
   ]
  },
  {
   "cell_type": "code",
   "execution_count": null,
   "metadata": {},
   "outputs": [],
   "source": []
  }
 ],
 "metadata": {
  "kernelspec": {
   "display_name": "Python 3",
   "language": "python",
   "name": "python3"
  },
  "language_info": {
   "codemirror_mode": {
    "name": "ipython",
    "version": 3
   },
   "file_extension": ".py",
   "mimetype": "text/x-python",
   "name": "python",
   "nbconvert_exporter": "python",
   "pygments_lexer": "ipython3",
   "version": "3.7.4"
  }
 },
 "nbformat": 4,
 "nbformat_minor": 2
}
