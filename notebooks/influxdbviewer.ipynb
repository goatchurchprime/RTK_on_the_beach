{
 "cells": [
  {
   "cell_type": "code",
   "execution_count": null,
   "metadata": {},
   "outputs": [],
   "source": [
    "# preview and make tables from uploaded log files"
   ]
  },
  {
   "cell_type": "code",
   "execution_count": 38,
   "metadata": {},
   "outputs": [
    {
     "name": "stdout",
     "output_type": "stream",
     "text": [
      "databases present [{'name': 'ming_default'}, {'name': '_internal'}, {'name': 'julianhousedb'}, {'name': 'rosebankdb'}, {'name': 'hanglogdb'}]\n"
     ]
    }
   ],
   "source": [
    "try:\n",
    "    influxdbconfig = dict(l.split()  for l in open(\"../influxdb_password.txt\").readlines()  if l.strip())\n",
    "except FileNotFoundError:\n",
    "    print(\"Missing password file, creating blank one to fill in\")\n",
    "    fpass = open(\"../influxdb_password.txt\", \"w\")\n",
    "    fpass.write(\"influxdbuser      hanglog\\n\")\n",
    "    fpass.write(\"influxdbpassword      password-goes-here\\n\")\n",
    "    fpass.close()\n",
    "    influxdbconfig[\"influxdbpassword\"] = \"password-goes-here\"\n",
    "if influxdbconfig[\"influxdbpassword\"] == \"password-goes-here\":\n",
    "    print(\"please set the password in the file influxdb_password.txt\")\n",
    "    #sys.exit()\n",
    "\n",
    "import influxdb\n",
    "client = influxdb.InfluxDBClient(host='influxdb.doesliverpool.xyz', port=8086, \n",
    "                                 username=influxdbconfig[\"influxdbuser\"], password=influxdbconfig[\"influxdbpassword\"])\n",
    "print(\"databases present\", client.get_list_database())\n",
    "client.switch_database('hanglogdb')\n"
   ]
  },
  {
   "cell_type": "code",
   "execution_count": 39,
   "metadata": {},
   "outputs": [
    {
     "data": {
      "text/html": [
       "<div>\n",
       "<style scoped>\n",
       "    .dataframe tbody tr th:only-of-type {\n",
       "        vertical-align: middle;\n",
       "    }\n",
       "\n",
       "    .dataframe tbody tr th {\n",
       "        vertical-align: top;\n",
       "    }\n",
       "\n",
       "    .dataframe thead th {\n",
       "        text-align: right;\n",
       "    }\n",
       "</style>\n",
       "<table border=\"1\" class=\"dataframe\">\n",
       "  <thead>\n",
       "    <tr style=\"text-align: right;\">\n",
       "      <th></th>\n",
       "      <th>devicename</th>\n",
       "      <th>fdir</th>\n",
       "      <th>fname</th>\n",
       "      <th>ft0</th>\n",
       "      <th>ft1</th>\n",
       "      <th>rectypespresent</th>\n",
       "      <th>uploaddate</th>\n",
       "    </tr>\n",
       "  </thead>\n",
       "  <tbody>\n",
       "    <tr>\n",
       "      <td>0</td>\n",
       "      <td>jgt1</td>\n",
       "      <td>dd_2020_09_20_160906</td>\n",
       "      <td>hdata-2020-09-20_16-09-06.log</td>\n",
       "      <td>2020-09-20T16:09:06.855000</td>\n",
       "      <td>2020-09-20T16:12:47.697000</td>\n",
       "      <td>aZ aA aF aQ aV</td>\n",
       "      <td>2021-04-03</td>\n",
       "    </tr>\n",
       "    <tr>\n",
       "      <td>1</td>\n",
       "      <td>jgt1</td>\n",
       "      <td>dd_2020_10_11_111652</td>\n",
       "      <td>hdata-2020-10-11_11-16-52.log</td>\n",
       "      <td>2020-10-11T11:16:52.498000</td>\n",
       "      <td>2020-10-11T11:20:31</td>\n",
       "      <td>aZ aA aF aQ aV</td>\n",
       "      <td>2021-04-03</td>\n",
       "    </tr>\n",
       "    <tr>\n",
       "      <td>2</td>\n",
       "      <td>jgt1</td>\n",
       "      <td>dd_2020_12_11_101346</td>\n",
       "      <td>hdata-2020-12-11_10-13-46.log</td>\n",
       "      <td>2020-12-11T10:13:46.256237</td>\n",
       "      <td>2020-12-11T10:14:28.459237</td>\n",
       "      <td>Y Z U aZ aA aF</td>\n",
       "      <td>2021-04-03</td>\n",
       "    </tr>\n",
       "    <tr>\n",
       "      <td>3</td>\n",
       "      <td>jgt1</td>\n",
       "      <td>dd_2021_04_02_172718</td>\n",
       "      <td>hdata-2021-04-02_17-27-18.log</td>\n",
       "      <td>2021-04-02T17:27:18.106000</td>\n",
       "      <td>2021-04-02T17:47:10.500000</td>\n",
       "      <td>aZ aA aF aQ aV</td>\n",
       "      <td>2021-04-03</td>\n",
       "    </tr>\n",
       "    <tr>\n",
       "      <td>4</td>\n",
       "      <td>sopernew</td>\n",
       "      <td>dd_2021_04_03_194748</td>\n",
       "      <td>hdata-2021-04-03_19-47-48.log</td>\n",
       "      <td>2021-04-03T19:47:47.976125</td>\n",
       "      <td>2021-04-03T19:48:22.051125</td>\n",
       "      <td>W U M aF aA aZ</td>\n",
       "      <td>2021-04-03</td>\n",
       "    </tr>\n",
       "    <tr>\n",
       "      <td>5</td>\n",
       "      <td>sopernewmod</td>\n",
       "      <td>dd_2021_04_03_194748</td>\n",
       "      <td>hdata-2021-04-03_19-47-48.log</td>\n",
       "      <td>2021-04-03T19:47:48.029125</td>\n",
       "      <td>2021-04-03T19:48:22.249125</td>\n",
       "      <td>W U M aA aZ aF</td>\n",
       "      <td>2021-04-03</td>\n",
       "    </tr>\n",
       "  </tbody>\n",
       "</table>\n",
       "</div>"
      ],
      "text/plain": [
       "    devicename                  fdir                          fname  \\\n",
       "0         jgt1  dd_2020_09_20_160906  hdata-2020-09-20_16-09-06.log   \n",
       "1         jgt1  dd_2020_10_11_111652  hdata-2020-10-11_11-16-52.log   \n",
       "2         jgt1  dd_2020_12_11_101346  hdata-2020-12-11_10-13-46.log   \n",
       "3         jgt1  dd_2021_04_02_172718  hdata-2021-04-02_17-27-18.log   \n",
       "4     sopernew  dd_2021_04_03_194748  hdata-2021-04-03_19-47-48.log   \n",
       "5  sopernewmod  dd_2021_04_03_194748  hdata-2021-04-03_19-47-48.log   \n",
       "\n",
       "                          ft0                         ft1 rectypespresent  \\\n",
       "0  2020-09-20T16:09:06.855000  2020-09-20T16:12:47.697000  aZ aA aF aQ aV   \n",
       "1  2020-10-11T11:16:52.498000         2020-10-11T11:20:31  aZ aA aF aQ aV   \n",
       "2  2020-12-11T10:13:46.256237  2020-12-11T10:14:28.459237  Y Z U aZ aA aF   \n",
       "3  2021-04-02T17:27:18.106000  2021-04-02T17:47:10.500000  aZ aA aF aQ aV   \n",
       "4  2021-04-03T19:47:47.976125  2021-04-03T19:48:22.051125  W U M aF aA aZ   \n",
       "5  2021-04-03T19:47:48.029125  2021-04-03T19:48:22.249125  W U M aA aZ aF   \n",
       "\n",
       "   uploaddate  \n",
       "0  2021-04-03  \n",
       "1  2021-04-03  \n",
       "2  2021-04-03  \n",
       "3  2021-04-03  \n",
       "4  2021-04-03  \n",
       "5  2021-04-03  "
      ]
     },
     "execution_count": 39,
     "metadata": {},
     "output_type": "execute_result"
    }
   ],
   "source": [
    "import pandas\n",
    "\n",
    "k = client.query(\"SELECT * FROM hanglog_index\")\n",
    "pI = pandas.DataFrame(k.get_points())\n",
    "pI = pI.drop(columns=[\"logchannel\", \"time\"], errors=\"ignore\")\n",
    "pI"
   ]
  },
  {
   "cell_type": "code",
   "execution_count": 47,
   "metadata": {},
   "outputs": [],
   "source": [
    "row = pI.iloc[5]"
   ]
  },
  {
   "cell_type": "code",
   "execution_count": 48,
   "metadata": {},
   "outputs": [
    {
     "data": {
      "text/plain": [
       "['W', 'U', 'M', 'aA', 'aZ', 'aF']"
      ]
     },
     "execution_count": 48,
     "metadata": {},
     "output_type": "execute_result"
    }
   ],
   "source": [
    "row.rectypespresent.split()"
   ]
  },
  {
   "cell_type": "code",
   "execution_count": 49,
   "metadata": {},
   "outputs": [
    {
     "data": {
      "text/plain": [
       "'dd_2021_04_03_194748'"
      ]
     },
     "execution_count": 49,
     "metadata": {},
     "output_type": "execute_result"
    }
   ],
   "source": [
    "row.fdir"
   ]
  },
  {
   "cell_type": "code",
   "execution_count": 50,
   "metadata": {},
   "outputs": [
    {
     "name": "stdout",
     "output_type": "stream",
     "text": [
      "fetching W\n",
      "fetching U\n",
      "fetching M\n",
      "fetching aA\n",
      "fetching aZ\n",
      "    170 records\n",
      "fetching aF\n",
      "    170 records\n"
     ]
    }
   ],
   "source": [
    "fd = { }\n",
    "for kk in row.rectypespresent.split():\n",
    "    print(\"fetching\", kk)\n",
    "    k = client.query(\"SELECT * FROM %s where fdir='%s'\" % (kk, row.fdir))\n",
    "    pK = pandas.DataFrame(k.get_points())\n",
    "    if len(pK) != 0:\n",
    "        ds = pandas.DatetimeIndex(pK.time)\n",
    "        pK = pK.set_index(ds)\n",
    "        pK.index.name = \"\"\n",
    "        pK = pK.drop(columns=[\"time\", \"logchannel\", \"fdir\", \"device\", \"fname\"], errors=\"ignore\")\n",
    "        fd[kk] = pK\n",
    "        print(\"   \", len(pK), \"records\")"
   ]
  },
  {
   "cell_type": "code",
   "execution_count": 24,
   "metadata": {},
   "outputs": [
    {
     "data": {
      "text/html": [
       "<div>\n",
       "<style scoped>\n",
       "    .dataframe tbody tr th:only-of-type {\n",
       "        vertical-align: middle;\n",
       "    }\n",
       "\n",
       "    .dataframe tbody tr th {\n",
       "        vertical-align: top;\n",
       "    }\n",
       "\n",
       "    .dataframe thead th {\n",
       "        text-align: right;\n",
       "    }\n",
       "</style>\n",
       "<table border=\"1\" class=\"dataframe\">\n",
       "  <thead>\n",
       "    <tr style=\"text-align: right;\">\n",
       "      <th></th>\n",
       "      <th>alt</th>\n",
       "      <th>lat</th>\n",
       "      <th>lng</th>\n",
       "      <th>u</th>\n",
       "    </tr>\n",
       "    <tr>\n",
       "      <th></th>\n",
       "      <th></th>\n",
       "      <th></th>\n",
       "      <th></th>\n",
       "      <th></th>\n",
       "    </tr>\n",
       "  </thead>\n",
       "  <tbody>\n",
       "    <tr>\n",
       "      <td>2020-10-11 11:17:14+00:00</td>\n",
       "      <td>124.9</td>\n",
       "      <td>53.419432</td>\n",
       "      <td>-2.969562</td>\n",
       "      <td>40634000</td>\n",
       "    </tr>\n",
       "    <tr>\n",
       "      <td>2020-10-11 11:17:52+00:00</td>\n",
       "      <td>125.0</td>\n",
       "      <td>53.419432</td>\n",
       "      <td>-2.969565</td>\n",
       "      <td>40672000</td>\n",
       "    </tr>\n",
       "    <tr>\n",
       "      <td>2020-10-11 11:18:41+00:00</td>\n",
       "      <td>125.1</td>\n",
       "      <td>53.419443</td>\n",
       "      <td>-2.969570</td>\n",
       "      <td>40721000</td>\n",
       "    </tr>\n",
       "    <tr>\n",
       "      <td>2020-10-11 11:18:43+00:00</td>\n",
       "      <td>125.1</td>\n",
       "      <td>53.419463</td>\n",
       "      <td>-2.969567</td>\n",
       "      <td>40723000</td>\n",
       "    </tr>\n",
       "    <tr>\n",
       "      <td>2020-10-11 11:18:44+00:00</td>\n",
       "      <td>125.2</td>\n",
       "      <td>53.419475</td>\n",
       "      <td>-2.969568</td>\n",
       "      <td>40724000</td>\n",
       "    </tr>\n",
       "    <tr>\n",
       "      <td>2020-10-11 11:18:45+00:00</td>\n",
       "      <td>125.1</td>\n",
       "      <td>53.419488</td>\n",
       "      <td>-2.969577</td>\n",
       "      <td>40725000</td>\n",
       "    </tr>\n",
       "    <tr>\n",
       "      <td>2020-10-11 11:18:46+00:00</td>\n",
       "      <td>125.1</td>\n",
       "      <td>53.419502</td>\n",
       "      <td>-2.969582</td>\n",
       "      <td>40726000</td>\n",
       "    </tr>\n",
       "    <tr>\n",
       "      <td>2020-10-11 11:18:56+00:00</td>\n",
       "      <td>125.3</td>\n",
       "      <td>53.419493</td>\n",
       "      <td>-2.969580</td>\n",
       "      <td>40736000</td>\n",
       "    </tr>\n",
       "    <tr>\n",
       "      <td>2020-10-11 11:18:57+00:00</td>\n",
       "      <td>125.3</td>\n",
       "      <td>53.419483</td>\n",
       "      <td>-2.969582</td>\n",
       "      <td>40737000</td>\n",
       "    </tr>\n",
       "    <tr>\n",
       "      <td>2020-10-11 11:18:59+00:00</td>\n",
       "      <td>125.5</td>\n",
       "      <td>53.419467</td>\n",
       "      <td>-2.969583</td>\n",
       "      <td>40739000</td>\n",
       "    </tr>\n",
       "    <tr>\n",
       "      <td>2020-10-11 11:19:04+00:00</td>\n",
       "      <td>125.6</td>\n",
       "      <td>53.419455</td>\n",
       "      <td>-2.969590</td>\n",
       "      <td>40744000</td>\n",
       "    </tr>\n",
       "    <tr>\n",
       "      <td>2020-10-11 11:19:06+00:00</td>\n",
       "      <td>125.8</td>\n",
       "      <td>53.419443</td>\n",
       "      <td>-2.969600</td>\n",
       "      <td>40746000</td>\n",
       "    </tr>\n",
       "    <tr>\n",
       "      <td>2020-10-11 11:19:32+00:00</td>\n",
       "      <td>125.8</td>\n",
       "      <td>53.419455</td>\n",
       "      <td>-2.969590</td>\n",
       "      <td>40772000</td>\n",
       "    </tr>\n",
       "    <tr>\n",
       "      <td>2020-10-11 11:19:33+00:00</td>\n",
       "      <td>125.8</td>\n",
       "      <td>53.419450</td>\n",
       "      <td>-2.969575</td>\n",
       "      <td>40773000</td>\n",
       "    </tr>\n",
       "    <tr>\n",
       "      <td>2020-10-11 11:19:39+00:00</td>\n",
       "      <td>125.8</td>\n",
       "      <td>53.419427</td>\n",
       "      <td>-2.969562</td>\n",
       "      <td>40779000</td>\n",
       "    </tr>\n",
       "    <tr>\n",
       "      <td>2020-10-11 11:20:02+00:00</td>\n",
       "      <td>126.1</td>\n",
       "      <td>53.419435</td>\n",
       "      <td>-2.969555</td>\n",
       "      <td>40802000</td>\n",
       "    </tr>\n",
       "  </tbody>\n",
       "</table>\n",
       "</div>"
      ],
      "text/plain": [
       "                             alt        lat       lng         u\n",
       "                                                               \n",
       "2020-10-11 11:17:14+00:00  124.9  53.419432 -2.969562  40634000\n",
       "2020-10-11 11:17:52+00:00  125.0  53.419432 -2.969565  40672000\n",
       "2020-10-11 11:18:41+00:00  125.1  53.419443 -2.969570  40721000\n",
       "2020-10-11 11:18:43+00:00  125.1  53.419463 -2.969567  40723000\n",
       "2020-10-11 11:18:44+00:00  125.2  53.419475 -2.969568  40724000\n",
       "2020-10-11 11:18:45+00:00  125.1  53.419488 -2.969577  40725000\n",
       "2020-10-11 11:18:46+00:00  125.1  53.419502 -2.969582  40726000\n",
       "2020-10-11 11:18:56+00:00  125.3  53.419493 -2.969580  40736000\n",
       "2020-10-11 11:18:57+00:00  125.3  53.419483 -2.969582  40737000\n",
       "2020-10-11 11:18:59+00:00  125.5  53.419467 -2.969583  40739000\n",
       "2020-10-11 11:19:04+00:00  125.6  53.419455 -2.969590  40744000\n",
       "2020-10-11 11:19:06+00:00  125.8  53.419443 -2.969600  40746000\n",
       "2020-10-11 11:19:32+00:00  125.8  53.419455 -2.969590  40772000\n",
       "2020-10-11 11:19:33+00:00  125.8  53.419450 -2.969575  40773000\n",
       "2020-10-11 11:19:39+00:00  125.8  53.419427 -2.969562  40779000\n",
       "2020-10-11 11:20:02+00:00  126.1  53.419435 -2.969555  40802000"
      ]
     },
     "execution_count": 24,
     "metadata": {},
     "output_type": "execute_result"
    }
   ],
   "source": [
    "fd[\"aQ\"]"
   ]
  },
  {
   "cell_type": "code",
   "execution_count": 37,
   "metadata": {},
   "outputs": [
    {
     "data": {
      "text/plain": [
       "(1000100, 16777215)"
      ]
     },
     "execution_count": 37,
     "metadata": {},
     "output_type": "execute_result"
    }
   ],
   "source": [
    "(10001*100),0xFFFFFF"
   ]
  },
  {
   "cell_type": "code",
   "execution_count": null,
   "metadata": {},
   "outputs": [],
   "source": []
  }
 ],
 "metadata": {
  "kernelspec": {
   "display_name": "Python 3",
   "language": "python",
   "name": "python3"
  },
  "language_info": {
   "codemirror_mode": {
    "name": "ipython",
    "version": 3
   },
   "file_extension": ".py",
   "mimetype": "text/x-python",
   "name": "python",
   "nbconvert_exporter": "python",
   "pygments_lexer": "ipython3",
   "version": "3.7.4"
  }
 },
 "nbformat": 4,
 "nbformat_minor": 2
}
