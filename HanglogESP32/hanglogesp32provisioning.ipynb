{
 "cells": [
  {
   "cell_type": "code",
   "execution_count": null,
   "metadata": {},
   "outputs": [],
   "source": [
    "# This page is for provisioning an ESP32 GPS device for the wingtip or base-station.  \n",
    "# This interfaces with the Hanglog3 android app to record the data, which the \n",
    "# scripts in this repository can interact with to enable RTK technology\n"
   ]
  },
  {
   "cell_type": "raw",
   "metadata": {},
   "source": [
    "#### esptool.py --port /dev/ttyUSB1 erase_flash\n",
    "%esptool erase"
   ]
  },
  {
   "cell_type": "code",
   "execution_count": 26,
   "metadata": {},
   "outputs": [
    {
     "name": "stdout",
     "output_type": "stream",
     "text": [
      "\u001b[31m\n",
      "\n",
      "***Connection broken [Input/output error]\n",
      "\u001b[0mYou may need to reconnect\u001b[34m\n",
      "Closing serial Serial<id=0x7f3f0c053e90, open=True>(port='/dev/ttyUSB1', baudrate=115200, bytesize=8, parity='N', stopbits=1, timeout=0.5, xonxoff=False, rtscts=False, dsrdtr=False)\n",
      "\u001b[0m\u001b[34mExecuting:\n",
      "  esptool.py --port /dev/ttyUSB0 --chip esp32 write_flash -z 0x1000 /home/julian/executables/micropythonbins/esp32-idf4-20200701-unstable-v1.12-606-g07f181a21.bin\n",
      "\n",
      "\u001b[0mesptool.py v2.8\n",
      "Serial port /dev/ttyUSB0\n",
      "Connecting....\n",
      "\u001b[34m[Press the PRG button now if required]\n",
      "\u001b[0mChip is ESP32D0WDQ6 (revision 1)\n",
      "Features: WiFi, BT, Dual Core, 240MHz, VRef calibration in efuse, Coding Scheme None\n",
      "Crystal is 40MHz\n",
      "MAC: 3c:71:bf:ff:67:7c\n",
      "Uploading stub...\n",
      "Running stub...\n",
      "Stub running...\n",
      "Configuring flash size...\n",
      "Auto-detected Flash size: 4MB\n",
      "Compressed 1448848 bytes to 924753...\n",
      "Wrote 1448848 bytes (924753 compressed) at 0x00001000 in 81.9 seconds (effective 141.5 kbit/s)...\n",
      "Hash of data verified.\n",
      "\n",
      "Leaving...\n",
      "Hard resetting via RTS pin...\n"
     ]
    }
   ],
   "source": [
    "#### esptool.py --port /dev/ttyUSB0 --chip esp32 write_flash -z 0x1000 /home/julian/executables/micropythonbins/esp32-idf4-20200124-v1.12-87-g96716b46e.bin\n",
    "%esptool esp32 /home/julian/executables/micropythonbins/esp32-idf4-20200701-unstable-v1.12-606-g07f181a21.bin"
   ]
  },
  {
   "cell_type": "code",
   "execution_count": 27,
   "metadata": {},
   "outputs": [
    {
     "name": "stdout",
     "output_type": "stream",
     "text": [
      "\u001b[34mConnecting to --port=/dev/ttyUSB0 --baud=115200 \u001b[0m\n",
      "\u001b[34mReady.\n",
      "\u001b[0m"
     ]
    }
   ],
   "source": [
    "%serialconnect"
   ]
  },
  {
   "cell_type": "code",
   "execution_count": 28,
   "metadata": {},
   "outputs": [
    {
     "name": "stdout",
     "output_type": "stream",
     "text": [
      "__main__          gc                uasyncio/stream   upip_utarfile\n",
      "_boot             inisetup          ubinascii         upysh\n",
      "_onewire          machine           ubluetooth        urandom\n",
      "_thread           math              ucollections      ure\n",
      "_uasyncio         micropython       ucryptolib        urequests\n",
      "_webrepl          neopixel          uctypes           uselect\n",
      "apa106            network           uerrno            usocket\n",
      "btree             ntptime           uhashlib          ussl\n",
      "builtins          onewire           uhashlib          ustruct\n",
      "cmath             sys               uheapq            utime\n",
      "dht               uarray            uio               utimeq\n",
      "ds18x20           uasyncio/__init__ ujson             uwebsocket\n",
      "esp               uasyncio/core     umqtt/robust      uzlib\n",
      "esp32             uasyncio/event    umqtt/simple      webrepl\n",
      "flashbdev         uasyncio/funcs    uos               webrepl_setup\n",
      "framebuf          uasyncio/lock     upip              websocket_helper\n",
      "Plus any modules on the filesystem\n"
     ]
    }
   ],
   "source": [
    "help(\"modules\")"
   ]
  },
  {
   "cell_type": "code",
   "execution_count": 29,
   "metadata": {},
   "outputs": [
    {
     "name": "stdout",
     "output_type": "stream",
     "text": [
      "Sent 66 lines (2004 bytes) to ubxm8t.py.\n"
     ]
    }
   ],
   "source": [
    "%sendtofile --source utils.py\n",
    "%sendtofile --source ubxm8t.py"
   ]
  },
  {
   "cell_type": "code",
   "execution_count": 34,
   "metadata": {},
   "outputs": [
    {
     "name": "stdout",
     "output_type": "stream",
     "text": [
      "Sent 6 lines (174 bytes) to config.txt.\n"
     ]
    }
   ],
   "source": [
    "%sendtofile config.txt\n",
    "\n",
    "deviceletter  C\n",
    "pinled        2\n",
    "pingled       23\n",
    "connection1   BV6000,beckaaaa,192.168.43.1,9042\n",
    "connection0   JulianS9,beckaaaa,192.168.43.1,9042\n",
    "sdcard        sd,5,18,23,19"
   ]
  },
  {
   "cell_type": "code",
   "execution_count": 48,
   "metadata": {},
   "outputs": [
    {
     "name": "stdout",
     "output_type": "stream",
     "text": [
      "serial exception on close write failed: [Errno 5] Input/output error\n",
      "\u001b[34mConnecting to --port=/dev/ttyUSB0 --baud=115200 \u001b[0m\n",
      "\u001b[34mReady.\n",
      "\u001b[0m"
     ]
    }
   ],
   "source": [
    "%serialconnect"
   ]
  },
  {
   "cell_type": "code",
   "execution_count": 50,
   "metadata": {},
   "outputs": [
    {
     "name": "stdout",
     "output_type": "stream",
     "text": [
      "Sent 105 lines (3616 bytes) to main.py.\n"
     ]
    }
   ],
   "source": [
    "%sendtofile --source main.py"
   ]
  },
  {
   "cell_type": "code",
   "execution_count": 47,
   "metadata": {},
   "outputs": [
    {
     "name": "stdout",
     "output_type": "stream",
     "text": [
      "Sent 94 lines (2645 bytes) to utils.py.\n"
     ]
    }
   ],
   "source": [
    "%sendtofile --source utils.py"
   ]
  },
  {
   "cell_type": "code",
   "execution_count": null,
   "metadata": {},
   "outputs": [],
   "source": []
  },
  {
   "cell_type": "code",
   "execution_count": null,
   "metadata": {},
   "outputs": [],
   "source": [
    "#\n",
    "# Code below is for developing and testing the components\n",
    "#"
   ]
  },
  {
   "cell_type": "code",
   "execution_count": 4,
   "metadata": {},
   "outputs": [
    {
     "name": "stdout",
     "output_type": "stream",
     "text": [
      "serial exception on close write failed: [Errno 5] Input/output error\n",
      "\u001b[34mConnecting to --port=/dev/ttyUSB1 --baud=115200 \u001b[0m\n",
      "\u001b[34mReady.\n",
      "\u001b[0m"
     ]
    }
   ],
   "source": [
    "%serialconnect"
   ]
  },
  {
   "cell_type": "code",
   "execution_count": 44,
   "metadata": {},
   "outputs": [
    {
     "name": "stdout",
     "output_type": "stream",
     "text": [
      "Sent 281 lines (8634 bytes) to sdcard.py.\n"
     ]
    }
   ],
   "source": [
    "import uasyncio as asyncio\n",
    "import network\n",
    "\n",
    "si = network.WLAN(network.STA_IF)\n",
    "si.active(True)\n",
    "\n",
    "async def wifi_connect(self):\n",
    "    s.active(True)\n",
    "    s.connect(self._ssid, self._wifi_pw)\n",
    "    while s.status() == network.STAT_CONNECTING:  # Break out on fail or success. Check once per sec.\n",
    "        await asyncio.sleep(1)\n",
    "\n",
    "    if not s.isconnected():\n",
    "        raise OSError\n",
    "    # Ensure connection stays up for a few secs.\n",
    "    self.dprint('Checking WiFi integrity.')\n",
    "    for _ in range(5):\n",
    "        if not s.isconnected():\n",
    "            raise OSError  # in 1st 5 secs\n",
    "        await asyncio.sleep(1)\n",
    "    self.dprint('Got reliable connection')"
   ]
  },
  {
   "cell_type": "code",
   "execution_count": null,
   "metadata": {},
   "outputs": [],
   "source": []
  },
  {
   "cell_type": "code",
   "execution_count": 12,
   "metadata": {},
   "outputs": [],
   "source": [
    "# for testing UBX is wired in properly\n",
    "import machine, time\n",
    "uartUBX = machine.UART(1, baudrate=9600, rx=16, tx=17)\n",
    "for i in range(20):\n",
    "    time.sleep(0.2)\n",
    "    print(uartUBX.readline())"
   ]
  },
  {
   "cell_type": "code",
   "execution_count": 5,
   "metadata": {},
   "outputs": [
    {
     "name": "stdout",
     "output_type": "stream",
     "text": [
      "983\n",
      "976\n",
      "977\n",
      "976\n",
      "976\n",
      "977\n",
      "2318\n",
      "2313\n",
      "2307\n",
      "2304\n",
      ".2306\n",
      "2260\n",
      "976\n",
      "976\n",
      "976\n",
      "977\n",
      "976\n",
      "978\n",
      "977\n",
      "981\n",
      "."
     ]
    }
   ],
   "source": [
    "# for testing the adc pin for measuring battery power\n",
    "from machine import ADC, Pin\n",
    "import time\n",
    "\n",
    "a = ADC(Pin(34))\n",
    "a.atten(ADC.ATTN_11DB)\n",
    "a.width(ADC.WIDTH_12BIT)\n",
    "for i in range(20):\n",
    "    print(a.read())\n",
    "    time.sleep(1)"
   ]
  },
  {
   "cell_type": "code",
   "execution_count": 23,
   "metadata": {},
   "outputs": [
    {
     "name": "stdout",
     "output_type": "stream",
     "text": [
      "\u001b[34mConnecting to --port=/dev/ttyUSB1 --baud=115200 \u001b[0m\n",
      "\u001b[34mReady.\n",
      "\u001b[0m"
     ]
    }
   ],
   "source": [
    "%serialconnect"
   ]
  },
  {
   "cell_type": "code",
   "execution_count": 17,
   "metadata": {},
   "outputs": [
    {
     "name": "stdout",
     "output_type": "stream",
     "text": [
      "Listing directory '/'.\n",
      "     1067    UDPblackviewphone.py\n",
      "      870    UDPsocket_funcs.py\n",
      "      139    boot.py\n",
      "        1    deviceletter.txt\n",
      "      205    hotspots.txt\n",
      "     2913    main.py\n",
      "     2004    ubxminimal.py\n",
      "     5667    ubxutils.py\n"
     ]
    }
   ],
   "source": [
    "%ls"
   ]
  },
  {
   "cell_type": "code",
   "execution_count": 18,
   "metadata": {},
   "outputs": [
    {
     "name": "stdout",
     "output_type": "stream",
     "text": [
      "B"
     ]
    }
   ],
   "source": [
    "%fetchfile --print deviceletter.txt"
   ]
  },
  {
   "cell_type": "code",
   "execution_count": 24,
   "metadata": {},
   "outputs": [
    {
     "name": "stdout",
     "output_type": "stream",
     "text": [
      "Sent 281 lines (8634 bytes) to sdcard.py.\n"
     ]
    }
   ],
   "source": [
    "# For testing the SD card\n",
    "%sendtofile --source sdcard.py"
   ]
  },
  {
   "cell_type": "code",
   "execution_count": 25,
   "metadata": {},
   "outputs": [
    {
     "name": "stderr",
     "output_type": "stream",
     "text": [
      "Traceback (most recent call last):\n",
      "  File \"<stdin>\", line 15, in <module>\n",
      "  File \"sdcard.py\", line 54, in __init__\n",
      "  File \"sdcard.py\", line 82, in init_card\n",
      "OSError: no SD card\n"
     ]
    }
   ],
   "source": [
    "# External SPI work:\n",
    "\n",
    "# card facing up:  Pin top right: VIN\n",
    "# Pins on left:\n",
    "# G       \n",
    "# SS     ESP-GPIO5\n",
    "# SCLK   ESP-GPIO18\n",
    "# MOSI   ESP-GPIO23\n",
    "# MISO   ESP-GPIO12\n",
    "\n",
    "\n",
    "import machine, sdcard, os\n",
    "from machine import Pin, SPI\n",
    "spisd = SPI(-1, sck=Pin(18), mosi=Pin(23), miso=Pin(19))\n",
    "sd = sdcard.SDCard(spisd, machine.Pin(5))\n",
    "os.mount(sd, '/sd')\n",
    "print(os.listdir('/sd'))\n"
   ]
  },
  {
   "cell_type": "code",
   "execution_count": 13,
   "metadata": {},
   "outputs": [
    {
     "name": "stdout",
     "output_type": "stream",
     "text": [
      "object <class 'SoftSPI'> is of type type\n",
      "  init -- <function>\n",
      "  deinit -- <function>\n",
      "  read -- <function>\n",
      "  readinto -- <function>\n",
      "  write -- <function>\n",
      "  write_readinto -- <function>\n",
      "  MSB -- 0\n",
      "  LSB -- 1\n"
     ]
    }
   ],
   "source": [
    "help(SPI)"
   ]
  },
  {
   "cell_type": "code",
   "execution_count": 9,
   "metadata": {},
   "outputs": [
    {
     "name": "stdout",
     "output_type": "stream",
     "text": [
      "['000.TXT', '001.TXT']\r\n"
     ]
    }
   ],
   "source": [
    "print(os.listdir('/sd/OOH'))\n"
   ]
  },
  {
   "cell_type": "code",
   "execution_count": 45,
   "metadata": {},
   "outputs": [],
   "source": [
    "ss = cc"
   ]
  },
  {
   "cell_type": "code",
   "execution_count": 49,
   "metadata": {},
   "outputs": [],
   "source": [
    "import sdcard, os\n",
    "sd = sdcard.SDCard(hspi, ss)\n",
    "os.mount(sd, '/sd2')\n",
    "print(os.listdir('/sd2'))"
   ]
  },
  {
   "cell_type": "code",
   "execution_count": 10,
   "metadata": {},
   "outputs": [
    {
     "name": "stdout",
     "output_type": "stream",
     "text": [
      "Logfile: OOH/001.TXT  Date: 2015-08-12T13:16:18\n",
      "Device number: 1\n",
      "Compile date: Aug 12 2015  13:16:15\n",
      "Absolute GPS position:\n",
      "  Qt[8HEX milliseconds timstamp]   u[8HEX milliseconds after midnight]   y[8HEX lat*600000]   x[8HEX lng*600000]   v[4HEX velocity knots*100]   d[4HEX velocity direction degrees*100]\n",
      "Orient reading:\n",
      "  Ot[8HEX milliseconds]   w[4HEX x-vector]   x[4HEX x-vector]   y[4HEX y-vector]   z[4HEX z-vector]\n",
      "\n",
      "Dt00001321i00r0127\n",
      "Ht00001339r8052a0000\n",
      "Bt00001388s25p0001893Dc07C9\n",
      "Bt000013E2s29p0001893Cc07CB\n",
      "Bt00001426s2Cp0001893Ac07CC\n",
      "Bt00001480s30p0001893Ec07CE\n",
      "Bt000014ADs32p0001893Bc07CE\n",
      "Bt000014C4s33p0001893Bc07CF\n",
      "Bt000014DAs34p0001893Dc07CF\n",
      "Bt000014F1s35p0001893Cc07CF\n",
      "Ht00001504r8052a5F4C\n",
      "Bt0000151Es37p0001893Bc07D0\n",
      "Dt0000162Bi00r0127\n",
      "Bt000016B4s09p0001893Bc07D2\n",
      "Ht000016CEr8036a5F50\n",
      "Bt00001768s11p0001893Cc07D3\n",
      "Bt000017D9s16p0001893Fc07D4\n",
      "Bt00001860s1Cp0001893Fc07D5\n",
      "Ht00001899r801Aa5F54\n",
      "Dt00001933i00r0128\n",
      "Bt0000199Cs2Ap0001893Cc07D6\n",
      "Ht00001A63r801Aa5F50\n",
      "Bt00001A67s33p0001893Fc07D7\n",
      "Bt00001A7Es34p0001893Bc07D7\n",
      "Bt00001B32s3Cp0001893Fc07D8\n",
      "Bt00001BA3s01p0001893Cc07D8\n",
      "Bt00001BE6s04p0001893Fc07D8\n",
      "Ht00001C2Dr8006a5F54\n",
      "Dt00001C3Bi00r0128\n",
      "Bt00001CB1s0Dp0001893Cc07D9\n",
      "Bt00001D0Bs11p0001893Cc07D9\n",
      "Bt00001D38s13p0001893Fc07D9\n",
      "Bt00001D93s17p0001893Fc07D9\n",
      "Bt00001DA9s18p0001893Bc07DA\n",
      "Bt00001DD6s1Ap0001893Fc07DA\n",
      "Ht00001DF7r7FFEa5F58\n",
      "Bt00001E03s1Cp0001893Fc07DA\n",
      "Bt00001E1As1Dp0001893Bc07DA\n",
      "Bt00001E30s1Ep0001893Fc07DA\n",
      "Bt00001EFBs27p0001893Bc07DA\n",
      "Bt00001F12s28p0001893Fc07DA\n",
      "Dt00001F43i00r0128\n",
      "Ht00001FC2r7FEEa5F54\n",
      "Ht0000218Cr7FD6a5F5C\n",
      "Dt0000224Bi00r0128\n",
      "Ht00002357r7FCEa5F5C\n",
      "Bt000023D4s1Ep00018940c07DD\n",
      "Ht00002522r7FC6a5F5C\n",
      "Dt00002553i00r0127\n",
      "Bt00002597s32p0001893Fc07DD\n",
      "Bt00002662s3Bp00018940c07DE\n",
      "Ht000026ECr7FAEa5F5C\n",
      "Bt00002716s03p0001893Cc07DE\n",
      "Bt00002852s11p0001893Fc07DF\n",
      "Dt0000285Bi00r0128\n",
      "Ht000028B6r7F9Ea5F5C\n",
      "Bt000028C3s16p0001893Bc07DF\n",
      "Bt000028F0s18p0001893Fc07DF\n",
      "Bt00002A15s25p0001893Cc07DF\n",
      "Bt00002A42s27p0001893Bc07DF\n",
      "Ht00002A81r7F96a5F5C\n",
      "Bt00002A9Cs2Bp00018940c07E0\n",
      "Bt00002AF7s2Fp0001893Fc07E0\n",
      "Dt00002B63i00r0128\n",
      "Bt00002C32s3Dp0001893Bc07E0\n",
      "Ht00002C4Br7F82a5F5C\n",
      "Bt00002E0Cs12p00018940c07E1\n",
      "Ht00002E15r7F8Aa5F60\n",
      "Dt00002E6Ai00r0128\n",
      "Ht00002FE0r7F72a5F60\n",
      "Bt00003013s29p0001893Cc07E2\n",
      "Bt0000309Bs2Fp0001893Cc07E2\n",
      "Dt00003171i00r0128\n",
      "Bt0000317Cs39p0001893Ec07E2\n",
      "Ht000031ABr7F62a5F60\n",
      "Ht00003376r7F5Aa5F60\n",
      "Bt0000340Bs16p0001893Bc07E2\n",
      "Dt00003478i00r0128\n",
      "Ht00003540r7F52a5F64\n",
      "Bt000035A1s28p0001893Cc07E3\n",
      "Bt000035B8s29p0001893Cc07E3\n",
      "Bt0000366Cs31p0001893Fc07E3\n",
      "Bt00003699s33p0001893Fc07E3\n",
      "Ht0000370Br7F4Aa5F64\n",
      "Dt0000377Fi00r0128\n",
      "Ht000038D5r7F3Ea5F60\n",
      "Dt00003A89i00r0128\n",
      "Ht00003AA0r7F36a5F68\n",
      "Bt00003B9Fs2Cp0001893Fc07E5\n",
      "Ht00003C6Br7F2Aa5F60\n",
      "Bt00003C81s36p00018940c07E5\n",
      "Dt00003D90i00r0128\n",
      "Ht00003E36r7F26a5F60\n",
      "Bt00003E72s0Cp0001893Fc07E5\n",
      "Bt00003E9Fs0Ep00018940c07E5\n",
      "Ht00004000r7F1Ea5F60\n",
      "Bt0000401Fs1Fp0001893Fc07E6\n",
      "Dt00004097i00r0128\n",
      "Bt00004100s29p0001893Fc07E6\n",
      "Ht000041CAr7F0Ea5F68\n",
      "Bt000042C4s3Dp0001893Bc07E6\n",
      "Ht00004395r7F0Aa5F68\n",
      "Dt0000439Ei00r0128\n",
      "Ht00004560r7EFAa5F68\n",
      "Dt000046A5i00r0128\n",
      "Ht0000472Ar7EFAa5F68\n",
      "Ht000048F4r7EF2a5F68\n",
      "Bt00004949s07p00018940c07E8\n",
      "Dt000049ACi00r0128\n",
      "Bt000049BAs0Cp0001893Ec07E8\n",
      "Ht00004ABFr7EF6a5F64\n",
      "Ht00004C89r7EEEa5F68\n",
      "Dt00004CB6i00r0128\n",
      "Bt00004D6Es36p0001893Fc07E8\n",
      "Bt00004D85s37p0001893Fc07E8\n",
      "Bt00004D9Bs38p0001893Cc07E8\n",
      "Bt00004DF5s3Cp0001893Fc07E8\n",
      "Bt00004E0Cs3Dp0001893Fc07E8\n",
      "Bt00004E23s3Ep0001893Fc07E8\n",
      "Bt00004E39s3Fp0001893Cc07E8\n",
      "Ht00004E54r7EE2a5F6C\n",
      "Bt00004EEEs07p0001893Fc07E9\n",
      "Bt00004FA2s0Fp00018944c07E9\n",
      "Dt00004FBDi00r0127\n",
      "Ht0000501Er7ED6a5F68\n",
      "Bt00005138s21p00018938c07E9\n",
      "Ht000051E9r7ED6a5F6C\n",
      "Dt000052C4i00r0128\n",
      "Bt0000533Fs38p0001893Bc07E9\n",
      "Ht000053B3r7ECAa5F68\n",
      "Ht0000557Er7EAEa5F70\n",
      "Dt000055CBi00r0128\n",
      "Ht00005749r7E8Ea5F68\n",
      "Dt000058D2i00r0128\n",
      "Ht00005913r7E82a5F68\n",
      "Bt000059C5s02p0001893Bc07EA\n",
      "Ht00005ADDr7E7Ea5F70\n",
      "Dt00005BD9i00r0128\n",
      "Ht00005CA7r7E6Ea5F6C\n",
      "Bt00005DA5s2Ep00018938c07EA\n",
      "Ht00005E72r7E6Aa5F6C\n"
     ]
    }
   ],
   "source": [
    "x = open('/sd/OOH/001.TXT')\n",
    "for l in x:\n",
    "    print(l, end=\"\")"
   ]
  },
  {
   "cell_type": "code",
   "execution_count": 12,
   "metadata": {},
   "outputs": [
    {
     "name": "stdout",
     "output_type": "stream",
     "text": [
      "Listing directory '/sd/OOH'.\n",
      "      424    sd/OOH/000.TXT\n",
      "     3846    sd/OOH/001.TXT\n"
     ]
    }
   ],
   "source": [
    "%ls /sd/OOH"
   ]
  },
  {
   "cell_type": "code",
   "execution_count": 14,
   "metadata": {},
   "outputs": [
    {
     "name": "stdout",
     "output_type": "stream",
     "text": [
      "Listing directory '/'.\n",
      "     3251    Dmain.py\n",
      "      139    boot.py\n",
      "        1    deviceletter.txt\n",
      "       93    hotspots.txt\n",
      "             sd/\n",
      "     8634    sdcard.py\n",
      "     2004    ubxm8t.py\n",
      "     1787    utils.py\n"
     ]
    }
   ],
   "source": [
    "%ls"
   ]
  },
  {
   "cell_type": "code",
   "execution_count": 15,
   "metadata": {},
   "outputs": [
    {
     "name": "stdout",
     "output_type": "stream",
     "text": [
      "C\r\n"
     ]
    }
   ],
   "source": [
    "print(open(\"deviceletter.txt\", \"r\").read())"
   ]
  },
  {
   "cell_type": "code",
   "execution_count": 74,
   "metadata": {},
   "outputs": [
    {
     "name": "stdout",
     "output_type": "stream",
     "text": [
      "1872\r\n"
     ]
    }
   ],
   "source": [
    "print(a.read())"
   ]
  },
  {
   "cell_type": "code",
   "execution_count": 67,
   "metadata": {},
   "outputs": [],
   "source": []
  },
  {
   "cell_type": "code",
   "execution_count": 63,
   "metadata": {},
   "outputs": [
    {
     "name": "stdout",
     "output_type": "stream",
     "text": [
      "object <class 'ADC'> is of type type\n",
      "  read_u16 -- <function>\n",
      "  read -- <function>\n",
      "  atten -- <function>\n",
      "  width -- <classmethod>\n",
      "  ATTN_0DB -- 0\n",
      "  ATTN_2_5DB -- 1\n",
      "  ATTN_6DB -- 2\n",
      "  ATTN_11DB -- 3\n",
      "  WIDTH_9BIT -- 0\n",
      "  WIDTH_10BIT -- 1\n",
      "  WIDTH_11BIT -- 2\n",
      "  WIDTH_12BIT -- 3\n"
     ]
    }
   ],
   "source": [
    "help(ADC)"
   ]
  },
  {
   "cell_type": "code",
   "execution_count": 64,
   "metadata": {},
   "outputs": [
    {
     "name": "stderr",
     "output_type": "stream",
     "text": [
      "Traceback (most recent call last):\n",
      "  File \"<stdin>\", line 1, in <module>\n",
      "TypeError: function takes 2 positional arguments but 1 were given\n"
     ]
    }
   ],
   "source": [
    "print(a.atten(ADC.ATTN_11DB))"
   ]
  },
  {
   "cell_type": "code",
   "execution_count": null,
   "metadata": {},
   "outputs": [],
   "source": []
  }
 ],
 "metadata": {
  "kernelspec": {
   "display_name": "MicroPython - USB",
   "language": "micropython",
   "name": "micropython"
  },
  "language_info": {
   "codemirror_mode": "python",
   "file_extension": ".py",
   "mimetype": "text/python",
   "name": "micropython"
  }
 },
 "nbformat": 4,
 "nbformat_minor": 2
}
