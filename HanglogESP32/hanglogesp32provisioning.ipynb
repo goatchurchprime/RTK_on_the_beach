{
 "cells": [
  {
   "cell_type": "code",
   "execution_count": null,
   "metadata": {},
   "outputs": [],
   "source": [
    "# This page is for provisioning an ESP32 GPS device for the wingtip or base-station.  \n",
    "# This interfaces with the Hanglog3 android app to record the data, which the \n",
    "# scripts in this repository can interact with to enable RTK technology\n"
   ]
  },
  {
   "cell_type": "code",
   "execution_count": 20,
   "metadata": {},
   "outputs": [
    {
     "name": "stdout",
     "output_type": "stream",
     "text": [
      "\u001b[34mattempt to exit paste mode\n",
      "\u001b[0m\u001b[34m[\\r\\x03\\x02] \u001b[0mb'\\r\\nMicroPython v1.12-606-g07f181a21 on 2020-07-01; ESP32 module with ESP32\\r\\nType \"help()\" for more information.\\r\\n>>> '\u001b[34m\n",
      "Closing serial Serial<id=0x7f80107bfc10, open=True>(port='/dev/ttyUSB0', baudrate=115200, bytesize=8, parity='N', stopbits=1, timeout=0.5, xonxoff=False, rtscts=False, dsrdtr=False)\n",
      "\u001b[0m\u001b[34mExecuting:\n",
      "  esptool.py --port /dev/ttyUSB0 erase_flash\n",
      "\n",
      "\u001b[0mesptool.py v2.8\n",
      "Serial port /dev/ttyUSB0\n",
      "Connecting.......\n",
      "\u001b[34m[Press the PRG button now if required]\n",
      "\u001b[0mDetecting chip type... ESP32\n",
      "Chip is ESP32D0WDQ6 (revision 1)\n",
      "Features: WiFi, BT, Dual Core, 240MHz, VRef calibration in efuse, Coding Scheme None\n",
      "Crystal is 40MHz\n",
      "MAC: 3c:71:bf:ff:67:7c\n",
      "Uploading stub...\n",
      "Running stub...\n",
      "Stub running...\n",
      "Erasing flash (this may take a while)...\n",
      "Chip erase completed successfully in 9.2s\n",
      "Hard resetting via RTS pin...\n"
     ]
    }
   ],
   "source": [
    "#### esptool.py --port /dev/ttyUSB1 erase_flash\n",
    "%esptool erase"
   ]
  },
  {
   "cell_type": "code",
   "execution_count": 21,
   "metadata": {},
   "outputs": [
    {
     "name": "stdout",
     "output_type": "stream",
     "text": [
      "\u001b[34mExecuting:\n",
      "  esptool.py --port /dev/ttyUSB0 --chip esp32 write_flash -z 0x1000 /home/julian/executables/micropythonbins/esp32-idf4-20200701-unstable-v1.12-606-g07f181a21.bin\n",
      "\n",
      "\u001b[0mesptool.py v2.8\n",
      "Serial port /dev/ttyUSB0\n",
      "Connecting....\n",
      "\u001b[34m[Press the PRG button now if required]\n",
      "\u001b[0mChip is ESP32D0WDQ6 (revision 1)\n",
      "Features: WiFi, BT, Dual Core, 240MHz, VRef calibration in efuse, Coding Scheme None\n",
      "Crystal is 40MHz\n",
      "MAC: 3c:71:bf:ff:67:7c\n",
      "Uploading stub...\n",
      "Running stub...\n",
      "Stub running...\n",
      "Configuring flash size...\n",
      "Auto-detected Flash size: 4MB\n",
      "Compressed 1448848 bytes to 924753...\n",
      "Wrote 1448848 bytes (924753 compressed) at 0x00001000 in 82.2 seconds (effective 141.0 kbit/s)...\n",
      "Hash of data verified.\n",
      "\n",
      "Leaving...\n",
      "Hard resetting via RTS pin...\n"
     ]
    }
   ],
   "source": [
    "#### esptool.py --port /dev/ttyUSB0 --chip esp32 write_flash -z 0x1000 /home/julian/executables/micropythonbins/esp32-idf4-20200124-v1.12-87-g96716b46e.bin\n",
    "%esptool esp32 /home/julian/executables/micropythonbins/esp32-idf4-20200701-unstable-v1.12-606-g07f181a21.bin"
   ]
  },
  {
   "cell_type": "code",
   "execution_count": 22,
   "metadata": {},
   "outputs": [
    {
     "name": "stdout",
     "output_type": "stream",
     "text": [
      "\u001b[34mConnecting to --port=/dev/ttyUSB0 --baud=115200 \u001b[0m\n",
      "\u001b[34mReady.\n",
      "\u001b[0m"
     ]
    }
   ],
   "source": [
    "%serialconnect"
   ]
  },
  {
   "cell_type": "code",
   "execution_count": 23,
   "metadata": {},
   "outputs": [
    {
     "name": "stdout",
     "output_type": "stream",
     "text": [
      "__main__          gc                uasyncio/stream   upip_utarfile\n",
      "_boot             inisetup          ubinascii         upysh\n",
      "_onewire          machine           ubluetooth        urandom\n",
      "_thread           math              ucollections      ure\n",
      "_uasyncio         micropython       ucryptolib        urequests\n",
      "_webrepl          neopixel          uctypes           uselect\n",
      "apa106            network           uerrno            usocket\n",
      "btree             ntptime           uhashlib          ussl\n",
      "builtins          onewire           uhashlib          ustruct\n",
      "cmath             sys               uheapq            utime\n",
      "dht               uarray            uio               utimeq\n",
      "ds18x20           uasyncio/__init__ ujson             uwebsocket\n",
      "esp               uasyncio/core     umqtt/robust      uzlib\n",
      "esp32             uasyncio/event    umqtt/simple      webrepl\n",
      "flashbdev         uasyncio/funcs    uos               webrepl_setup\n",
      "framebuf          uasyncio/lock     upip              websocket_helper\n",
      "Plus any modules on the filesystem\n"
     ]
    }
   ],
   "source": [
    "help(\"modules\")"
   ]
  },
  {
   "cell_type": "code",
   "execution_count": 624,
   "metadata": {},
   "outputs": [
    {
     "name": "stdout",
     "output_type": "stream",
     "text": [
      "serial exception on close write failed: [Errno 5] Input/output error\n",
      "\u001b[34mConnecting to --port=/dev/ttyUSB1 --baud=115200 \u001b[0m\n",
      "\u001b[34mReady.\n",
      "\u001b[0m"
     ]
    }
   ],
   "source": [
    "%serialconnect"
   ]
  },
  {
   "cell_type": "code",
   "execution_count": 634,
   "metadata": {},
   "outputs": [
    {
     "name": "stdout",
     "output_type": "stream",
     "text": [
      "Sent 6 lines (183 bytes) to config.txt.\n"
     ]
    }
   ],
   "source": [
    "%sendtofile config.txt\n",
    "\n",
    "deviceletter   A\n",
    "pinled         2\n",
    "pingled        23\n",
    "pinbatteryadc  34,6800,2200,3.8\n",
    "connection1    BV6000,beckaaaa,192.168.43.1,9042\n",
    "connection0    JulianS9,beckaaaa,192.168.43.1,9042"
   ]
  },
  {
   "cell_type": "code",
   "execution_count": 679,
   "metadata": {},
   "outputs": [
    {
     "name": "stdout",
     "output_type": "stream",
     "text": [
      "Sent 5 lines (165 bytes) to config.txt.\n"
     ]
    }
   ],
   "source": [
    "%sendtofile config.txt\n",
    "\n",
    "deviceletter   B\n",
    "pinled         2\n",
    "pinbatteryadc  34,6800,2200,3.8\n",
    "connection1    BV6000,beckaaaa,192.168.43.1,9042\n",
    "connection0    JulianS9,beckaaaa,192.168.43.1,9042"
   ]
  },
  {
   "cell_type": "code",
   "execution_count": 24,
   "metadata": {},
   "outputs": [
    {
     "name": "stdout",
     "output_type": "stream",
     "text": [
      "Sent 7 lines (213 bytes) to config.txt.\n"
     ]
    }
   ],
   "source": [
    "%sendtofile config.txt\n",
    "\n",
    "deviceletter   C\n",
    "pinled         2\n",
    "pinbatteryadc  34,6800,2200,3.6\n",
    "connection1    BV6000,beckaaaa,192.168.43.1,9042\n",
    "connection0    JulianS9,beckaaaa,192.168.43.1,9042\n",
    "sdcard         5,18,23,19,/sd\n",
    "wifi2sdtimeout 10"
   ]
  },
  {
   "cell_type": "code",
   "execution_count": 31,
   "metadata": {},
   "outputs": [
    {
     "name": "stdout",
     "output_type": "stream",
     "text": [
      "Sent 281 lines (8634 bytes) to sdcard.py.\n"
     ]
    }
   ],
   "source": [
    "%sendtofile --source sdcard.py"
   ]
  },
  {
   "cell_type": "code",
   "execution_count": 38,
   "metadata": {},
   "outputs": [
    {
     "name": "stdout",
     "output_type": "stream",
     "text": [
      "Sent 163 lines (5648 bytes) to asyncutils.py.\n"
     ]
    }
   ],
   "source": [
    "%sendtofile --source asyncutils.py"
   ]
  },
  {
   "cell_type": "code",
   "execution_count": 30,
   "metadata": {},
   "outputs": [
    {
     "name": "stdout",
     "output_type": "stream",
     "text": [
      "serial exception on close write failed: [Errno 5] Input/output error\n",
      "\u001b[34mConnecting to --port=/dev/ttyUSB0 --baud=115200 \u001b[0m\n",
      "\u001b[34mReady.\n",
      "\u001b[0m"
     ]
    }
   ],
   "source": [
    "%serialconnect"
   ]
  },
  {
   "cell_type": "code",
   "execution_count": 586,
   "metadata": {},
   "outputs": [
    {
     "name": "stdout",
     "output_type": "stream",
     "text": [
      "Sent 167 lines (5638 bytes) to asyncutils.py.\n"
     ]
    }
   ],
   "source": []
  },
  {
   "cell_type": "code",
   "execution_count": 37,
   "metadata": {},
   "outputs": [
    {
     "name": "stdout",
     "output_type": "stream",
     "text": [
      "serial exception on close write failed: [Errno 5] Input/output error\n",
      "\u001b[34mConnecting to --port=/dev/ttyUSB0 --baud=115200 \u001b[0m\n",
      "\u001b[34mReady.\n",
      "\u001b[0m"
     ]
    }
   ],
   "source": [
    "%serialconnect"
   ]
  },
  {
   "cell_type": "code",
   "execution_count": 33,
   "metadata": {},
   "outputs": [],
   "source": [
    "import os\n",
    "os.remove(\"main.py\")"
   ]
  },
  {
   "cell_type": "code",
   "execution_count": 34,
   "metadata": {},
   "outputs": [
    {
     "name": "stdout",
     "output_type": "stream",
     "text": [
      "['asyncutils.py', 'boot.py', 'config.txt']\r\n"
     ]
    }
   ],
   "source": [
    "import os\n",
    "print(os.listdir())"
   ]
  },
  {
   "cell_type": "code",
   "execution_count": 39,
   "metadata": {
    "scrolled": false
   },
   "outputs": [
    {
     "name": "stdout",
     "output_type": "stream",
     "text": [
      "Sent 193 lines (7674 bytes) to main.py.\n"
     ]
    }
   ],
   "source": [
    "%sendtofile main.py\n",
    "\n",
    "import uasyncio as asyncio\n",
    "import uasyncio.stream\n",
    "from asyncutils import fconfig, wificonnect, initUBX, mountsd, \\\n",
    "                       streamUBX, encodeUBX, pinled, flashseq, batteryvoltage\n",
    "import socket, os\n",
    "\n",
    "deviceletter = fconfig[\"deviceletter\"]\n",
    "\n",
    "fdatebasedname = None\n",
    "sddir = None\n",
    "sdfileout = None\n",
    "nbytesout = 0\n",
    "\n",
    "androidipnumber, portnumber = None, None\n",
    "socketstream = None\n",
    "socketstreamcmd = None\n",
    "\n",
    "battvoltmsg = None\n",
    "async def ledflashingtask():\n",
    "    global battvoltmsg\n",
    "    lnbytesout = 0\n",
    "    n = 0\n",
    "    while True:\n",
    "        battvolt = batteryvoltage()\n",
    "        if battvolt != 0 and (n%10) == 0:\n",
    "            battvoltmsg = encodeUBX(0x21, 0x04, (\"battvolt=%4.2fv\" % battvolt).encode())  # UBX-LOG-STRING\n",
    "\n",
    "        battfac = max(0.1, battvolt - 6)/4\n",
    "        battms = int(battfac*800)\n",
    "        if sdfileout is None and socketstream is None:\n",
    "            if fdatebasedname is None:\n",
    "                await flashseq((500, 50, 100, 50, 200, battms))\n",
    "            else:\n",
    "                await flashseq((500, 50, 200, battms))\n",
    "        \n",
    "        elif nbytesout - lnbytesout > 40:\n",
    "            lnbytesout = nbytesout\n",
    "            if sdfileout is not None:\n",
    "                await flashseq((1500, 100, 200, 100, 200, battms, 300, 100, 200, 100))\n",
    "            else:\n",
    "                await flashseq((1500, 100, 200, battms, 300, 100, ))\n",
    "                await flashseq((1500, 100, 200, battms, 300, 100, ))\n",
    "            \n",
    "        else:\n",
    "            await flashseq((400, 1000, 200, battms))\n",
    "        n += 1\n",
    "\n",
    "\n",
    "        \n",
    "socketreadlinestack = [ ]\n",
    "async def socketstreamcmdtask():\n",
    "    global socketstreamcmd, socketstream, battvoltmsg, sddir\n",
    "    while len(socketreadlinestack) == 0 or socketreadlinestack[0] != \"-SDMODE\":\n",
    "        if fdatebasedname is None and battvoltmsg is not None and socketstream is not None:\n",
    "            try:\n",
    "                await socketstream.awrite(battvoltmsg)\n",
    "            except OSError as e:\n",
    "                print(\"OSError writing battvoltmsg\")\n",
    "            battvoltmsg = None \n",
    "        await asyncio.sleep_ms(100)\n",
    "        \n",
    "    if sddir is None:\n",
    "        sddir = mountsd()\n",
    "    socketstreamcmd, socketstream = socketstream, None\n",
    "\n",
    "    while True:\n",
    "        try:\n",
    "            if len(socketreadlinestack) == 3:\n",
    "                rld, rl = socketreadlinestack.pop(), socketreadlinestack.pop()\n",
    "                if rl == \"-DRL\":\n",
    "                    print(\"listing\", rld)\n",
    "                    await socketstreamcmd.awrite((\"List '%s'\\n\" % rld).encode())\n",
    "                    for l in os.listdir(rld):\n",
    "                        nbytes = os.stat(\"%s/%s\"%(rld,l))[6]\n",
    "                        await socketstreamcmd.awrite((\"%s %d\\n\" % (l, nbytes)).encode())\n",
    "                    await socketstreamcmd.awrite((\".\\n\").encode())\n",
    "                elif rl == \"-DRR\":\n",
    "                    print(\"reading\", rld)\n",
    "                    print(os.stat(rld))\n",
    "                    nbytes = os.stat(rld)[6]\n",
    "                    await socketstreamcmd.awrite((\"%d\\n\" % nbytes).encode())\n",
    "                    fin = open(rld, \"rb\")\n",
    "                    while True:\n",
    "                        d = fin.read(500)\n",
    "                        if not d:\n",
    "                            break\n",
    "                        await socketstreamcmd.awrite(d)\n",
    "                        if len(socketreadlinestack) >= 2 and socketreadlinestack[1] == \"-SDMODE\":\n",
    "                            break\n",
    "                elif rl == \"-DRE\":\n",
    "                    print(\"erasing\", rld)\n",
    "                    try:\n",
    "                        os.remove(rld)\n",
    "                        msg = \"Removed '%s'\\n\"%rld\n",
    "                    except OSError:\n",
    "                        msg = \"Failed\\n\"\n",
    "                    await socketstreamcmd.awrite(msg.encode())\n",
    "            await asyncio.sleep_ms(100)\n",
    "        except OSError as e:\n",
    "            print(\"socketstream3 OSError\", e)\n",
    "            socketstream = None\n",
    "            await asyncio.sleep_ms(2000)\n",
    "        \n",
    "async def manageconnectiontask():\n",
    "    global socketstream, sdfileout, socketstreamcmd, sddir\n",
    "    global androidipnumber, portnumber\n",
    "    # this won't return with None unless there is an SDCard option\n",
    "    androidipnumber, portnumber = await wificonnect()  \n",
    "    \n",
    "    if androidipnumber is not None:\n",
    "        while True:\n",
    "            try:\n",
    "                if socketstream is None:\n",
    "                    ss = socket.socket()\n",
    "                    ss.settimeout(1)\n",
    "                    print(\"new socket connection\", ss)\n",
    "                    ss.connect(socket.getaddrinfo(androidipnumber, portnumber)[0][-1])\n",
    "                    lsocketstream = uasyncio.stream.Stream(ss)\n",
    "                    print(await lsocketstream.readline())\n",
    "                    await lsocketstream.awrite(b\"%c%c%c%c\"%(deviceletter,deviceletter,deviceletter,deviceletter))\n",
    "                    if socketstreamcmd is None:\n",
    "                        socketstream = lsocketstream\n",
    "                    else:\n",
    "                        socketstreamcmd = lsocketstream  # drop back into cmd stream on reconnect\n",
    "                \n",
    "                while (socketstream is not None) or (socketstreamcmd is not None):\n",
    "                    print(\"await socketstream.readline\")\n",
    "                    rl = (await (socketstream or socketstreamcmd).readline()).decode().strip()\n",
    "                    print(\"socketstream line\", [rl])\n",
    "                    while len(socketreadlinestack) > 2:\n",
    "                        socketreadlinestack.pop(0)\n",
    "                    socketreadlinestack.append(rl)\n",
    "                    \n",
    "            except OSError as e:\n",
    "                print(\"socketstream2 OSError\", e)\n",
    "                socketstream = None  # cmdstream stays not none as a placeholder\n",
    "                await asyncio.sleep_ms(2000)\n",
    "                \n",
    "    # no wifi found, and timeout set, drop into SD card plotting \n",
    "    else:\n",
    "        while fdatebasedname is None:\n",
    "            print(\"waiting for fdatebasedname\")\n",
    "            await asyncio.sleep_ms(1000)\n",
    "        sddir = mountsd()\n",
    "        if sddir is not None:\n",
    "            sdfilename = \"%s/%s%s.ubx\" % (sddir, fdatebasedname, deviceletter)\n",
    "            print(\"Opening sdfile\", sdfilename)\n",
    "            sdfileout = open(sdfilename, \"wb\")\n",
    "            for i in range(20):\n",
    "                await flashseq((100, 50))\n",
    "        else:\n",
    "            loop.create_task(manageconnectiontask())\n",
    "        \n",
    "async def streamgpstask():\n",
    "    global fdatebasedname, socketstream, nbytesout, battvoltmsg\n",
    "    fdatebasedname = await initUBX()\n",
    "    while True:\n",
    "        fdata = await streamUBX.read(-1)\n",
    "        if socketstream is not None:\n",
    "            try:\n",
    "                if battvoltmsg is not None and fdata[:4] == b'\\xb5\\x62\\x01\\x30':\n",
    "                    print(battvoltmsg)\n",
    "                    await socketstream.awrite(battvoltmsg)\n",
    "                await socketstream.awrite(fdata)\n",
    "            except OSError as e:\n",
    "                print(\"socketstream1 OSError\", e)\n",
    "                socketstream = None  # should kick off connecting again\n",
    "                \n",
    "        if sdfileout is not None:\n",
    "            try:\n",
    "                if battvoltmsg is not None and fdata[:4] == b'\\xb5\\x62\\x01\\x30':\n",
    "                    sdfileout.write(battvoltmsg)\n",
    "                sdfileout.write(fdata)\n",
    "                sdfileout.flush()\n",
    "            except OSError as e:\n",
    "                print(\"SDFile OSError\", e)\n",
    "\n",
    "        if battvoltmsg is not None and fdata[:4] == b'\\xb5\\x62\\x01\\x30':\n",
    "            battvoltmsg = None\n",
    "\n",
    "        if sdfileout is not None or socketstream is not None:\n",
    "            np, nbytesout = nbytesout, nbytesout+len(fdata)\n",
    "            if np//100000 != nbytesout//100000:\n",
    "                print(\"bytes:\", nbytesout)\n",
    "\n",
    "loop = asyncio.get_event_loop()\n",
    "loop.create_task(manageconnectiontask())\n",
    "loop.create_task(streamgpstask())\n",
    "loop.create_task(ledflashingtask())\n",
    "loop.create_task(socketstreamcmdtask())\n",
    "loop.run_forever()\n",
    "\n",
    "    "
   ]
  },
  {
   "cell_type": "code",
   "execution_count": 438,
   "metadata": {},
   "outputs": [
    {
     "name": "stdout",
     "output_type": "stream",
     "text": [
      "Listing directory 'sd'.\n",
      "             sd/OOH/\n",
      "             sd/System Volume Information/\n",
      "        0    sd/hdata-2020-07-06_17-18-26C.ubx\n",
      "   133531    sd/hdata-2020-07-06_17-21-04C.ubx\n",
      "    28170    sd/hdata-2020-07-06_17-24-25C.ubx\n",
      "        0    sd/test.txt\n"
     ]
    }
   ],
   "source": [
    "%ls sd"
   ]
  },
  {
   "cell_type": "code",
   "execution_count": 259,
   "metadata": {},
   "outputs": [
    {
     "name": "stdout",
     "output_type": "stream",
     "text": [
      "serial exception on close write failed: [Errno 5] Input/output error\n",
      "\u001b[34mConnecting to --port=/dev/ttyUSB1 --baud=115200 \u001b[0m\n",
      "\u001b[34mReady.\n",
      "\u001b[0m"
     ]
    }
   ],
   "source": [
    "%serialconnect"
   ]
  },
  {
   "cell_type": "code",
   "execution_count": 576,
   "metadata": {},
   "outputs": [
    {
     "name": "stdout",
     "output_type": "stream",
     "text": [
      "1\r\n"
     ]
    }
   ],
   "source": [
    "print(b'\\xb5b\\x010\\x04\\x01\\x10\\x1d\\xf1\\x18'[5])"
   ]
  },
  {
   "cell_type": "code",
   "execution_count": 591,
   "metadata": {},
   "outputs": [
    {
     "name": "stdout",
     "output_type": "stream",
     "text": [
      "serial exception on close write failed: [Errno 5] Input/output error\n",
      "\u001b[34mConnecting to --port=/dev/ttyUSB1 --baud=115200 \u001b[0m\n",
      "Traceback (most recent call last):\n",
      "  File \"main.py\", line 158, in <module>\n",
      "  File \"uasyncio/core.py\", line 1, in run_forever\n",
      "  File \"uasyncio/core.py\", line 1, in run_until_complete\n",
      "  File \"main.py\", line 47, in manageconnectiontask\n",
      "  File \"asyncutils.py\", line 81, in wificonnect\n",
      "KeyboardInterrupt: \n",
      "MicroPython v1.12-606-g07f181a21 on 2020-07-01; ESP32 module with ESP32\n",
      "Type \"help()\" for more information.\n",
      ">>> \n",
      ">>> \n",
      "raw REPL; CTRL-B to exit\n",
      ">\u001b[34mReady.\n",
      "\u001b[0m"
     ]
    }
   ],
   "source": [
    "%serialconnect"
   ]
  },
  {
   "cell_type": "code",
   "execution_count": 593,
   "metadata": {},
   "outputs": [
    {
     "name": "stdout",
     "output_type": "stream",
     "text": [
      "/sd\r\n"
     ]
    }
   ],
   "source": [
    "from asyncutils import mountsd\n",
    "print(mountsd())"
   ]
  },
  {
   "cell_type": "code",
   "execution_count": 595,
   "metadata": {},
   "outputs": [
    {
     "name": "stdout",
     "output_type": "stream",
     "text": [
      "Listing directory 'sd'.\n",
      "             sd/OOH/\n",
      "             sd/System Volume Information/\n",
      "  1474115    sd/hdata-2020-07-07_20-43-28C.ubx\n",
      "  3397565    sd/hdata-2020-07-10_09-43-54C.ubx\n"
     ]
    }
   ],
   "source": [
    "%ls sd\n"
   ]
  },
  {
   "cell_type": "code",
   "execution_count": 596,
   "metadata": {},
   "outputs": [
    {
     "name": "stdout",
     "output_type": "stream",
     "text": [
      "Fetched 3397565=3397565 bytes from sd/hdata-2020-07-10_09-43-54C.ubx.\n",
      "Saving file to 'hdata-2020-07-10_09-43-54C.ubx'"
     ]
    }
   ],
   "source": [
    "%fetchfile --binary sd/hdata-2020-07-10_09-43-54C.ubx"
   ]
  },
  {
   "cell_type": "code",
   "execution_count": null,
   "metadata": {},
   "outputs": [],
   "source": []
  }
 ],
 "metadata": {
  "kernelspec": {
   "display_name": "MicroPython - USB",
   "language": "micropython",
   "name": "micropython"
  },
  "language_info": {
   "codemirror_mode": "python",
   "file_extension": ".py",
   "mimetype": "text/python",
   "name": "micropython"
  }
 },
 "nbformat": 4,
 "nbformat_minor": 2
}
