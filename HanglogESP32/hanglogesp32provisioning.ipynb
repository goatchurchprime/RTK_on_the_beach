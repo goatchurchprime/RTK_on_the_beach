{
 "cells": [
  {
   "cell_type": "code",
   "execution_count": null,
   "metadata": {},
   "outputs": [],
   "source": [
    "# This page is for provisioning an ESP32 GPS device for the wingtip or base-station.  \n",
    "# This interfaces with the Hanglog3 android app to record the data, which the \n",
    "# scripts in this repository can interact with to enable RTK technology\n"
   ]
  },
  {
   "cell_type": "raw",
   "metadata": {},
   "source": [
    "#### esptool.py --port /dev/ttyUSB1 erase_flash\n",
    "%esptool erase"
   ]
  },
  {
   "cell_type": "code",
   "execution_count": 26,
   "metadata": {},
   "outputs": [
    {
     "name": "stdout",
     "output_type": "stream",
     "text": [
      "\u001b[31m\n",
      "\n",
      "***Connection broken [Input/output error]\n",
      "\u001b[0mYou may need to reconnect\u001b[34m\n",
      "Closing serial Serial<id=0x7f3f0c053e90, open=True>(port='/dev/ttyUSB1', baudrate=115200, bytesize=8, parity='N', stopbits=1, timeout=0.5, xonxoff=False, rtscts=False, dsrdtr=False)\n",
      "\u001b[0m\u001b[34mExecuting:\n",
      "  esptool.py --port /dev/ttyUSB0 --chip esp32 write_flash -z 0x1000 /home/julian/executables/micropythonbins/esp32-idf4-20200701-unstable-v1.12-606-g07f181a21.bin\n",
      "\n",
      "\u001b[0mesptool.py v2.8\n",
      "Serial port /dev/ttyUSB0\n",
      "Connecting....\n",
      "\u001b[34m[Press the PRG button now if required]\n",
      "\u001b[0mChip is ESP32D0WDQ6 (revision 1)\n",
      "Features: WiFi, BT, Dual Core, 240MHz, VRef calibration in efuse, Coding Scheme None\n",
      "Crystal is 40MHz\n",
      "MAC: 3c:71:bf:ff:67:7c\n",
      "Uploading stub...\n",
      "Running stub...\n",
      "Stub running...\n",
      "Configuring flash size...\n",
      "Auto-detected Flash size: 4MB\n",
      "Compressed 1448848 bytes to 924753...\n",
      "Wrote 1448848 bytes (924753 compressed) at 0x00001000 in 81.9 seconds (effective 141.5 kbit/s)...\n",
      "Hash of data verified.\n",
      "\n",
      "Leaving...\n",
      "Hard resetting via RTS pin...\n"
     ]
    }
   ],
   "source": [
    "#### esptool.py --port /dev/ttyUSB0 --chip esp32 write_flash -z 0x1000 /home/julian/executables/micropythonbins/esp32-idf4-20200124-v1.12-87-g96716b46e.bin\n",
    "%esptool esp32 /home/julian/executables/micropythonbins/esp32-idf4-20200701-unstable-v1.12-606-g07f181a21.bin"
   ]
  },
  {
   "cell_type": "code",
   "execution_count": 27,
   "metadata": {},
   "outputs": [
    {
     "name": "stdout",
     "output_type": "stream",
     "text": [
      "\u001b[34mConnecting to --port=/dev/ttyUSB0 --baud=115200 \u001b[0m\n",
      "\u001b[34mReady.\n",
      "\u001b[0m"
     ]
    }
   ],
   "source": [
    "%serialconnect"
   ]
  },
  {
   "cell_type": "code",
   "execution_count": 28,
   "metadata": {},
   "outputs": [
    {
     "name": "stdout",
     "output_type": "stream",
     "text": [
      "__main__          gc                uasyncio/stream   upip_utarfile\n",
      "_boot             inisetup          ubinascii         upysh\n",
      "_onewire          machine           ubluetooth        urandom\n",
      "_thread           math              ucollections      ure\n",
      "_uasyncio         micropython       ucryptolib        urequests\n",
      "_webrepl          neopixel          uctypes           uselect\n",
      "apa106            network           uerrno            usocket\n",
      "btree             ntptime           uhashlib          ussl\n",
      "builtins          onewire           uhashlib          ustruct\n",
      "cmath             sys               uheapq            utime\n",
      "dht               uarray            uio               utimeq\n",
      "ds18x20           uasyncio/__init__ ujson             uwebsocket\n",
      "esp               uasyncio/core     umqtt/robust      uzlib\n",
      "esp32             uasyncio/event    umqtt/simple      webrepl\n",
      "flashbdev         uasyncio/funcs    uos               webrepl_setup\n",
      "framebuf          uasyncio/lock     upip              websocket_helper\n",
      "Plus any modules on the filesystem\n"
     ]
    }
   ],
   "source": [
    "help(\"modules\")"
   ]
  },
  {
   "cell_type": "code",
   "execution_count": 29,
   "metadata": {},
   "outputs": [
    {
     "name": "stdout",
     "output_type": "stream",
     "text": [
      "Sent 66 lines (2004 bytes) to ubxm8t.py.\n"
     ]
    }
   ],
   "source": [
    "%sendtofile --source utils.py\n",
    "%sendtofile --source ubxm8t.py"
   ]
  },
  {
   "cell_type": "code",
   "execution_count": 477,
   "metadata": {},
   "outputs": [
    {
     "name": "stdout",
     "output_type": "stream",
     "text": [
      "Sent 8 lines (227 bytes) to config.txt.\n"
     ]
    }
   ],
   "source": [
    "%sendtofile config.txt\n",
    "\n",
    "deviceletter   C\n",
    "pinled         2\n",
    "pingled        23\n",
    "pinbatteryadc  34,6800,2200\n",
    "connection1    BV6000,beckaaaa,192.168.43.1,9042\n",
    "connection0    JulianS9,beckaaaa,192.168.43.1,9042\n",
    "sdcard         5,18,23,19,/sd\n",
    "wifi2sdtimeout 10"
   ]
  },
  {
   "cell_type": "code",
   "execution_count": 476,
   "metadata": {},
   "outputs": [
    {
     "name": "stdout",
     "output_type": "stream",
     "text": [
      "serial exception on close write failed: [Errno 5] Input/output error\n",
      "\u001b[34mConnecting to --port=/dev/ttyUSB1 --baud=115200 \u001b[0m\n",
      "\u001b[34mReady.\n",
      "\u001b[0m"
     ]
    }
   ],
   "source": [
    "%serialconnect"
   ]
  },
  {
   "cell_type": "code",
   "execution_count": 50,
   "metadata": {},
   "outputs": [
    {
     "name": "stdout",
     "output_type": "stream",
     "text": [
      "Sent 105 lines (3616 bytes) to main.py.\n"
     ]
    }
   ],
   "source": [
    "%sendtofile --source main.py"
   ]
  },
  {
   "cell_type": "code",
   "execution_count": 47,
   "metadata": {},
   "outputs": [
    {
     "name": "stdout",
     "output_type": "stream",
     "text": [
      "Sent 94 lines (2645 bytes) to utils.py.\n"
     ]
    }
   ],
   "source": [
    "%sendtofile --source utils.py"
   ]
  },
  {
   "cell_type": "code",
   "execution_count": null,
   "metadata": {},
   "outputs": [],
   "source": [
    "if not si.isconnected():\n",
    "fdatebasedname = \"%s%s.ubx\" % (datermc, fconfig[\"deviceletter\"])\n",
    "\n",
    "        "
   ]
  },
  {
   "cell_type": "code",
   "execution_count": null,
   "metadata": {},
   "outputs": [],
   "source": [
    "#\n",
    "# Code below is for developing and testing the components\n",
    "#"
   ]
  },
  {
   "cell_type": "code",
   "execution_count": null,
   "metadata": {},
   "outputs": [],
   "source": []
  },
  {
   "cell_type": "code",
   "execution_count": null,
   "metadata": {},
   "outputs": [],
   "source": []
  },
  {
   "cell_type": "code",
   "execution_count": null,
   "metadata": {},
   "outputs": [],
   "source": []
  },
  {
   "cell_type": "code",
   "execution_count": 548,
   "metadata": {},
   "outputs": [
    {
     "name": "stdout",
     "output_type": "stream",
     "text": [
      "\u001b[34mConnecting to --port=/dev/ttyUSB1 --baud=115200 \u001b[0m\n",
      "\u001b[34mReady.\n",
      "\u001b[0m"
     ]
    }
   ],
   "source": [
    "%serialconnect"
   ]
  },
  {
   "cell_type": "code",
   "execution_count": 559,
   "metadata": {},
   "outputs": [
    {
     "name": "stdout",
     "output_type": "stream",
     "text": [
      "Sent 161 lines (5452 bytes) to asyncutils.py.\n"
     ]
    }
   ],
   "source": [
    "%sendtofile --source asyncutils.py"
   ]
  },
  {
   "cell_type": "code",
   "execution_count": 550,
   "metadata": {},
   "outputs": [],
   "source": [
    "from asyncutils import fconfig, wificonnect, initUBX, mountsd, \\\n",
    "                       streamUBX, pinled, flashseq, batteryvoltage\n"
   ]
  },
  {
   "cell_type": "code",
   "execution_count": 551,
   "metadata": {},
   "outputs": [
    {
     "name": "stdout",
     "output_type": "stream",
     "text": [
      "3.440918\r\n"
     ]
    }
   ],
   "source": [
    "print(batteryvoltage())\n",
    "mountsd()"
   ]
  },
  {
   "cell_type": "code",
   "execution_count": 552,
   "metadata": {},
   "outputs": [
    {
     "name": "stdout",
     "output_type": "stream",
     "text": [
      "Listing directory 'sd'.\n",
      "             sd/OOH/\n",
      "             sd/System Volume Information/\n",
      "   133531    sd/hdata-2020-07-06_17-21-04C.ubx\n",
      "    28170    sd/hdata-2020-07-06_17-24-25C.ubx\n",
      "    24036    sd/hdata-2020-07-06_20-29-10C.ubx\n",
      "    85126    sd/hdata-2020-07-06_20-33-51C.ubx\n",
      "  1641903    sd/hdata-2020-07-06_20-35-30C.ubx\n",
      "   100028    sd/hdata-2020-07-07_20-13-17C.ubx\n",
      "  2001393    sd/hdata-2020-07-07_20-16-57C.ubx\n",
      "  1474115    sd/hdata-2020-07-07_20-43-28C.ubx\n",
      "        0    sd/test.txt\n"
     ]
    }
   ],
   "source": [
    "%ls sd"
   ]
  },
  {
   "cell_type": "code",
   "execution_count": 498,
   "metadata": {},
   "outputs": [
    {
     "name": "stderr",
     "output_type": "stream",
     "text": [
      "Traceback (most recent call last):\n",
      "  File \"<stdin>\", line 1, in <module>\n",
      "OSError: [Errno 2] ENOENT\n"
     ]
    }
   ],
   "source": [
    "os.remove(\"sd/hdata-2020-07-06_17-18-26C.ubx\")"
   ]
  },
  {
   "cell_type": "code",
   "execution_count": 579,
   "metadata": {},
   "outputs": [
    {
     "name": "stdout",
     "output_type": "stream",
     "text": [
      "serial exception on close write failed: [Errno 5] Input/output error\n",
      "\u001b[34mConnecting to --port=/dev/ttyUSB1 --baud=115200 \u001b[0m\n",
      "\u001b[34mReady.\n",
      "\u001b[0m"
     ]
    }
   ],
   "source": [
    "%serialconnect"
   ]
  },
  {
   "cell_type": "code",
   "execution_count": 581,
   "metadata": {
    "scrolled": false
   },
   "outputs": [
    {
     "name": "stdout",
     "output_type": "stream",
     "text": [
      "Sent 157 lines (6567 bytes) to main.py.\n"
     ]
    }
   ],
   "source": [
    "%sendtofile main.py\n",
    "\n",
    "import uasyncio as asyncio\n",
    "import uasyncio.stream\n",
    "from asyncutils import fconfig, wificonnect, initUBX, mountsd, \\\n",
    "                       streamUBX, encodeUBX, pinled, flashseq, batteryvoltage\n",
    "import socket, os\n",
    "\n",
    "deviceletter = fconfig[\"deviceletter\"]\n",
    "\n",
    "fdatebasedname = None\n",
    "sddir = None\n",
    "sdfileout = None\n",
    "nbytesout = 0\n",
    "\n",
    "androidipnumber, portnumber = None, None\n",
    "socketstream = None\n",
    "socketstreamcmd = None\n",
    "\n",
    "battvoltmsg = None\n",
    "async def ledflashingtask():\n",
    "    global battvoltmsg\n",
    "    lnbytesout = 0\n",
    "    while sdfileout is None and socketstream is None:\n",
    "        await asyncio.sleep_ms(1000)\n",
    "    n = 0\n",
    "    while True:\n",
    "        battvolt = batteryvoltage()\n",
    "        if battvolt != 0 and (n%10) == 0:\n",
    "            battvoltmsg = encodeUBX(0x21, 0x04, (\"battvolt=%.2fv\" % battvolt).encode())  # UBX-LOG-STRING\n",
    "        battfac = max(0.1, battvolt - 6)/4\n",
    "        if nbytesout - lnbytesout > 1000:\n",
    "            if sdfileout is not None:\n",
    "                await flashseq((3000, 100, 200, 100, 200, int(battfac*800), 300, 100, 200, 100))\n",
    "            else:\n",
    "                await flashseq((3000, 100, 200, int(battfac*800), 300, 100, ))\n",
    "                await flashseq((3000, 100, 200, int(battfac*800), 300, 100, ))\n",
    "            lnbytesout = nbytesout\n",
    "        else:\n",
    "            await flashseq((4000, int(battfac*800)))\n",
    "        n += 1\n",
    "    \n",
    "async def manageconnectiontask():\n",
    "    global socketstream, sdfileout, socketstreamcmd, sddir\n",
    "    global androidipnumber, portnumber\n",
    "    androidipnumber, portnumber = await wificonnect()\n",
    "    if androidipnumber is not None:\n",
    "        while True:\n",
    "            try:\n",
    "                if socketstream is None:\n",
    "                    ss = socket.socket()\n",
    "                    ss.settimeout(1)\n",
    "                    print(\"new socket connection\", ss)\n",
    "                    ss.connect(socket.getaddrinfo(androidipnumber, portnumber)[0][-1])\n",
    "                    lsocketstream = uasyncio.stream.Stream(ss)\n",
    "                    print(await lsocketstream.readline())\n",
    "                    await lsocketstream.awrite(b\"%c%c%c%c\"%(deviceletter,deviceletter,deviceletter,deviceletter))\n",
    "                    if socketstreamcmd is None:\n",
    "                        socketstream = lsocketstream\n",
    "                    else:\n",
    "                        socketstreamcmd = lsocketstream  # drop back into cmd stream on reconnect\n",
    "                \n",
    "                while socketstream is not None:\n",
    "                    print(\"await socketstream.readline\")\n",
    "                    rl = await socketstream.readline()\n",
    "                    print(\"socketstream line\", [rl])\n",
    "                    if rl == b\"-SDMODE\\n\":\n",
    "                        print(\"Entering SDMODE\")\n",
    "                        socketstreamcmd, socketstream = socketstream, None\n",
    "                        break\n",
    "                        \n",
    "                # SDMODE here on\n",
    "                while True:\n",
    "                    if sddir is None:\n",
    "                        sddir = mountsd()\n",
    "                    print(\"await socketstreamcmd.readline()\")\n",
    "                    rl = (await socketstreamcmd.readline()).decode().strip()\n",
    "                    print(\"socketstreamcmd line1\", [rl])\n",
    "                    rld = (await socketstreamcmd.readline()).decode().strip()\n",
    "                    print(\"socketstreamcmd line2\", [rld])\n",
    "                    if rl == \"-DRL\":\n",
    "                        print(\"listing\")\n",
    "                        await socketstreamcmd.awrite((\"List '%s'\\n\" % rld).encode())\n",
    "                        for l in os.listdir(rld):\n",
    "                            nbytes = os.stat(\"%s/%s\"%(rld,l))[6]\n",
    "                            await socketstreamcmd.awrite((\"%s %d\\n\" % (l, nbytes)).encode())\n",
    "                        await socketstreamcmd.awrite((\".\\n\").encode())\n",
    "                    if rl == \"-DRR\":\n",
    "                        print(\"reading\", rld)\n",
    "                        print(os.stat(rld))\n",
    "                        nbytes = os.stat(rld)[6]\n",
    "                        await socketstreamcmd.awrite((\"%d\\n\" % nbytes).encode())\n",
    "                        fin = open(rld, \"rb\")\n",
    "                        while True:\n",
    "                            d = fin.read(500)\n",
    "                            if not d:\n",
    "                                break\n",
    "                            await socketstreamcmd.awrite(d)\n",
    "                    if rl == \"-DRE\":\n",
    "                        print(\"erasing\", rld)\n",
    "                        try:\n",
    "                            os.remove(rld)\n",
    "                            await socketstreamcmd.awrite((\"Removed '%s'\\n\"%rld).encode())\n",
    "                        except OSError:\n",
    "                            await socketstreamcmd.awrite((\"Failed\\n\").encode())\n",
    "                \n",
    "            except OSError as e:\n",
    "                print(\"socketstream2 OSError\", e)\n",
    "                socketstream = None\n",
    "                await asyncio.sleep_ms(2000)\n",
    "                \n",
    "    # no wifi found, and timeout set, drop into SD card plotting \n",
    "    else:\n",
    "        sddir = mountsd()\n",
    "        if sddir is not None:\n",
    "            sdfilename = \"%s/%s%s.ubx\" % (sddir, fdatebasedname, deviceletter)\n",
    "            print(\"Opening sdfile\", sdfilename)\n",
    "            sdfileout = open(sdfilename, \"wb\")\n",
    "            flashseq((100, 50, 100, 50, 1000, 200, 1000, 200, 1000))\n",
    "        else:\n",
    "            loop.create_task(manageconnectiontask())\n",
    "        \n",
    "async def streamgpstask():\n",
    "    global fdatebasedname, socketstream, nbytesout, battvoltmsg\n",
    "    fdatebasedname = await initUBX()\n",
    "    while True:\n",
    "        fdata = await streamUBX.read(-1)\n",
    "            \n",
    "        if socketstream is not None:\n",
    "            try:\n",
    "                if battvoltmsg is not None and fdata[:4] == b'\\xb5\\x62\\x01\\x30':\n",
    "                    await socketstream.awrite(battvoltmsg)\n",
    "                await socketstream.awrite(fdata)\n",
    "            except OSError as e:\n",
    "                print(\"socketstream1 OSError\", e)\n",
    "                socketstream = None  # should kick off connecting again\n",
    "                \n",
    "        if sdfileout is not None:\n",
    "            if battvoltmsg is not None and fdata[:4] == b'\\xb5\\x62\\x01\\x30':\n",
    "                sdfileout.write(battvoltmsg)\n",
    "            sdfileout.write(fdata)\n",
    "            sdfileout.flush()\n",
    "\n",
    "        if battvoltmsg is not None and fdata[:4] == b'\\xb5\\x62\\x01\\x30':\n",
    "            print(\"ffff\", len(fdata), battvoltmsg)\n",
    "            battvoltmsg = None\n",
    "\n",
    "        if sdfileout is not None or socketstream is not None:\n",
    "            np, nbytesout = nbytesout, nbytesout+len(fdata)\n",
    "            if np//100000 != nbytesout//100000:\n",
    "                print(\"bytes:\", nbytesout)\n",
    "\n",
    "loop = asyncio.get_event_loop()\n",
    "loop.create_task(manageconnectiontask())\n",
    "loop.create_task(streamgpstask())\n",
    "loop.create_task(ledflashingtask())\n",
    "loop.run_forever()\n",
    "\n",
    "    "
   ]
  },
  {
   "cell_type": "code",
   "execution_count": null,
   "metadata": {},
   "outputs": [],
   "source": []
  },
  {
   "cell_type": "code",
   "execution_count": 438,
   "metadata": {},
   "outputs": [
    {
     "name": "stdout",
     "output_type": "stream",
     "text": [
      "Listing directory 'sd'.\n",
      "             sd/OOH/\n",
      "             sd/System Volume Information/\n",
      "        0    sd/hdata-2020-07-06_17-18-26C.ubx\n",
      "   133531    sd/hdata-2020-07-06_17-21-04C.ubx\n",
      "    28170    sd/hdata-2020-07-06_17-24-25C.ubx\n",
      "        0    sd/test.txt\n"
     ]
    }
   ],
   "source": [
    "%ls sd"
   ]
  },
  {
   "cell_type": "code",
   "execution_count": 259,
   "metadata": {},
   "outputs": [
    {
     "name": "stdout",
     "output_type": "stream",
     "text": [
      "serial exception on close write failed: [Errno 5] Input/output error\n",
      "\u001b[34mConnecting to --port=/dev/ttyUSB1 --baud=115200 \u001b[0m\n",
      "\u001b[34mReady.\n",
      "\u001b[0m"
     ]
    }
   ],
   "source": [
    "%serialconnect"
   ]
  },
  {
   "cell_type": "code",
   "execution_count": 576,
   "metadata": {},
   "outputs": [
    {
     "name": "stdout",
     "output_type": "stream",
     "text": [
      "1\r\n"
     ]
    }
   ],
   "source": [
    "print(b'\\xb5b\\x010\\x04\\x01\\x10\\x1d\\xf1\\x18'[5])"
   ]
  },
  {
   "cell_type": "code",
   "execution_count": 571,
   "metadata": {},
   "outputs": [
    {
     "name": "stdout",
     "output_type": "stream",
     "text": [
      "296 0x1 0x30 b'\\xb5b\\x010\\x04\\x01\\x10\\x1d\\xf1\\x18'\n",
      "120 0x1 0x30 b'\\xb5b\\x010\\x04\\x01p9\\xf2\\x18'\n",
      "120 0x1 0x30 b'\\xb5b\\x010\\x04\\x018:\\xf2\\x18'\n",
      "120 0x1 0x30 b'\\xb5b\\x010\\x04\\x01\\x00;\\xf2\\x18'\n",
      "120 0x1 0x30 b'\\xb5b\\x010\\x04\\x01\\xc8;\\xf2\\x18'\n",
      "120 0x1 0x30 b'\\xb5b\\x010\\x04\\x01\\x90<\\xf2\\x18'\n"
     ]
    }
   ],
   "source": [
    "async def g():\n",
    "    for i in range(20):\n",
    "        fdata = await streamUBX.read(-1)\n",
    "        if fdata[:4] == b'\\xb5\\x62\\x01\\x30':\n",
    "            print(len(fdata), hex(fdata[2]), hex(fdata[3]), fdata[:10])\n",
    "    \n",
    "loop.run_until_complete(g())    \n"
   ]
  },
  {
   "cell_type": "code",
   "execution_count": null,
   "metadata": {},
   "outputs": [],
   "source": []
  }
 ],
 "metadata": {
  "kernelspec": {
   "display_name": "MicroPython - USB",
   "language": "micropython",
   "name": "micropython"
  },
  "language_info": {
   "codemirror_mode": "python",
   "file_extension": ".py",
   "mimetype": "text/python",
   "name": "micropython"
  }
 },
 "nbformat": 4,
 "nbformat_minor": 2
}
