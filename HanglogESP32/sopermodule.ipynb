{
 "cells": [
  {
   "cell_type": "code",
   "execution_count": null,
   "metadata": {},
   "outputs": [],
   "source": [
    "# Wiring:\n",
    "#  BNO055 orientation accelerometer to ESP32: Vin=PS1=3V3, GND=GND, SDA=RX2, SCL=TX2\n",
    "#  PX4AIRSPEEDV1.2i2c = I2C(scl=Pin(15, Pin.OUT, Pin.PULL_UP), sda=Pin(4, Pin.OUT, Pin.PULL_UP), freq=450000)\n",
    "#  SHT31D = I2C Humitidy and temperature sensor"
   ]
  },
  {
   "cell_type": "code",
   "execution_count": 104,
   "metadata": {},
   "outputs": [
    {
     "name": "stdout",
     "output_type": "stream",
     "text": [
      "Sent 32 lines (969 bytes) to utils.py.\n"
     ]
    }
   ],
   "source": [
    "%serialconnect\n"
   ]
  },
  {
   "cell_type": "code",
   "execution_count": 10,
   "metadata": {},
   "outputs": [
    {
     "name": "stdout",
     "output_type": "stream",
     "text": [
      "Sent 4 lines (105 bytes) to config.txt.\n"
     ]
    }
   ],
   "source": [
    "%sendtofile config.txt\n",
    "\n",
    "pinled       2\n",
    "deviceletter @\n",
    "connection0  JulianS9,beckaaaa,192.168.43.1,9042\n",
    "dev1         1,rx16,tx17,Z"
   ]
  },
  {
   "cell_type": "code",
   "execution_count": 7,
   "metadata": {},
   "outputs": [
    {
     "name": "stdout",
     "output_type": "stream",
     "text": [
      "Sent 42 lines (1123 bytes) to UDPblackviewphone.py.\n"
     ]
    }
   ],
   "source": [
    "%sendtofile --source BNO055_class.py\n",
    "%sendtofile --source UDPblackviewphone.py\n",
    "%sendtofile --source utils.py"
   ]
  },
  {
   "cell_type": "code",
   "execution_count": 96,
   "metadata": {},
   "outputs": [
    {
     "name": "stdout",
     "output_type": "stream",
     "text": [
      "Sent 95 lines (2848 bytes) to scani2cdevices.py.\n"
     ]
    }
   ],
   "source": [
    "%sendtofile scani2cdevices.py\n",
    "\n",
    "from machine import I2C, Pin\n",
    "import time\n",
    "\n",
    "px4readrate = 400\n",
    "sht31readrate = 350\n",
    "\n",
    "i2c = I2C(scl=Pin(15, Pin.OUT, Pin.PULL_UP), sda=Pin(4, Pin.OUT, Pin.PULL_UP), freq=450000)\n",
    "i2cdevices = i2c.scan()\n",
    "print(\"i2cdevices\", i2cdevices)\n",
    "\n",
    "# Pitot tube sensor\n",
    "xbs = None\n",
    "if 0x28 in i2cdevices:\n",
    "    xbs = bytearray(\"Xt00000000d0000r0000\\n\")\n",
    "    mxbs = memoryview(xbs)\n",
    "    tstamppx4 = 0\n",
    "    print(\"PX4 pitot found\")\n",
    "else:\n",
    "    print(\"PX4 pitot not found\")\n",
    "\n",
    "\n",
    "# Humidity temperature sensor\n",
    "sbs = None\n",
    "def crc8(b0, b1):\n",
    "    crc = 0xFF\n",
    "    crc ^= b0;\n",
    "    for i in range(8):\n",
    "        crc = (((crc << 1) ^ 0x31) if (crc & 0x80) else (crc << 1)) & 0xFF\n",
    "    crc ^= b1\n",
    "    for i in range(8):\n",
    "        crc = (((crc << 1) ^ 0x31) if (crc & 0x80) else (crc << 1)) & 0xFF\n",
    "    return crc\n",
    "    \n",
    "if 0x44 in i2cdevices:\n",
    "    try:\n",
    "        i2c.writeto(0x44, b'\\xF3\\x2D')    # SHT31_READSTATUS\n",
    "        k = i2c.readfrom(0x44, 3)\n",
    "        print(k, hex(crc8(k[0], k[1])))\n",
    "        i2c.writeto(0x44, b'\\x30\\xA2')    # SHT31_SOFTRESET\n",
    "        time.sleep(0.1)\n",
    "        i2c.writeto(0x44, b'\\x27\\x37')    # read 10Hz?\n",
    "        time.sleep(0.1)\n",
    "        i2c.writeto(0x44, b'\\xF3\\x2D')    # SHT31_READSTATUS\n",
    "        k = i2c.readfrom(0x44, 3)\n",
    "        print(k, hex(crc8(k[0], k[1])))\n",
    "    except OSError:\n",
    "        pass\n",
    "    print(\"SHT31D found\")\n",
    "    sbs = bytearray(\"St00000000r0000a0000\\n\")\n",
    "    msbs = memoryview(sbs)\n",
    "    tstampsht31 = 0\n",
    "else:\n",
    "    print(\"SHT31D not found\")\n",
    "\n",
    "    \n",
    "def readi2cdevices(tstamp):\n",
    "    global tstamppx4, tstampsht31\n",
    "    if xbs != None:\n",
    "        if tstamppx4 == 0:\n",
    "            tstamppx4 = tstamp + px4readrate\n",
    "            x = i2c.readfrom(0x28, 4)\n",
    "            #status = x[0] & 0xC0  # should be zero\n",
    "            rawpress = ((x[0] & 0xFF) << 8) | (x[1])\n",
    "            #rawpress = ((x[0] & 0x3F) << 8) | (x[1])\n",
    "            rawtemp = (x[2] << 3) | (x[3] >> 5)\n",
    "            mxbs[2:10] = b\"%08X\" % tstamp\n",
    "            mxbs[11:15] = b\"%04X\" % rawpress\n",
    "            mxbs[16:20] = b\"%04X\" % rawtemp\n",
    "            return xbs\n",
    "            #psi = rawpress*(1.0/(0x3FFF*0.4)) - 1.25\n",
    "            #temp = rawtemp*200.0/0x7FF - 50\n",
    "        elif tstamp > tstamppx4:\n",
    "            tstamppx4 = 0\n",
    "            i2c.writeto(0x28, b\"\")\n",
    "\n",
    "    if sbs != None:\n",
    "        if tstamp > tstampsht31:\n",
    "            tstampsht31 = tstamp + sht31readrate\n",
    "            i2c.writeto(0x44, b'\\xE0\\x00')\n",
    "            k = i2c.readfrom(0x44, 6)\n",
    "            if k[2] == crc8(k[0], k[1]) and k[5] == crc8(k[3], k[4]):\n",
    "                rawtemp = (k[0]<<8) | k[1]\n",
    "                rawhumid = (k[3]<<8) | k[4]\n",
    "                msbs[2:10] = b\"%08X\" % tstamp\n",
    "                msbs[11:15] = b\"%04X\" % rawhumid\n",
    "                msbs[16:20] = b\"%04X\" % rawtemp\n",
    "\n",
    "                stemp = (rawtemp * 175)/0xFFFF - 45\n",
    "                shumid = (rawhumid*100)/0xFFFF\n",
    "                print(stemp, shumid)\n",
    "                return sbs\n",
    "            \n",
    "    return None\n",
    "\n",
    "\n"
   ]
  },
  {
   "cell_type": "code",
   "execution_count": 97,
   "metadata": {},
   "outputs": [],
   "source": [
    "#while True:\n",
    "#    tstamp = time.ticks_ms()\n",
    "#    v = readi2cdevices(tstamp)\n",
    "#    if v is not None:\n",
    "#        print(v)\n"
   ]
  },
  {
   "cell_type": "code",
   "execution_count": null,
   "metadata": {},
   "outputs": [],
   "source": []
  },
  {
   "cell_type": "code",
   "execution_count": null,
   "metadata": {},
   "outputs": [],
   "source": []
  },
  {
   "cell_type": "code",
   "execution_count": 99,
   "metadata": {},
   "outputs": [
    {
     "name": "stdout",
     "output_type": "stream",
     "text": [
      "Sent 78 lines (2330 bytes) to main.py.\n"
     ]
    }
   ],
   "source": [
    "%sendtofile main.py\n",
    "\n",
    "from machine import UART, Pin\n",
    "import time, socket, urandom\n",
    "from BNO055_class import BNO055\n",
    "from UDPblackviewphone import connectActivePhone\n",
    "from scani2cdevices import readi2cdevices\n",
    "\n",
    "fconfig = dict(x.strip().split(None, 1)  for x in open(\"config.txt\"))\n",
    "pinled = Pin(int(fconfig[\"pinled\"]), Pin.OUT)\n",
    "\n",
    "def MakeBNO055(dev):\n",
    "    d = dev.split(\",\")\n",
    "    u = UART(int(d[0]), baudrate=115200, rx=int(d[1][2:]), tx=int(d[2][2:]))\n",
    "    for i in range(5):\n",
    "        try:\n",
    "            print(u, d[3])\n",
    "            return BNO055(u, d[3])\n",
    "        except OSError as e:\n",
    "            print(e)\n",
    "        print(\"fail\", i, d)\n",
    "        time.sleep(0.5)\n",
    "dev1 = MakeBNO055(fconfig[\"dev1\"])\n",
    "\n",
    "\n",
    "deviceletter = fconfig[\"deviceletter\"]\n",
    "c = fconfig[\"connection0\"].split(\",\")\n",
    "hotspots = { c[0].encode(): (c[1].encode(), c[2], int(c[3])) }\n",
    "androidipnumber = c[2]\n",
    "portnumber = int(c[3])\n",
    "print(\"deviceletter\", deviceletter)\n",
    "\n",
    "while not connectActivePhone(pinled, hotspots):\n",
    "    for j in range(3):\n",
    "        for i in range(7):\n",
    "            pinled.value(i%2)\n",
    "            time.sleep_ms(100)\n",
    "        time.sleep_ms(800)\n",
    "\n",
    "import socket, urandom\n",
    "prevflushstamp = 0\n",
    "nextledonstamp = 0\n",
    "\n",
    "ubs = bytearray(\"Ut00000000i00\\n\")\n",
    "mubs = memoryview(ubs)\n",
    "\n",
    "while True:\n",
    "    try:\n",
    "        ss = socket.socket()\n",
    "        ss.settimeout(1)\n",
    "        print(ss)\n",
    "        ss.connect(socket.getaddrinfo(androidipnumber, portnumber)[0][-1])\n",
    "        s = ss.makefile('rwb', 0)\n",
    "        print(s.readline())\n",
    "        s.write(b\"%c%c%c%c\"%(deviceletter,deviceletter,deviceletter,deviceletter))\n",
    "        dwrite = s.write\n",
    "        while True:\n",
    "            tstamp = time.ticks_ms()\n",
    "            if tstamp > nextledonstamp:\n",
    "                pv = (0 if pinled.value() else 1)\n",
    "                pinled.value(pv)\n",
    "                mubs[2:10] = b\"%08X\" % tstamp\n",
    "                mubs[12] = 48+pv #'0'or'1'\n",
    "                dwrite(ubs)\n",
    "                nextledonstamp = tstamp + urandom.randint(5000, 10000)//(10 if pv else 1)\n",
    "            if dev1 is not None:\n",
    "                b1 = dev1.readhexlifyBNO055(10)\n",
    "                if b1 is not None:\n",
    "                    dwrite(b1)\n",
    "\n",
    "            try:\n",
    "                bs = readi2cdevices(tstamp)\n",
    "                if bs is not None:\n",
    "                    dwrite(bs)\n",
    "            except OSError:\n",
    "                pass\n",
    "                \n",
    "    except OSError as e:\n",
    "        print(\"OSError\", e)\n",
    "        time.sleep(2)\n"
   ]
  },
  {
   "cell_type": "code",
   "execution_count": null,
   "metadata": {},
   "outputs": [],
   "source": []
  },
  {
   "cell_type": "code",
   "execution_count": null,
   "metadata": {},
   "outputs": [],
   "source": []
  },
  {
   "cell_type": "code",
   "execution_count": null,
   "metadata": {},
   "outputs": [],
   "source": []
  }
 ],
 "metadata": {
  "kernelspec": {
   "display_name": "MicroPython - USB",
   "language": "micropython",
   "name": "micropython"
  },
  "language_info": {
   "codemirror_mode": "python",
   "file_extension": ".py",
   "mimetype": "text/python",
   "name": "micropython"
  }
 },
 "nbformat": 4,
 "nbformat_minor": 2
}
