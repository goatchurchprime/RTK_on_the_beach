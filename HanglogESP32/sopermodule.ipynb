{
 "cells": [
  {
   "cell_type": "code",
   "execution_count": 1,
   "metadata": {},
   "outputs": [
    {
     "name": "stdout",
     "output_type": "stream",
     "text": [
      "\u001b[34mExecuting:\n",
      "  esptool.py --port /dev/ttyUSB0 erase_flash\n",
      "\n",
      "\u001b[0mesptool.py v2.8\n",
      "Serial port /dev/ttyUSB0\n",
      "Connecting....\n",
      "\u001b[34m[Press the PRG button now if required]\n",
      "\u001b[0mDetecting chip type... ESP32\n",
      "Chip is ESP32D0WDQ6 (revision 1)\n",
      "Features: WiFi, BT, Dual Core, 240MHz, VRef calibration in efuse, Coding Scheme None\n",
      "Crystal is 40MHz\n",
      "MAC: 7c:9e:bd:f5:2a:f4\n",
      "Uploading stub...\n",
      "Running stub...\n",
      "Stub running...\n",
      "Erasing flash (this may take a while)...\n",
      "Chip erase completed successfully in 3.1s\n",
      "Hard resetting via RTS pin...\n"
     ]
    }
   ],
   "source": [
    "# commissioning section.  Run once to clear and upload the Micropython binaries\n",
    "## %esptool erase\n",
    "# Download bin file from https://micropython.org/download/esp32/\n",
    "## %esptool esp32 /home/julian/executables/micropythonbins/esp32-idf4-20210202-v1.14.bin"
   ]
  },
  {
   "cell_type": "code",
   "execution_count": null,
   "metadata": {},
   "outputs": [],
   "source": [
    "# Wiring:\n",
    "#  BNO055 orientation accelerometer to ESP32\n",
    "#    Configured as Serial device: Vin=PS1=3V3, GND=GND, SDA=RX2, SCL=TX2\n",
    "\n",
    "#  I2C devices, connect as: scl = Pin15, sda = Pin4\n",
    "#    PX4AIRSPEEDV1 differential baro   (Code X)\n",
    "#    SHT31D = Humidity and temperature sensor (Code S)\n",
    "#    BME280 = Baro, temperature, Humidity (Code M)\n",
    "\n",
    "#  Trigger device on Pin27\n",
    "#    Propeller anemometer with divider set to 15 \n",
    "\n",
    "#  Analog device on analogreadpin=35\n",
    "#    Used for hot wire anemometer measurements"
   ]
  },
  {
   "cell_type": "code",
   "execution_count": 69,
   "metadata": {},
   "outputs": [
    {
     "name": "stdout",
     "output_type": "stream",
     "text": [
      "\u001b[34mConnecting to --port=/dev/ttyUSB2 --baud=115200 \u001b[0m\n",
      "\u001b[34mReady.\n",
      "\u001b[0m"
     ]
    }
   ],
   "source": [
    "%serialconnect\n"
   ]
  },
  {
   "cell_type": "code",
   "execution_count": 70,
   "metadata": {},
   "outputs": [
    {
     "name": "stdout",
     "output_type": "stream",
     "text": [
      "Sent 7 lines (183 bytes) to config.txt.\n"
     ]
    }
   ],
   "source": [
    "%sendtofile config.txt\n",
    "\n",
    "pinled           2\n",
    "deviceletter     @\n",
    "connection0      JulianS9,beckaaaa,192.168.43.1,9042\n",
    "dev1             1,rx16,tx17,Z\n",
    "fanbladedivider  15\n",
    "analogreadpin    35\n",
    "analogreadrate   550\n"
   ]
  },
  {
   "cell_type": "code",
   "execution_count": 64,
   "metadata": {},
   "outputs": [
    {
     "name": "stdout",
     "output_type": "stream",
     "text": [
      "Sent 78 lines (2330 bytes) to main.py.\n"
     ]
    }
   ],
   "source": [
    "%sendtofile --source BNO055_class.py\n",
    "%sendtofile --source UDPblackviewphone.py\n",
    "%sendtofile --source utils.py\n",
    "%sendtofile --source bme280.py\n",
    "%sendtofile --source scani2cdevices.py\n",
    "\n",
    "%sendtofile --source sopermodule_main.py main.py"
   ]
  },
  {
   "cell_type": "code",
   "execution_count": 71,
   "metadata": {},
   "outputs": [
    {
     "name": "stdout",
     "output_type": "stream",
     "text": [
      "Sent 127 lines (4089 bytes) to main.py.\n"
     ]
    }
   ],
   "source": [
    "%sendtofile --source scani2cdevices.py\n",
    "%sendtofile --source sopermodule_main.py main.py"
   ]
  },
  {
   "cell_type": "code",
   "execution_count": 67,
   "metadata": {},
   "outputs": [
    {
     "name": "stdout",
     "output_type": "stream",
     "text": [
      "Sent 105 lines (3219 bytes) to main.py.\n"
     ]
    }
   ],
   "source": [
    "%serialconnect\n",
    "%sendtofile --source sopermodule_main.py main.py"
   ]
  },
  {
   "cell_type": "code",
   "execution_count": null,
   "metadata": {},
   "outputs": [],
   "source": []
  },
  {
   "cell_type": "code",
   "execution_count": null,
   "metadata": {},
   "outputs": [],
   "source": []
  }
 ],
 "metadata": {
  "kernelspec": {
   "display_name": "MicroPython - USB",
   "language": "micropython",
   "name": "micropython"
  },
  "language_info": {
   "codemirror_mode": "python",
   "file_extension": ".py",
   "mimetype": "text/python",
   "name": "micropython"
  }
 },
 "nbformat": 4,
 "nbformat_minor": 2
}
