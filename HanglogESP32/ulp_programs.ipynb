{
 "cells": [
  {
   "cell_type": "code",
   "execution_count": null,
   "metadata": {},
   "outputs": [],
   "source": [
    "# The ULP is the ultra low power co-processor on the ESP32 that we use as a realtime \n",
    "# co-processor for decoding PWM signals"
   ]
  },
  {
   "cell_type": "code",
   "execution_count": 66,
   "metadata": {},
   "outputs": [
    {
     "name": "stdout",
     "output_type": "stream",
     "text": [
      "\u001b[34mConnecting to --port=/dev/ttyUSB1 --baud=115200 \u001b[0m\n",
      "\u001b[34mReady.\n",
      "\u001b[0m"
     ]
    }
   ],
   "source": [
    "%serialconnect"
   ]
  },
  {
   "cell_type": "code",
   "execution_count": 5,
   "metadata": {},
   "outputs": [
    {
     "name": "stdout",
     "output_type": "stream",
     "text": [
      "Sent 283 lines (9521 bytes) to esp32_ulp/assemble.py.\n"
     ]
    }
   ],
   "source": [
    "# The assembler for this processor machine code runs in Micropython and is at\n",
    "#    https://github.com/ThomasWaldmann/py-esp32-ulp\n",
    "\n",
    "%sendtofile --mkdir --source /home/julian/extrepositories/py-esp32-ulp/esp32_ulp  esp32_ulp"
   ]
  },
  {
   "cell_type": "code",
   "execution_count": 67,
   "metadata": {},
   "outputs": [
    {
     "name": "stdout",
     "output_type": "stream",
     "text": [
      "0000 dataiorec\n",
      "0001 timepin27\n",
      "0002 countpin27\n",
      "0003 divider\n",
      "0004 entry\n",
      "0005 outerloop\n",
      "0007 ioloop\n",
      "0018 ioloopend\n"
     ]
    }
   ],
   "source": [
    "from esp32_ulp.__main__ import src_to_binary\n",
    "\n",
    "source = \"\"\"\\\n",
    "dataiorec:  .long 0x00000000    // ->r3 as address\n",
    "timepin27:  .long 0x00000000    // r3[4]\n",
    "countpin27: .long 0x00000000    // r3[8]\n",
    "divider:    .long 0x0000000F    // r3[12]\n",
    "\n",
    "entry:\n",
    "            move r3, dataiorec\n",
    "outerloop:\n",
    "            ld   r2, r3, 12     // divider\n",
    "            move r1, 0x0000     // pin27 counter\n",
    "ioloop:\n",
    "            add  r1, r1, 0x0001\n",
    "            jump outerloop, ov\n",
    "            reg_rd 0x3ff48424, 16, 17   // read IO register into r0\n",
    "            st   r0, r3, 0      // dataiorec[0]=r0 (for monitoring)\n",
    "            rsh  r0, r0, 14     // shift pin 27 to bit0\n",
    "            add  r0, r0, r2     // add the dividercounter of bit flips\n",
    "            and  r0, r0, 0x0001 \n",
    "            jump ioloop, eq\n",
    "\n",
    "            sub  r2, r2, 0x0001 // decrement the divider\n",
    "            jump ioloopend, eq\n",
    "            jump ioloop\n",
    "ioloopend:\n",
    "            st   r1, r3, 4      // dataiorec[1]=r1   timepin27\n",
    "            ld   r0, r3, 8      // r0=dataiorec[2]   countpin27\n",
    "            add  r0, r0, 1      // r0++\n",
    "            st   r0, r3, 8      // dataiorec[2]=r0   countpin27\n",
    "            jump outerloop\n",
    "            halt\n",
    "\"\"\"\n",
    "binary = src_to_binary(source)\n",
    "fout = open(\"measure_windprop.ulp\", \"wb\")\n",
    "fout.write(binary)\n",
    "fout.close()\n"
   ]
  },
  {
   "cell_type": "code",
   "execution_count": 63,
   "metadata": {},
   "outputs": [
    {
     "name": "stdout",
     "output_type": "stream",
     "text": [
      "0\r\n"
     ]
    }
   ],
   "source": [
    "import machine, time, esp32\n",
    "\n",
    "p27 = machine.Pin(27, machine.Pin.IN, machine.Pin.PULL_DOWN)\n",
    "print(p27.value())\n",
    "\n",
    "entry = 4\n",
    "ulp = esp32.ULP()\n",
    "ulp.load_binary(0, open(\"measure_windprop.ulp\", \"rb\").read())\n",
    "ulp.set_wakeup_period(0, 1000000)\n",
    "ulp.run(entry*4)\n",
    "def readulpdata(r):\n",
    "    return machine.mem32[0x50000000+r]&0xFFFF\n",
    "def writeulpdata(r, v):\n",
    "    machine.mem32[0x50000000+r] = v&0xFFFF\n"
   ]
  },
  {
   "cell_type": "code",
   "execution_count": 64,
   "metadata": {},
   "outputs": [
    {
     "name": "stdout",
     "output_type": "stream",
     "text": [
      "13872 6212 4043 24633 7147 10190 5396 8491 6529 5588 3177 3866 5331 3423 3489 3541 4410 3725 3785 3864 \n",
      "3940 4019 4095 4177 4260 4349 4435 4527 4617 4717 4813 4912 5014 5117 5224 5335 5453 5566 5694 5819 \n",
      "5931 6061 6191 6336 6474 6622 6764 6920 7072 7223 7389 7558 7727 7904 8090 8282 8471 8665 8870 9087 \n",
      "9305 9529 9756 10006 10256 10515 10782 8773 11285 11568 4256 10086 9737 4446 10675 12923 10523 5344 13694 14063 \n",
      "13832 12556 15206 12409 15988 16461 16952 17468 18026 7313 18821 18629 778 20069 20741 21457 22202 22025 20168 24593 \n",
      "25552 26593 21975 28648 29908 31282 11728 27951 34822 29118 38736 16127 40804 29172 18735 49798 51857 2305 57263 346 \n",
      "2277 64295 2859 47625 7056 7251 5630 65287 14061 8182 10513 5848 9273 3209 5940 4122 7063 3651 4413 3833 \n",
      "7085 4810 4128 4187 4302 7085 6372 7509 4788 6936 5030 8336 6425 6552 5600 10438 7123 9828 7622 6485 \n",
      "7949 6769 11238 7214 8921 7569 7773 7956 8137 8302 8527 8754 8966 9201 9432 9666 9904 10165 10419 10688 \n",
      "10961 11255 11545 11852 12168 12494 12834 13185 13549 13937 13664 12324 15064 6145 12644 16094 16590 17101 17647 17368 \n",
      "15695 7611 15718 19042 17416 8391 17375 21112 19322 9318 19336 23514 21620 10470 21695 26564 24389 11840 24625 30368 \n",
      "27891 13607 28497 35139 32867 16068 33789 42330 39779 19728 40351 46163 23627 51093 1750 18657 63863 22061 42357 19738 \n",
      "27577 42363 ..\n",
      "**[ys] <class 'serial.serialutil.SerialException'>\n",
      "**[ys] read failed: device reports readiness to read but returned no data (device disconnected or multiple access on port?)\n",
      "\n",
      "\n",
      "**[ys] <class 'serial.serialutil.SerialException'>\n",
      "**[ys] read failed: device reports readiness to read but returned no data (device disconnected or multiple access on port?)\n",
      "\n"
     ]
    }
   ],
   "source": [
    "#w = machine.PWM(machine.Pin(5))\n",
    "#w.freq(50)\n",
    "#w.duty(51)\n",
    "writeulpdata(12, 6)\n",
    "\n",
    "import time\n",
    "x = readulpdata(8)\n",
    "for i in range(300):\n",
    "    while True:\n",
    "        y = readulpdata(8)\n",
    "        if y != x:\n",
    "            break\n",
    "    x = y\n",
    "    #print(x, end=\" \")\n",
    "    print(readulpdata(4), end=\" \")\n",
    "    if (i%20) == 19:\n",
    "        print()\n",
    "    "
   ]
  },
  {
   "cell_type": "code",
   "execution_count": null,
   "metadata": {},
   "outputs": [],
   "source": []
  }
 ],
 "metadata": {
  "kernelspec": {
   "display_name": "MicroPython - USB",
   "language": "micropython",
   "name": "micropython"
  },
  "language_info": {
   "codemirror_mode": "python",
   "file_extension": ".py",
   "mimetype": "text/python",
   "name": "micropython"
  }
 },
 "nbformat": 4,
 "nbformat_minor": 2
}
