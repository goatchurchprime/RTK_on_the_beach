{
 "cells": [
  {
   "cell_type": "code",
   "execution_count": 40,
   "id": "a7ec5910",
   "metadata": {},
   "outputs": [
    {
     "name": "stdout",
     "output_type": "stream",
     "text": [
      "\u001b[34mConnecting to --port=/dev/ttyUSB0 --baud=115200 \u001b[0m\n",
      "Traceback (most recent call last):\n",
      "  File \"main.py\", line 27, in <module>\n",
      "  File \"UDPblackviewphone.py\", line 19, in connectActivePhone\n",
      "KeyboardInterrupt: \n",
      "MicroPython v1.17 on 2021-09-02; ESP32 module with ESP32\n",
      "Type \"help()\" for more information.\n",
      ">>> \n",
      ">>> \n",
      "raw REPL; CTRL-B to exit\n",
      ">\u001b[34mReady.\n",
      "\u001b[0m"
     ]
    }
   ],
   "source": [
    "%serialconnect\n"
   ]
  },
  {
   "cell_type": "code",
   "execution_count": 17,
   "id": "0448b7cc",
   "metadata": {},
   "outputs": [
    {
     "name": "stdout",
     "output_type": "stream",
     "text": [
      "Sent 5 lines (131 bytes) to config.txt.\n"
     ]
    }
   ],
   "source": [
    "%sendtofile config.txt\n",
    "\n",
    "pinled           2\n",
    "deviceletter     @\n",
    "connection0      JulianS9,beckaaaa,192.168.43.1,9042\n",
    "analogreadpin    4\n",
    "analogreadrate   100\n"
   ]
  },
  {
   "cell_type": "code",
   "execution_count": 18,
   "id": "216a56ce",
   "metadata": {},
   "outputs": [
    {
     "name": "stdout",
     "output_type": "stream",
     "text": [
      "Sent 32 lines (969 bytes) to utils.py.\n"
     ]
    }
   ],
   "source": [
    "%sendtofile --source UDPblackviewphone.py\n",
    "%sendtofile --source utils.py\n",
    "# Use deviceletter=E for second ascii stream (to decode in the Android code)"
   ]
  },
  {
   "cell_type": "code",
   "execution_count": 41,
   "id": "74c4712e",
   "metadata": {},
   "outputs": [
    {
     "name": "stdout",
     "output_type": "stream",
     "text": [
      "Sent 56 lines (1800 bytes) to main.py.\n"
     ]
    }
   ],
   "source": [
    "%sendtofile main.py\n",
    "\n",
    "from machine import Pin, ADC, TouchPad\n",
    "import time, socket, urandom\n",
    "from UDPblackviewphone import connectActivePhone\n",
    "\n",
    "fconfig = dict(x.strip().split(None, 1)  for x in open(\"config.txt\"))\n",
    "pinled = Pin(int(fconfig[\"pinled\"]), Pin.OUT)\n",
    "deviceletter = fconfig[\"deviceletter\"]\n",
    "c = fconfig[\"connection0\"].split(\",\")\n",
    "hotspots = { c[0].encode(): (c[1].encode(), c[2], int(c[3])) }\n",
    "androidipnumber = c[2]\n",
    "portnumber = int(c[3])\n",
    "print(\"deviceletter\", deviceletter)\n",
    "\n",
    "touchpad0 = TouchPad(Pin(4))\n",
    "touchpad1 = TouchPad(Pin(13))\n",
    "touchpadreadrate = 100\n",
    "tstamptouchpadread = 0\n",
    "\n",
    "nbs = bytearray(\"Nt00000000s000000r000000\\n\")\n",
    "mnbs = memoryview(nbs)\n",
    "\n",
    "while not connectActivePhone(pinled, hotspots):\n",
    "    for j in range(3):\n",
    "        for i in range(7):\n",
    "            pinled.value(i%2)\n",
    "            time.sleep_ms(100)\n",
    "        time.sleep_ms(800)\n",
    "\n",
    "while True:\n",
    "    try:\n",
    "        print(\"making socket\")\n",
    "        ss = socket.socket()\n",
    "        ss.settimeout(1)\n",
    "        print(\"socket is\", ss)\n",
    "        ss.connect(socket.getaddrinfo(androidipnumber, portnumber)[0][-1])\n",
    "        s = ss.makefile('rwb', 0)\n",
    "        print(s.readline())\n",
    "        s.write(b\"%c%c%c%c\"%(deviceletter,deviceletter,deviceletter,deviceletter))\n",
    "        dwrite = s.write\n",
    "        while True:\n",
    "            tstamp = time.ticks_ms()\n",
    "            if tstamp > tstamptouchpadread:\n",
    "                tstamptouchpadread = tstamp + touchpadreadrate\n",
    "                mnbs[2:10] = b\"%08X\" % tstamp\n",
    "                mnbs[11:17] = b\"%06X\" % touchpad0.read()\n",
    "                mnbs[18:24] = b\"%06X\" % touchpad1.read()\n",
    "                dwrite(nbs)\n",
    "                \n",
    "    except OSError as e:\n",
    "        msg = str(e)\n",
    "        if e.args[0] == 118:\n",
    "            msg = \"wifi not connected\"\n",
    "        elif e.args[0] == 23:\n",
    "            msg = \"socket error\"\n",
    "        print(\"OSError\", msg)\n",
    "        time.sleep(2)\n"
   ]
  },
  {
   "cell_type": "code",
   "execution_count": null,
   "id": "ea95a46b",
   "metadata": {},
   "outputs": [],
   "source": []
  }
 ],
 "metadata": {
  "kernelspec": {
   "display_name": "MicroPython - USB",
   "language": "micropython",
   "name": "micropython"
  },
  "language_info": {
   "codemirror_mode": "python",
   "file_extension": ".py",
   "mimetype": "text/python",
   "name": "micropython"
  }
 },
 "nbformat": 4,
 "nbformat_minor": 5
}
