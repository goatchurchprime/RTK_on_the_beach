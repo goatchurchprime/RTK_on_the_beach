{
 "cells": [
  {
   "cell_type": "code",
   "execution_count": 47,
   "id": "a7ec5910",
   "metadata": {},
   "outputs": [
    {
     "name": "stdout",
     "output_type": "stream",
     "text": [
      "\u001b[34mConnecting to --port=/dev/ttyUSB1 --baud=115200 \u001b[0m\n",
      "\u001b[34mReady.\n",
      "\u001b[0m"
     ]
    }
   ],
   "source": [
    "%serialconnect\n"
   ]
  },
  {
   "cell_type": "code",
   "execution_count": 34,
   "id": "0448b7cc",
   "metadata": {},
   "outputs": [
    {
     "name": "stdout",
     "output_type": "stream",
     "text": [
      "Sent 6 lines (153 bytes) to config.txt.\n"
     ]
    }
   ],
   "source": [
    "%sendtofile config.txt\n",
    "\n",
    "pinled           2\n",
    "deviceletter     @\n",
    "connection0      JulianS9,beckaaaa,192.168.43.1,9042\n",
    "analogreadpin0   t4\n",
    "analogreadpin1   t13\n",
    "analogreadrate   100\n"
   ]
  },
  {
   "cell_type": "code",
   "execution_count": 48,
   "id": "0976442b",
   "metadata": {},
   "outputs": [
    {
     "name": "stdout",
     "output_type": "stream",
     "text": [
      "Sent 6 lines (153 bytes) to config.txt.\n"
     ]
    }
   ],
   "source": [
    "%sendtofile config.txt\n",
    "\n",
    "pinled           2\n",
    "deviceletter     D\n",
    "connection0      JulianS9,beckaaaa,192.168.43.1,9042\n",
    "analogreadpin0   t4\n",
    "analogreadpin1   t13\n",
    "analogreadrate   100\n"
   ]
  },
  {
   "cell_type": "code",
   "execution_count": 18,
   "id": "216a56ce",
   "metadata": {},
   "outputs": [
    {
     "name": "stdout",
     "output_type": "stream",
     "text": [
      "Sent 32 lines (969 bytes) to utils.py.\n"
     ]
    }
   ],
   "source": [
    "%sendtofile --source UDPblackviewphone.py\n",
    "%sendtofile --source utils.py\n",
    "# Use deviceletter=E for second ascii stream (to decode in the Android code)"
   ]
  },
  {
   "cell_type": "code",
   "execution_count": 43,
   "id": "74c4712e",
   "metadata": {},
   "outputs": [
    {
     "name": "stdout",
     "output_type": "stream",
     "text": [
      "Sent 78 lines (2445 bytes) to main.py.\n"
     ]
    }
   ],
   "source": [
    "%sendtofile main.py\n",
    "\n",
    "from machine import Pin, ADC, TouchPad\n",
    "import time, socket, urandom, machine\n",
    "from UDPblackviewphone import connectActivePhone, si\n",
    "\n",
    "fconfig = dict(x.strip().split(None, 1)  for x in open(\"config.txt\"))\n",
    "pinled = Pin(int(fconfig[\"pinled\"]), Pin.OUT)\n",
    "deviceletter = fconfig[\"deviceletter\"]\n",
    "c = fconfig[\"connection0\"].split(\",\")\n",
    "hotspots = { c[0].encode(): (c[1].encode(), c[2], int(c[3])) }\n",
    "androidipnumber = c[2]\n",
    "portnumber = int(c[3])\n",
    "print(\"deviceletter\", deviceletter)\n",
    "\n",
    "while not connectActivePhone(pinled, hotspots):\n",
    "    for j in range(3):\n",
    "        for i in range(7):\n",
    "            pinled.value(i%2)\n",
    "            time.sleep_ms(100)\n",
    "        time.sleep_ms(800)\n",
    "\n",
    "def apinfunc(k):\n",
    "    if k[0] == \"t\":\n",
    "        return TouchPad(Pin(int(k[1:])))\n",
    "    return ADC(Pin(int(k)))\n",
    "\n",
    "apin0 = apinfunc(fconfig[\"analogreadpin0\"])\n",
    "apin1 = apinfunc(fconfig[\"analogreadpin1\"])\n",
    "areadrate = int(fconfig[\"analogreadrate\"])\n",
    "\n",
    "nbs = bytearray(\"Nt00000000s000000r000000\\n\")\n",
    "mnbs = memoryview(nbs)\n",
    "\n",
    "tstamparead = time.ticks_ms()\n",
    "i = 0\n",
    "while True:\n",
    "    try:\n",
    "        print(\"making socket\")\n",
    "        try:\n",
    "            ss = socket.socket(socket.AF_INET, socket.SOCK_STREAM)\n",
    "        except OSError as e:\n",
    "            print(\"Socket can't be created\")\n",
    "            break\n",
    "        ss.settimeout(1)\n",
    "        print(\"socket is\", ss)\n",
    "        ss.connect(socket.getaddrinfo(androidipnumber, portnumber)[0][-1])\n",
    "        s = ss.makefile('rwb', 0)\n",
    "        print(s.readline())\n",
    "        s.write(b\"%c%c%c%c\"%(deviceletter,deviceletter,deviceletter,deviceletter))\n",
    "        dwrite = s.write\n",
    "        while True:\n",
    "            tstamp = time.ticks_ms()\n",
    "            if tstamp > tstamparead:\n",
    "                tstamparead = tstamp + areadrate\n",
    "                mnbs[2:10] = b\"%08X\" % tstamp\n",
    "                mnbs[11:17] = b\"%06X\" % apin0.read()\n",
    "                mnbs[18:24] = b\"%06X\" % apin1.read()\n",
    "                dwrite(nbs)\n",
    "                time.sleep_ms(1)\n",
    "                i += 1\n",
    "                if (i%50) == 1:\n",
    "                    print(nbs)\n",
    "                pinled.value((i%10) == 1)\n",
    "                \n",
    "    except OSError as e:\n",
    "        msg = str(e)\n",
    "        if e.args[0] == 118:\n",
    "            msg = \"wifi not connected\"\n",
    "        elif e.args[0] == 23:\n",
    "            msg = \"socket error\"\n",
    "        print(\"OSError\", msg)\n",
    "        time.sleep(2)\n",
    "        \n",
    "    if time.ticks_ms() - tstamparead > 20000:\n",
    "        print(\"Quitting loop after 20 seconds of failure\")\n",
    "        break\n",
    "        \n",
    "print(\"All else fails, try reset\")\n",
    "machine.reset()\n"
   ]
  },
  {
   "cell_type": "code",
   "execution_count": 36,
   "id": "ea95a46b",
   "metadata": {},
   "outputs": [
    {
     "name": "stdout",
     "output_type": "stream",
     "text": [
      "\u001b[34mattempt to exit paste mode\n",
      "\u001b[0m\u001b[34m[\\r\\x03\\x02] \u001b[0mb'\\r\\nMicroPython v1.17 on 2021-09-02; ESP32 module with ESP32\\r\\nType \"help()\" for more information.\\r\\n>>> '\u001b[34m\n",
      "Closing serial Serial<id=0x7f7a41579760, open=True>(port='/dev/ttyUSB1', baudrate=115200, bytesize=8, parity='N', stopbits=1, timeout=0.5, xonxoff=False, rtscts=False, dsrdtr=False)\n",
      "\u001b[0m"
     ]
    }
   ],
   "source": [
    "%disconnect"
   ]
  },
  {
   "cell_type": "code",
   "execution_count": null,
   "id": "70cce982",
   "metadata": {},
   "outputs": [],
   "source": []
  }
 ],
 "metadata": {
  "kernelspec": {
   "display_name": "MicroPython - USB",
   "language": "micropython",
   "name": "micropython"
  },
  "language_info": {
   "codemirror_mode": "python",
   "file_extension": ".py",
   "mimetype": "text/python",
   "name": "micropython"
  }
 },
 "nbformat": 4,
 "nbformat_minor": 5
}
